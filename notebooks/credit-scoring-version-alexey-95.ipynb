{
 "cells": [
  {
   "cell_type": "markdown",
   "id": "novel-mortality",
   "metadata": {
    "_cell_guid": "b1076dfc-b9ad-4769-8c92-a6c4dae69d19",
    "_uuid": "8f2839f25d086af736a60e9eeb907d3b93b6e0e5",
    "papermill": {
     "duration": 0.051379,
     "end_time": "2021-04-16T08:54:12.327232",
     "exception": false,
     "start_time": "2021-04-16T08:54:12.275853",
     "status": "completed"
    },
    "tags": []
   },
   "source": [
    "# [SF-DST] Credit scoring\n",
    "## В этом соревновании предстоит предсказать вероятность дефолта заемщика"
   ]
  },
  {
   "cell_type": "markdown",
   "id": "auburn-stomach",
   "metadata": {
    "papermill": {
     "duration": 0.049371,
     "end_time": "2021-04-16T08:54:12.426188",
     "exception": false,
     "start_time": "2021-04-16T08:54:12.376817",
     "status": "completed"
    },
    "tags": []
   },
   "source": [
    "# Импорт библиотек"
   ]
  },
  {
   "cell_type": "code",
   "execution_count": 1,
   "id": "technological-pollution",
   "metadata": {
    "execution": {
     "iopub.execute_input": "2021-04-16T08:54:12.529629Z",
     "iopub.status.busy": "2021-04-16T08:54:12.528359Z",
     "iopub.status.idle": "2021-04-16T08:54:14.093663Z",
     "shell.execute_reply": "2021-04-16T08:54:14.092971Z"
    },
    "papermill": {
     "duration": 1.618394,
     "end_time": "2021-04-16T08:54:14.093875",
     "exception": false,
     "start_time": "2021-04-16T08:54:12.475481",
     "status": "completed"
    },
    "tags": []
   },
   "outputs": [
    {
     "name": "stdout",
     "output_type": "stream",
     "text": [
      "/kaggle/input/sf-dst-scoring/sample_submission.csv\n",
      "/kaggle/input/sf-dst-scoring/train.csv\n",
      "/kaggle/input/sf-dst-scoring/test.csv\n"
     ]
    }
   ],
   "source": [
    "from pandas import Series \n",
    "import pandas as pd\n",
    "import numpy as np\n",
    "\n",
    "import matplotlib.pyplot as plt\n",
    "import seaborn as sns\n",
    "\n",
    "from sklearn.feature_selection import f_classif, mutual_info_classif\n",
    "from sklearn.preprocessing import LabelEncoder, OneHotEncoder, StandardScaler\n",
    "\n",
    "from sklearn.model_selection import train_test_split\n",
    "from sklearn.linear_model import LogisticRegression\n",
    "\n",
    "\n",
    "from sklearn.metrics import confusion_matrix, auc, roc_auc_score, roc_curve\n",
    "from sklearn.metrics import accuracy_score, precision_score, recall_score, f1_score\n",
    "\n",
    "import warnings\n",
    "warnings.filterwarnings(\"ignore\") \n",
    "\n",
    "import os\n",
    "for dirname, _, filenames in os.walk('/kaggle/input'):\n",
    "    for filename in filenames:\n",
    "        print(os.path.join(dirname, filename))"
   ]
  },
  {
   "cell_type": "code",
   "execution_count": 2,
   "id": "marine-andrews",
   "metadata": {
    "execution": {
     "iopub.execute_input": "2021-04-16T08:54:14.199841Z",
     "iopub.status.busy": "2021-04-16T08:54:14.199160Z",
     "iopub.status.idle": "2021-04-16T08:54:17.080799Z",
     "shell.execute_reply": "2021-04-16T08:54:17.080242Z"
    },
    "papermill": {
     "duration": 2.936157,
     "end_time": "2021-04-16T08:54:17.080957",
     "exception": false,
     "start_time": "2021-04-16T08:54:14.144800",
     "status": "completed"
    },
    "tags": []
   },
   "outputs": [],
   "source": [
    "# зафиксируем версию пакетов, чтобы эксперименты были воспроизводимы:\n",
    "!pip freeze > requirements.txt"
   ]
  },
  {
   "cell_type": "markdown",
   "id": "subtle-sunday",
   "metadata": {
    "papermill": {
     "duration": 0.051163,
     "end_time": "2021-04-16T08:54:17.182917",
     "exception": false,
     "start_time": "2021-04-16T08:54:17.131754",
     "status": "completed"
    },
    "tags": []
   },
   "source": [
    "# Описание функций"
   ]
  },
  {
   "cell_type": "code",
   "execution_count": 3,
   "id": "strategic-cleaners",
   "metadata": {
    "execution": {
     "iopub.execute_input": "2021-04-16T08:54:17.300113Z",
     "iopub.status.busy": "2021-04-16T08:54:17.299380Z",
     "iopub.status.idle": "2021-04-16T08:54:17.303662Z",
     "shell.execute_reply": "2021-04-16T08:54:17.302993Z"
    },
    "papermill": {
     "duration": 0.070496,
     "end_time": "2021-04-16T08:54:17.303829",
     "exception": false,
     "start_time": "2021-04-16T08:54:17.233333",
     "status": "completed"
    },
    "tags": []
   },
   "outputs": [],
   "source": [
    "# Функция для визуализации confusion_matrix\n",
    "def show_confusion_matrix(y_true, y_pred):\n",
    "    color_text = plt.get_cmap('PuBu')(0.95)\n",
    "    class_names = ['Default', 'Non-Default']\n",
    "    cm = confusion_matrix(y_true, y_pred)\n",
    "    cm[0,0], cm[1,1] = cm[1,1], cm[0,0]\n",
    "    df = pd.DataFrame(cm, index=class_names, columns=class_names)\n",
    "    \n",
    "    fig, ax = plt.subplots(figsize=(6, 6))\n",
    "    ax.set(xticks=np.arange(cm.shape[1]), yticks=np.arange(cm.shape[0]), title=\"Confusion Matrix\")\n",
    "    ax.title.set_fontsize(15)\n",
    "    sns.heatmap(df, square=True, annot=True, fmt=\"d\", linewidths=1, cmap=\"PuBu\")\n",
    "    plt.setp(ax.get_yticklabels(), rotation=0, ha=\"right\", rotation_mode=\"anchor\", fontsize=12)\n",
    "    plt.setp(ax.get_xticklabels(), rotation=0, ha=\"center\", rotation_mode=\"anchor\", fontsize=12)\n",
    "    ax.set_ylabel('Predicted Values', fontsize=14, color = color_text)\n",
    "    ax.set_xlabel('Real Values', fontsize=14, color = color_text)\n",
    "    b, t = plt.ylim()\n",
    "    plt.ylim(b+0.5, t-0.5)\n",
    "    fig.tight_layout()\n",
    "    plt.show()"
   ]
  },
  {
   "cell_type": "code",
   "execution_count": 4,
   "id": "naked-documentary",
   "metadata": {
    "execution": {
     "iopub.execute_input": "2021-04-16T08:54:17.418146Z",
     "iopub.status.busy": "2021-04-16T08:54:17.417105Z",
     "iopub.status.idle": "2021-04-16T08:54:17.421491Z",
     "shell.execute_reply": "2021-04-16T08:54:17.420892Z"
    },
    "papermill": {
     "duration": 0.065924,
     "end_time": "2021-04-16T08:54:17.421685",
     "exception": false,
     "start_time": "2021-04-16T08:54:17.355761",
     "status": "completed"
    },
    "tags": []
   },
   "outputs": [],
   "source": [
    "# Функция для вывода метрик для оценки качества модели\n",
    "def all_metrics(y_true, y_pred, y_pred_prob):\n",
    "    dict_metric = {}\n",
    "    P = np.sum(y_true==1)\n",
    "    N = np.sum(y_true==0)\n",
    "    TP = np.sum((y_true==1)&(y_pred==1))\n",
    "    TN = np.sum((y_true==0)&(y_pred==0))\n",
    "    FP = np.sum((y_true==0)&(y_pred==1))\n",
    "    FN = np.sum((y_true==1)&(y_pred==0))\n",
    "    \n",
    "    dict_metric['Positive, P'] = [P,'default']\n",
    "    dict_metric['Negative, N'] = [N,'non-default']\n",
    "    dict_metric['True Positive, TP'] = [TP,'correctly identified default']\n",
    "    dict_metric['True Negative, TN'] = [TN,'correctly identified non-default']\n",
    "    dict_metric['False Positive, FP'] = [FP,'incorrectly identified default']\n",
    "    dict_metric['False Negative, FN'] = [FN,'incorrectly identified non-default']\n",
    "    dict_metric['Accuracy'] = [accuracy_score(y_true, y_pred),'Accuracy=(TP+TN)/(P+N)']\n",
    "    dict_metric['Precision'] = [precision_score(y_true, y_pred),'Precision = TP/(TP+FP)'] \n",
    "    dict_metric['Recall'] = [recall_score(y_true, y_pred),'Recall = TP/P']\n",
    "    dict_metric['F1-score'] = [f1_score(y_true, y_pred),'Harmonical mean of Precision и Recall']\n",
    "    dict_metric['ROC_AUC'] = [roc_auc_score(y_true, y_pred_prob),'ROC AUC Score']    \n",
    "\n",
    "    temp_df = pd.DataFrame.from_dict(dict_metric, orient='index', columns=['Value', 'Description'])\n",
    "    display(temp_df) "
   ]
  },
  {
   "cell_type": "markdown",
   "id": "adverse-tampa",
   "metadata": {
    "papermill": {
     "duration": 0.050084,
     "end_time": "2021-04-16T08:54:17.521854",
     "exception": false,
     "start_time": "2021-04-16T08:54:17.471770",
     "status": "completed"
    },
    "tags": []
   },
   "source": [
    "# Загрузка данных"
   ]
  },
  {
   "cell_type": "code",
   "execution_count": 5,
   "id": "joined-badge",
   "metadata": {
    "execution": {
     "iopub.execute_input": "2021-04-16T08:54:17.628506Z",
     "iopub.status.busy": "2021-04-16T08:54:17.627505Z",
     "iopub.status.idle": "2021-04-16T08:54:17.988083Z",
     "shell.execute_reply": "2021-04-16T08:54:17.986898Z"
    },
    "papermill": {
     "duration": 0.416459,
     "end_time": "2021-04-16T08:54:17.988262",
     "exception": false,
     "start_time": "2021-04-16T08:54:17.571803",
     "status": "completed"
    },
    "tags": []
   },
   "outputs": [],
   "source": [
    "train = pd.read_csv('/kaggle/input/sf-dst-scoring/train.csv')\n",
    "test= pd.read_csv('/kaggle/input/sf-dst-scoring/test.csv')\n",
    "sample_submission = pd.read_csv('/kaggle/input/sf-dst-scoring/sample_submission.csv')"
   ]
  },
  {
   "cell_type": "code",
   "execution_count": 6,
   "id": "computational-alberta",
   "metadata": {
    "execution": {
     "iopub.execute_input": "2021-04-16T08:54:18.116824Z",
     "iopub.status.busy": "2021-04-16T08:54:18.100412Z",
     "iopub.status.idle": "2021-04-16T08:54:18.142506Z",
     "shell.execute_reply": "2021-04-16T08:54:18.141982Z"
    },
    "papermill": {
     "duration": 0.100219,
     "end_time": "2021-04-16T08:54:18.142806",
     "exception": false,
     "start_time": "2021-04-16T08:54:18.042587",
     "status": "completed"
    },
    "tags": []
   },
   "outputs": [
    {
     "data": {
      "text/html": [
       "<div>\n",
       "<style scoped>\n",
       "    .dataframe tbody tr th:only-of-type {\n",
       "        vertical-align: middle;\n",
       "    }\n",
       "\n",
       "    .dataframe tbody tr th {\n",
       "        vertical-align: top;\n",
       "    }\n",
       "\n",
       "    .dataframe thead th {\n",
       "        text-align: right;\n",
       "    }\n",
       "</style>\n",
       "<table border=\"1\" class=\"dataframe\">\n",
       "  <thead>\n",
       "    <tr style=\"text-align: right;\">\n",
       "      <th></th>\n",
       "      <th>client_id</th>\n",
       "      <th>app_date</th>\n",
       "      <th>education</th>\n",
       "      <th>sex</th>\n",
       "      <th>age</th>\n",
       "      <th>car</th>\n",
       "      <th>car_type</th>\n",
       "      <th>decline_app_cnt</th>\n",
       "      <th>good_work</th>\n",
       "      <th>score_bki</th>\n",
       "      <th>bki_request_cnt</th>\n",
       "      <th>region_rating</th>\n",
       "      <th>home_address</th>\n",
       "      <th>work_address</th>\n",
       "      <th>income</th>\n",
       "      <th>sna</th>\n",
       "      <th>first_time</th>\n",
       "      <th>foreign_passport</th>\n",
       "      <th>default</th>\n",
       "    </tr>\n",
       "  </thead>\n",
       "  <tbody>\n",
       "    <tr>\n",
       "      <th>38328</th>\n",
       "      <td>66591</td>\n",
       "      <td>15MAR2014</td>\n",
       "      <td>GRD</td>\n",
       "      <td>M</td>\n",
       "      <td>29</td>\n",
       "      <td>N</td>\n",
       "      <td>N</td>\n",
       "      <td>0</td>\n",
       "      <td>0</td>\n",
       "      <td>-2.060934</td>\n",
       "      <td>4</td>\n",
       "      <td>60</td>\n",
       "      <td>1</td>\n",
       "      <td>3</td>\n",
       "      <td>50000</td>\n",
       "      <td>1</td>\n",
       "      <td>2</td>\n",
       "      <td>N</td>\n",
       "      <td>0</td>\n",
       "    </tr>\n",
       "    <tr>\n",
       "      <th>13932</th>\n",
       "      <td>11377</td>\n",
       "      <td>18JAN2014</td>\n",
       "      <td>GRD</td>\n",
       "      <td>M</td>\n",
       "      <td>52</td>\n",
       "      <td>Y</td>\n",
       "      <td>N</td>\n",
       "      <td>0</td>\n",
       "      <td>0</td>\n",
       "      <td>-0.797521</td>\n",
       "      <td>0</td>\n",
       "      <td>70</td>\n",
       "      <td>1</td>\n",
       "      <td>3</td>\n",
       "      <td>70000</td>\n",
       "      <td>1</td>\n",
       "      <td>4</td>\n",
       "      <td>Y</td>\n",
       "      <td>0</td>\n",
       "    </tr>\n",
       "    <tr>\n",
       "      <th>59668</th>\n",
       "      <td>56852</td>\n",
       "      <td>05MAR2014</td>\n",
       "      <td>SCH</td>\n",
       "      <td>F</td>\n",
       "      <td>40</td>\n",
       "      <td>N</td>\n",
       "      <td>N</td>\n",
       "      <td>0</td>\n",
       "      <td>0</td>\n",
       "      <td>-2.216977</td>\n",
       "      <td>1</td>\n",
       "      <td>60</td>\n",
       "      <td>2</td>\n",
       "      <td>3</td>\n",
       "      <td>15000</td>\n",
       "      <td>3</td>\n",
       "      <td>2</td>\n",
       "      <td>N</td>\n",
       "      <td>0</td>\n",
       "    </tr>\n",
       "    <tr>\n",
       "      <th>34657</th>\n",
       "      <td>13495</td>\n",
       "      <td>21JAN2014</td>\n",
       "      <td>SCH</td>\n",
       "      <td>F</td>\n",
       "      <td>39</td>\n",
       "      <td>N</td>\n",
       "      <td>N</td>\n",
       "      <td>0</td>\n",
       "      <td>0</td>\n",
       "      <td>-1.557471</td>\n",
       "      <td>1</td>\n",
       "      <td>50</td>\n",
       "      <td>1</td>\n",
       "      <td>2</td>\n",
       "      <td>24000</td>\n",
       "      <td>1</td>\n",
       "      <td>4</td>\n",
       "      <td>N</td>\n",
       "      <td>1</td>\n",
       "    </tr>\n",
       "    <tr>\n",
       "      <th>2103</th>\n",
       "      <td>51105</td>\n",
       "      <td>27FEB2014</td>\n",
       "      <td>UGR</td>\n",
       "      <td>M</td>\n",
       "      <td>26</td>\n",
       "      <td>Y</td>\n",
       "      <td>N</td>\n",
       "      <td>0</td>\n",
       "      <td>1</td>\n",
       "      <td>-1.512094</td>\n",
       "      <td>1</td>\n",
       "      <td>50</td>\n",
       "      <td>2</td>\n",
       "      <td>3</td>\n",
       "      <td>30000</td>\n",
       "      <td>1</td>\n",
       "      <td>1</td>\n",
       "      <td>N</td>\n",
       "      <td>1</td>\n",
       "    </tr>\n",
       "  </tbody>\n",
       "</table>\n",
       "</div>"
      ],
      "text/plain": [
       "       client_id   app_date education sex  age car car_type  decline_app_cnt  \\\n",
       "38328      66591  15MAR2014       GRD   M   29   N        N                0   \n",
       "13932      11377  18JAN2014       GRD   M   52   Y        N                0   \n",
       "59668      56852  05MAR2014       SCH   F   40   N        N                0   \n",
       "34657      13495  21JAN2014       SCH   F   39   N        N                0   \n",
       "2103       51105  27FEB2014       UGR   M   26   Y        N                0   \n",
       "\n",
       "       good_work  score_bki  bki_request_cnt  region_rating  home_address  \\\n",
       "38328          0  -2.060934                4             60             1   \n",
       "13932          0  -0.797521                0             70             1   \n",
       "59668          0  -2.216977                1             60             2   \n",
       "34657          0  -1.557471                1             50             1   \n",
       "2103           1  -1.512094                1             50             2   \n",
       "\n",
       "       work_address  income  sna  first_time foreign_passport  default  \n",
       "38328             3   50000    1           2                N        0  \n",
       "13932             3   70000    1           4                Y        0  \n",
       "59668             3   15000    3           2                N        0  \n",
       "34657             2   24000    1           4                N        1  \n",
       "2103              3   30000    1           1                N        1  "
      ]
     },
     "execution_count": 6,
     "metadata": {},
     "output_type": "execute_result"
    }
   ],
   "source": [
    "# Посмотрим на случайные 5 строк обучающей базы\n",
    "train.sample(5)"
   ]
  },
  {
   "cell_type": "code",
   "execution_count": 7,
   "id": "expressed-papua",
   "metadata": {
    "execution": {
     "iopub.execute_input": "2021-04-16T08:54:18.256881Z",
     "iopub.status.busy": "2021-04-16T08:54:18.249639Z",
     "iopub.status.idle": "2021-04-16T08:54:18.270550Z",
     "shell.execute_reply": "2021-04-16T08:54:18.270009Z"
    },
    "papermill": {
     "duration": 0.077208,
     "end_time": "2021-04-16T08:54:18.270732",
     "exception": false,
     "start_time": "2021-04-16T08:54:18.193524",
     "status": "completed"
    },
    "tags": []
   },
   "outputs": [
    {
     "data": {
      "text/html": [
       "<div>\n",
       "<style scoped>\n",
       "    .dataframe tbody tr th:only-of-type {\n",
       "        vertical-align: middle;\n",
       "    }\n",
       "\n",
       "    .dataframe tbody tr th {\n",
       "        vertical-align: top;\n",
       "    }\n",
       "\n",
       "    .dataframe thead th {\n",
       "        text-align: right;\n",
       "    }\n",
       "</style>\n",
       "<table border=\"1\" class=\"dataframe\">\n",
       "  <thead>\n",
       "    <tr style=\"text-align: right;\">\n",
       "      <th></th>\n",
       "      <th>client_id</th>\n",
       "      <th>app_date</th>\n",
       "      <th>education</th>\n",
       "      <th>sex</th>\n",
       "      <th>age</th>\n",
       "      <th>car</th>\n",
       "      <th>car_type</th>\n",
       "      <th>decline_app_cnt</th>\n",
       "      <th>good_work</th>\n",
       "      <th>score_bki</th>\n",
       "      <th>bki_request_cnt</th>\n",
       "      <th>region_rating</th>\n",
       "      <th>home_address</th>\n",
       "      <th>work_address</th>\n",
       "      <th>income</th>\n",
       "      <th>sna</th>\n",
       "      <th>first_time</th>\n",
       "      <th>foreign_passport</th>\n",
       "    </tr>\n",
       "  </thead>\n",
       "  <tbody>\n",
       "    <tr>\n",
       "      <th>15484</th>\n",
       "      <td>49451</td>\n",
       "      <td>26FEB2014</td>\n",
       "      <td>GRD</td>\n",
       "      <td>F</td>\n",
       "      <td>28</td>\n",
       "      <td>Y</td>\n",
       "      <td>Y</td>\n",
       "      <td>0</td>\n",
       "      <td>1</td>\n",
       "      <td>-1.606393</td>\n",
       "      <td>32</td>\n",
       "      <td>70</td>\n",
       "      <td>2</td>\n",
       "      <td>3</td>\n",
       "      <td>320000</td>\n",
       "      <td>1</td>\n",
       "      <td>3</td>\n",
       "      <td>Y</td>\n",
       "    </tr>\n",
       "    <tr>\n",
       "      <th>3939</th>\n",
       "      <td>84208</td>\n",
       "      <td>01APR2014</td>\n",
       "      <td>UGR</td>\n",
       "      <td>F</td>\n",
       "      <td>31</td>\n",
       "      <td>N</td>\n",
       "      <td>N</td>\n",
       "      <td>1</td>\n",
       "      <td>0</td>\n",
       "      <td>-0.967209</td>\n",
       "      <td>4</td>\n",
       "      <td>60</td>\n",
       "      <td>2</td>\n",
       "      <td>3</td>\n",
       "      <td>40000</td>\n",
       "      <td>2</td>\n",
       "      <td>4</td>\n",
       "      <td>N</td>\n",
       "    </tr>\n",
       "    <tr>\n",
       "      <th>7080</th>\n",
       "      <td>65873</td>\n",
       "      <td>14MAR2014</td>\n",
       "      <td>SCH</td>\n",
       "      <td>F</td>\n",
       "      <td>54</td>\n",
       "      <td>Y</td>\n",
       "      <td>N</td>\n",
       "      <td>0</td>\n",
       "      <td>0</td>\n",
       "      <td>-1.315291</td>\n",
       "      <td>3</td>\n",
       "      <td>80</td>\n",
       "      <td>2</td>\n",
       "      <td>3</td>\n",
       "      <td>16000</td>\n",
       "      <td>1</td>\n",
       "      <td>3</td>\n",
       "      <td>Y</td>\n",
       "    </tr>\n",
       "    <tr>\n",
       "      <th>31110</th>\n",
       "      <td>17052</td>\n",
       "      <td>24JAN2014</td>\n",
       "      <td>SCH</td>\n",
       "      <td>F</td>\n",
       "      <td>34</td>\n",
       "      <td>N</td>\n",
       "      <td>N</td>\n",
       "      <td>0</td>\n",
       "      <td>0</td>\n",
       "      <td>-1.988373</td>\n",
       "      <td>2</td>\n",
       "      <td>80</td>\n",
       "      <td>2</td>\n",
       "      <td>3</td>\n",
       "      <td>50000</td>\n",
       "      <td>1</td>\n",
       "      <td>3</td>\n",
       "      <td>N</td>\n",
       "    </tr>\n",
       "    <tr>\n",
       "      <th>6247</th>\n",
       "      <td>22730</td>\n",
       "      <td>29JAN2014</td>\n",
       "      <td>GRD</td>\n",
       "      <td>M</td>\n",
       "      <td>30</td>\n",
       "      <td>N</td>\n",
       "      <td>N</td>\n",
       "      <td>0</td>\n",
       "      <td>0</td>\n",
       "      <td>-1.166273</td>\n",
       "      <td>1</td>\n",
       "      <td>40</td>\n",
       "      <td>1</td>\n",
       "      <td>3</td>\n",
       "      <td>40000</td>\n",
       "      <td>1</td>\n",
       "      <td>3</td>\n",
       "      <td>Y</td>\n",
       "    </tr>\n",
       "  </tbody>\n",
       "</table>\n",
       "</div>"
      ],
      "text/plain": [
       "       client_id   app_date education sex  age car car_type  decline_app_cnt  \\\n",
       "15484      49451  26FEB2014       GRD   F   28   Y        Y                0   \n",
       "3939       84208  01APR2014       UGR   F   31   N        N                1   \n",
       "7080       65873  14MAR2014       SCH   F   54   Y        N                0   \n",
       "31110      17052  24JAN2014       SCH   F   34   N        N                0   \n",
       "6247       22730  29JAN2014       GRD   M   30   N        N                0   \n",
       "\n",
       "       good_work  score_bki  bki_request_cnt  region_rating  home_address  \\\n",
       "15484          1  -1.606393               32             70             2   \n",
       "3939           0  -0.967209                4             60             2   \n",
       "7080           0  -1.315291                3             80             2   \n",
       "31110          0  -1.988373                2             80             2   \n",
       "6247           0  -1.166273                1             40             1   \n",
       "\n",
       "       work_address  income  sna  first_time foreign_passport  \n",
       "15484             3  320000    1           3                Y  \n",
       "3939              3   40000    2           4                N  \n",
       "7080              3   16000    1           3                Y  \n",
       "31110             3   50000    1           3                N  \n",
       "6247              3   40000    1           3                Y  "
      ]
     },
     "execution_count": 7,
     "metadata": {},
     "output_type": "execute_result"
    }
   ],
   "source": [
    "# Посмотрим на случайные 5 строк тестовой базы\n",
    "test.sample(5)"
   ]
  },
  {
   "cell_type": "markdown",
   "id": "acoustic-haiti",
   "metadata": {
    "papermill": {
     "duration": 0.050935,
     "end_time": "2021-04-16T08:54:18.373530",
     "exception": false,
     "start_time": "2021-04-16T08:54:18.322595",
     "status": "completed"
    },
    "tags": []
   },
   "source": [
    "Подробнее по признакам:\n",
    "* client_id - идентификатор клиента\n",
    "* education - уровень образования\n",
    "* sex - пол заемщика\n",
    "* age - возраст заемщика\n",
    "* car - флаг наличия автомобиля\n",
    "* car_type - флаг автомобиля иномарки\n",
    "* decline_app_cnt - количество отказанных прошлых заявок\n",
    "* good_work - флаг наличия “хорошей” работы\n",
    "* bki_request_cnt - количество запросов в БКИ\n",
    "* home_address - категоризатор домашнего адреса\n",
    "* work_address - категоризатор рабочего адреса\n",
    "* income - доход заемщика\n",
    "* foreign_passport - наличие загранпаспорта\n",
    "* sna - связь заемщика с клиентами банка\n",
    "* first_time - давность наличия информации о заемщике\n",
    "* score_bki - скоринговый балл по данным из БКИ\n",
    "* region_rating - рейтинг региона\n",
    "* app_date - дата подачи заявки\n",
    "* default - флаг дефолта по кредиту"
   ]
  },
  {
   "cell_type": "code",
   "execution_count": 8,
   "id": "attractive-norway",
   "metadata": {
    "execution": {
     "iopub.execute_input": "2021-04-16T08:54:18.486073Z",
     "iopub.status.busy": "2021-04-16T08:54:18.484796Z",
     "iopub.status.idle": "2021-04-16T08:54:18.489717Z",
     "shell.execute_reply": "2021-04-16T08:54:18.489198Z"
    },
    "papermill": {
     "duration": 0.065328,
     "end_time": "2021-04-16T08:54:18.489868",
     "exception": false,
     "start_time": "2021-04-16T08:54:18.424540",
     "status": "completed"
    },
    "tags": []
   },
   "outputs": [
    {
     "data": {
      "text/html": [
       "<div>\n",
       "<style scoped>\n",
       "    .dataframe tbody tr th:only-of-type {\n",
       "        vertical-align: middle;\n",
       "    }\n",
       "\n",
       "    .dataframe tbody tr th {\n",
       "        vertical-align: top;\n",
       "    }\n",
       "\n",
       "    .dataframe thead th {\n",
       "        text-align: right;\n",
       "    }\n",
       "</style>\n",
       "<table border=\"1\" class=\"dataframe\">\n",
       "  <thead>\n",
       "    <tr style=\"text-align: right;\">\n",
       "      <th></th>\n",
       "      <th>client_id</th>\n",
       "      <th>default</th>\n",
       "    </tr>\n",
       "  </thead>\n",
       "  <tbody>\n",
       "    <tr>\n",
       "      <th>0</th>\n",
       "      <td>66799</td>\n",
       "      <td>0.441004</td>\n",
       "    </tr>\n",
       "    <tr>\n",
       "      <th>1</th>\n",
       "      <td>25379</td>\n",
       "      <td>0.138092</td>\n",
       "    </tr>\n",
       "    <tr>\n",
       "      <th>2</th>\n",
       "      <td>28825</td>\n",
       "      <td>0.373370</td>\n",
       "    </tr>\n",
       "    <tr>\n",
       "      <th>3</th>\n",
       "      <td>37530</td>\n",
       "      <td>0.476501</td>\n",
       "    </tr>\n",
       "    <tr>\n",
       "      <th>4</th>\n",
       "      <td>4264</td>\n",
       "      <td>0.304640</td>\n",
       "    </tr>\n",
       "    <tr>\n",
       "      <th>5</th>\n",
       "      <td>175</td>\n",
       "      <td>0.311599</td>\n",
       "    </tr>\n",
       "    <tr>\n",
       "      <th>6</th>\n",
       "      <td>57558</td>\n",
       "      <td>0.584807</td>\n",
       "    </tr>\n",
       "    <tr>\n",
       "      <th>7</th>\n",
       "      <td>88407</td>\n",
       "      <td>0.815792</td>\n",
       "    </tr>\n",
       "    <tr>\n",
       "      <th>8</th>\n",
       "      <td>79183</td>\n",
       "      <td>0.325037</td>\n",
       "    </tr>\n",
       "    <tr>\n",
       "      <th>9</th>\n",
       "      <td>69300</td>\n",
       "      <td>0.094011</td>\n",
       "    </tr>\n",
       "  </tbody>\n",
       "</table>\n",
       "</div>"
      ],
      "text/plain": [
       "   client_id   default\n",
       "0      66799  0.441004\n",
       "1      25379  0.138092\n",
       "2      28825  0.373370\n",
       "3      37530  0.476501\n",
       "4       4264  0.304640\n",
       "5        175  0.311599\n",
       "6      57558  0.584807\n",
       "7      88407  0.815792\n",
       "8      79183  0.325037\n",
       "9      69300  0.094011"
      ]
     },
     "execution_count": 8,
     "metadata": {},
     "output_type": "execute_result"
    }
   ],
   "source": [
    "# Посмотрим на первые 10 строк sample_submission\n",
    "sample_submission.head(10)"
   ]
  },
  {
   "cell_type": "code",
   "execution_count": 9,
   "id": "assisted-relief",
   "metadata": {
    "execution": {
     "iopub.execute_input": "2021-04-16T08:54:18.600310Z",
     "iopub.status.busy": "2021-04-16T08:54:18.599614Z",
     "iopub.status.idle": "2021-04-16T08:54:18.664852Z",
     "shell.execute_reply": "2021-04-16T08:54:18.665347Z"
    },
    "papermill": {
     "duration": 0.123525,
     "end_time": "2021-04-16T08:54:18.665544",
     "exception": false,
     "start_time": "2021-04-16T08:54:18.542019",
     "status": "completed"
    },
    "tags": []
   },
   "outputs": [
    {
     "name": "stdout",
     "output_type": "stream",
     "text": [
      "<class 'pandas.core.frame.DataFrame'>\n",
      "RangeIndex: 73799 entries, 0 to 73798\n",
      "Data columns (total 19 columns):\n",
      " #   Column            Non-Null Count  Dtype  \n",
      "---  ------            --------------  -----  \n",
      " 0   client_id         73799 non-null  int64  \n",
      " 1   app_date          73799 non-null  object \n",
      " 2   education         73492 non-null  object \n",
      " 3   sex               73799 non-null  object \n",
      " 4   age               73799 non-null  int64  \n",
      " 5   car               73799 non-null  object \n",
      " 6   car_type          73799 non-null  object \n",
      " 7   decline_app_cnt   73799 non-null  int64  \n",
      " 8   good_work         73799 non-null  int64  \n",
      " 9   score_bki         73799 non-null  float64\n",
      " 10  bki_request_cnt   73799 non-null  int64  \n",
      " 11  region_rating     73799 non-null  int64  \n",
      " 12  home_address      73799 non-null  int64  \n",
      " 13  work_address      73799 non-null  int64  \n",
      " 14  income            73799 non-null  int64  \n",
      " 15  sna               73799 non-null  int64  \n",
      " 16  first_time        73799 non-null  int64  \n",
      " 17  foreign_passport  73799 non-null  object \n",
      " 18  default           73799 non-null  int64  \n",
      "dtypes: float64(1), int64(12), object(6)\n",
      "memory usage: 10.7+ MB\n"
     ]
    }
   ],
   "source": [
    "# Информация об обучающей базе\n",
    "train.info()"
   ]
  },
  {
   "cell_type": "code",
   "execution_count": 10,
   "id": "blessed-creek",
   "metadata": {
    "execution": {
     "iopub.execute_input": "2021-04-16T08:54:18.799577Z",
     "iopub.status.busy": "2021-04-16T08:54:18.777694Z",
     "iopub.status.idle": "2021-04-16T08:54:18.815210Z",
     "shell.execute_reply": "2021-04-16T08:54:18.814194Z"
    },
    "papermill": {
     "duration": 0.096535,
     "end_time": "2021-04-16T08:54:18.815363",
     "exception": false,
     "start_time": "2021-04-16T08:54:18.718828",
     "status": "completed"
    },
    "tags": []
   },
   "outputs": [
    {
     "name": "stdout",
     "output_type": "stream",
     "text": [
      "<class 'pandas.core.frame.DataFrame'>\n",
      "RangeIndex: 36349 entries, 0 to 36348\n",
      "Data columns (total 18 columns):\n",
      " #   Column            Non-Null Count  Dtype  \n",
      "---  ------            --------------  -----  \n",
      " 0   client_id         36349 non-null  int64  \n",
      " 1   app_date          36349 non-null  object \n",
      " 2   education         36178 non-null  object \n",
      " 3   sex               36349 non-null  object \n",
      " 4   age               36349 non-null  int64  \n",
      " 5   car               36349 non-null  object \n",
      " 6   car_type          36349 non-null  object \n",
      " 7   decline_app_cnt   36349 non-null  int64  \n",
      " 8   good_work         36349 non-null  int64  \n",
      " 9   score_bki         36349 non-null  float64\n",
      " 10  bki_request_cnt   36349 non-null  int64  \n",
      " 11  region_rating     36349 non-null  int64  \n",
      " 12  home_address      36349 non-null  int64  \n",
      " 13  work_address      36349 non-null  int64  \n",
      " 14  income            36349 non-null  int64  \n",
      " 15  sna               36349 non-null  int64  \n",
      " 16  first_time        36349 non-null  int64  \n",
      " 17  foreign_passport  36349 non-null  object \n",
      "dtypes: float64(1), int64(11), object(6)\n",
      "memory usage: 5.0+ MB\n"
     ]
    }
   ],
   "source": [
    "# Информация о тестовой базе\n",
    "test.info()"
   ]
  },
  {
   "cell_type": "code",
   "execution_count": 11,
   "id": "religious-dodge",
   "metadata": {
    "execution": {
     "iopub.execute_input": "2021-04-16T08:54:18.934652Z",
     "iopub.status.busy": "2021-04-16T08:54:18.933858Z",
     "iopub.status.idle": "2021-04-16T08:54:19.013151Z",
     "shell.execute_reply": "2021-04-16T08:54:19.012454Z"
    },
    "papermill": {
     "duration": 0.144459,
     "end_time": "2021-04-16T08:54:19.013296",
     "exception": false,
     "start_time": "2021-04-16T08:54:18.868837",
     "status": "completed"
    },
    "tags": []
   },
   "outputs": [
    {
     "data": {
      "text/html": [
       "<div>\n",
       "<style scoped>\n",
       "    .dataframe tbody tr th:only-of-type {\n",
       "        vertical-align: middle;\n",
       "    }\n",
       "\n",
       "    .dataframe tbody tr th {\n",
       "        vertical-align: top;\n",
       "    }\n",
       "\n",
       "    .dataframe thead th {\n",
       "        text-align: right;\n",
       "    }\n",
       "</style>\n",
       "<table border=\"1\" class=\"dataframe\">\n",
       "  <thead>\n",
       "    <tr style=\"text-align: right;\">\n",
       "      <th></th>\n",
       "      <th>client_id</th>\n",
       "      <th>age</th>\n",
       "      <th>decline_app_cnt</th>\n",
       "      <th>good_work</th>\n",
       "      <th>score_bki</th>\n",
       "      <th>bki_request_cnt</th>\n",
       "      <th>region_rating</th>\n",
       "      <th>home_address</th>\n",
       "      <th>work_address</th>\n",
       "      <th>income</th>\n",
       "      <th>sna</th>\n",
       "      <th>first_time</th>\n",
       "      <th>default</th>\n",
       "    </tr>\n",
       "  </thead>\n",
       "  <tbody>\n",
       "    <tr>\n",
       "      <th>count</th>\n",
       "      <td>73799.000000</td>\n",
       "      <td>73799.000000</td>\n",
       "      <td>73799.000000</td>\n",
       "      <td>73799.000000</td>\n",
       "      <td>73799.000000</td>\n",
       "      <td>73799.000000</td>\n",
       "      <td>73799.000000</td>\n",
       "      <td>73799.000000</td>\n",
       "      <td>73799.000000</td>\n",
       "      <td>73799.000000</td>\n",
       "      <td>73799.000000</td>\n",
       "      <td>73799.000000</td>\n",
       "      <td>73799.000000</td>\n",
       "    </tr>\n",
       "    <tr>\n",
       "      <th>mean</th>\n",
       "      <td>55137.965094</td>\n",
       "      <td>39.280641</td>\n",
       "      <td>0.275749</td>\n",
       "      <td>0.164894</td>\n",
       "      <td>-1.904724</td>\n",
       "      <td>2.000339</td>\n",
       "      <td>56.725701</td>\n",
       "      <td>1.575509</td>\n",
       "      <td>2.496280</td>\n",
       "      <td>41099.775417</td>\n",
       "      <td>1.733330</td>\n",
       "      <td>2.765458</td>\n",
       "      <td>0.126994</td>\n",
       "    </tr>\n",
       "    <tr>\n",
       "      <th>std</th>\n",
       "      <td>31841.921168</td>\n",
       "      <td>11.520378</td>\n",
       "      <td>0.804272</td>\n",
       "      <td>0.371087</td>\n",
       "      <td>0.498231</td>\n",
       "      <td>2.252073</td>\n",
       "      <td>13.055717</td>\n",
       "      <td>0.527631</td>\n",
       "      <td>0.689818</td>\n",
       "      <td>46166.322400</td>\n",
       "      <td>1.123622</td>\n",
       "      <td>1.009463</td>\n",
       "      <td>0.332968</td>\n",
       "    </tr>\n",
       "    <tr>\n",
       "      <th>min</th>\n",
       "      <td>1.000000</td>\n",
       "      <td>21.000000</td>\n",
       "      <td>0.000000</td>\n",
       "      <td>0.000000</td>\n",
       "      <td>-3.624586</td>\n",
       "      <td>0.000000</td>\n",
       "      <td>20.000000</td>\n",
       "      <td>1.000000</td>\n",
       "      <td>1.000000</td>\n",
       "      <td>1000.000000</td>\n",
       "      <td>1.000000</td>\n",
       "      <td>1.000000</td>\n",
       "      <td>0.000000</td>\n",
       "    </tr>\n",
       "    <tr>\n",
       "      <th>25%</th>\n",
       "      <td>27440.500000</td>\n",
       "      <td>30.000000</td>\n",
       "      <td>0.000000</td>\n",
       "      <td>0.000000</td>\n",
       "      <td>-2.259534</td>\n",
       "      <td>0.000000</td>\n",
       "      <td>50.000000</td>\n",
       "      <td>1.000000</td>\n",
       "      <td>2.000000</td>\n",
       "      <td>20000.000000</td>\n",
       "      <td>1.000000</td>\n",
       "      <td>2.000000</td>\n",
       "      <td>0.000000</td>\n",
       "    </tr>\n",
       "    <tr>\n",
       "      <th>50%</th>\n",
       "      <td>55274.000000</td>\n",
       "      <td>37.000000</td>\n",
       "      <td>0.000000</td>\n",
       "      <td>0.000000</td>\n",
       "      <td>-1.920823</td>\n",
       "      <td>1.000000</td>\n",
       "      <td>50.000000</td>\n",
       "      <td>2.000000</td>\n",
       "      <td>3.000000</td>\n",
       "      <td>30000.000000</td>\n",
       "      <td>1.000000</td>\n",
       "      <td>3.000000</td>\n",
       "      <td>0.000000</td>\n",
       "    </tr>\n",
       "    <tr>\n",
       "      <th>75%</th>\n",
       "      <td>82758.500000</td>\n",
       "      <td>48.000000</td>\n",
       "      <td>0.000000</td>\n",
       "      <td>0.000000</td>\n",
       "      <td>-1.569831</td>\n",
       "      <td>3.000000</td>\n",
       "      <td>60.000000</td>\n",
       "      <td>2.000000</td>\n",
       "      <td>3.000000</td>\n",
       "      <td>48000.000000</td>\n",
       "      <td>2.000000</td>\n",
       "      <td>4.000000</td>\n",
       "      <td>0.000000</td>\n",
       "    </tr>\n",
       "    <tr>\n",
       "      <th>max</th>\n",
       "      <td>110147.000000</td>\n",
       "      <td>72.000000</td>\n",
       "      <td>33.000000</td>\n",
       "      <td>1.000000</td>\n",
       "      <td>0.199773</td>\n",
       "      <td>53.000000</td>\n",
       "      <td>80.000000</td>\n",
       "      <td>3.000000</td>\n",
       "      <td>3.000000</td>\n",
       "      <td>1000000.000000</td>\n",
       "      <td>4.000000</td>\n",
       "      <td>4.000000</td>\n",
       "      <td>1.000000</td>\n",
       "    </tr>\n",
       "  </tbody>\n",
       "</table>\n",
       "</div>"
      ],
      "text/plain": [
       "           client_id           age  decline_app_cnt     good_work  \\\n",
       "count   73799.000000  73799.000000     73799.000000  73799.000000   \n",
       "mean    55137.965094     39.280641         0.275749      0.164894   \n",
       "std     31841.921168     11.520378         0.804272      0.371087   \n",
       "min         1.000000     21.000000         0.000000      0.000000   \n",
       "25%     27440.500000     30.000000         0.000000      0.000000   \n",
       "50%     55274.000000     37.000000         0.000000      0.000000   \n",
       "75%     82758.500000     48.000000         0.000000      0.000000   \n",
       "max    110147.000000     72.000000        33.000000      1.000000   \n",
       "\n",
       "          score_bki  bki_request_cnt  region_rating  home_address  \\\n",
       "count  73799.000000     73799.000000   73799.000000  73799.000000   \n",
       "mean      -1.904724         2.000339      56.725701      1.575509   \n",
       "std        0.498231         2.252073      13.055717      0.527631   \n",
       "min       -3.624586         0.000000      20.000000      1.000000   \n",
       "25%       -2.259534         0.000000      50.000000      1.000000   \n",
       "50%       -1.920823         1.000000      50.000000      2.000000   \n",
       "75%       -1.569831         3.000000      60.000000      2.000000   \n",
       "max        0.199773        53.000000      80.000000      3.000000   \n",
       "\n",
       "       work_address          income           sna    first_time       default  \n",
       "count  73799.000000    73799.000000  73799.000000  73799.000000  73799.000000  \n",
       "mean       2.496280    41099.775417      1.733330      2.765458      0.126994  \n",
       "std        0.689818    46166.322400      1.123622      1.009463      0.332968  \n",
       "min        1.000000     1000.000000      1.000000      1.000000      0.000000  \n",
       "25%        2.000000    20000.000000      1.000000      2.000000      0.000000  \n",
       "50%        3.000000    30000.000000      1.000000      3.000000      0.000000  \n",
       "75%        3.000000    48000.000000      2.000000      4.000000      0.000000  \n",
       "max        3.000000  1000000.000000      4.000000      4.000000      1.000000  "
      ]
     },
     "execution_count": 11,
     "metadata": {},
     "output_type": "execute_result"
    }
   ],
   "source": [
    "# Статистическая информация об обучающей базе\n",
    "train.describe()"
   ]
  },
  {
   "cell_type": "code",
   "execution_count": 12,
   "id": "reduced-harrison",
   "metadata": {
    "execution": {
     "iopub.execute_input": "2021-04-16T08:54:19.130519Z",
     "iopub.status.busy": "2021-04-16T08:54:19.129868Z",
     "iopub.status.idle": "2021-04-16T08:54:19.183656Z",
     "shell.execute_reply": "2021-04-16T08:54:19.183083Z"
    },
    "papermill": {
     "duration": 0.116834,
     "end_time": "2021-04-16T08:54:19.183822",
     "exception": false,
     "start_time": "2021-04-16T08:54:19.066988",
     "status": "completed"
    },
    "tags": []
   },
   "outputs": [
    {
     "data": {
      "text/html": [
       "<div>\n",
       "<style scoped>\n",
       "    .dataframe tbody tr th:only-of-type {\n",
       "        vertical-align: middle;\n",
       "    }\n",
       "\n",
       "    .dataframe tbody tr th {\n",
       "        vertical-align: top;\n",
       "    }\n",
       "\n",
       "    .dataframe thead th {\n",
       "        text-align: right;\n",
       "    }\n",
       "</style>\n",
       "<table border=\"1\" class=\"dataframe\">\n",
       "  <thead>\n",
       "    <tr style=\"text-align: right;\">\n",
       "      <th></th>\n",
       "      <th>client_id</th>\n",
       "      <th>age</th>\n",
       "      <th>decline_app_cnt</th>\n",
       "      <th>good_work</th>\n",
       "      <th>score_bki</th>\n",
       "      <th>bki_request_cnt</th>\n",
       "      <th>region_rating</th>\n",
       "      <th>home_address</th>\n",
       "      <th>work_address</th>\n",
       "      <th>income</th>\n",
       "      <th>sna</th>\n",
       "      <th>first_time</th>\n",
       "    </tr>\n",
       "  </thead>\n",
       "  <tbody>\n",
       "    <tr>\n",
       "      <th>count</th>\n",
       "      <td>36349.000000</td>\n",
       "      <td>36349.000000</td>\n",
       "      <td>36349.000000</td>\n",
       "      <td>36349.000000</td>\n",
       "      <td>36349.000000</td>\n",
       "      <td>36349.000000</td>\n",
       "      <td>36349.000000</td>\n",
       "      <td>36349.000000</td>\n",
       "      <td>36349.000000</td>\n",
       "      <td>36349.000000</td>\n",
       "      <td>36349.000000</td>\n",
       "      <td>36349.000000</td>\n",
       "    </tr>\n",
       "    <tr>\n",
       "      <th>mean</th>\n",
       "      <td>54945.647473</td>\n",
       "      <td>39.186002</td>\n",
       "      <td>0.268040</td>\n",
       "      <td>0.166772</td>\n",
       "      <td>-1.904152</td>\n",
       "      <td>2.014471</td>\n",
       "      <td>56.802938</td>\n",
       "      <td>1.573798</td>\n",
       "      <td>2.501087</td>\n",
       "      <td>40835.755729</td>\n",
       "      <td>1.728053</td>\n",
       "      <td>2.765798</td>\n",
       "    </tr>\n",
       "    <tr>\n",
       "      <th>std</th>\n",
       "      <td>31706.052195</td>\n",
       "      <td>11.513258</td>\n",
       "      <td>0.788478</td>\n",
       "      <td>0.372777</td>\n",
       "      <td>0.501764</td>\n",
       "      <td>2.296789</td>\n",
       "      <td>13.086646</td>\n",
       "      <td>0.527428</td>\n",
       "      <td>0.683227</td>\n",
       "      <td>43802.180951</td>\n",
       "      <td>1.120686</td>\n",
       "      <td>1.011560</td>\n",
       "    </tr>\n",
       "    <tr>\n",
       "      <th>min</th>\n",
       "      <td>4.000000</td>\n",
       "      <td>21.000000</td>\n",
       "      <td>0.000000</td>\n",
       "      <td>0.000000</td>\n",
       "      <td>-3.574197</td>\n",
       "      <td>0.000000</td>\n",
       "      <td>20.000000</td>\n",
       "      <td>1.000000</td>\n",
       "      <td>1.000000</td>\n",
       "      <td>1000.000000</td>\n",
       "      <td>1.000000</td>\n",
       "      <td>1.000000</td>\n",
       "    </tr>\n",
       "    <tr>\n",
       "      <th>25%</th>\n",
       "      <td>27744.000000</td>\n",
       "      <td>30.000000</td>\n",
       "      <td>0.000000</td>\n",
       "      <td>0.000000</td>\n",
       "      <td>-2.261909</td>\n",
       "      <td>0.000000</td>\n",
       "      <td>50.000000</td>\n",
       "      <td>1.000000</td>\n",
       "      <td>2.000000</td>\n",
       "      <td>20000.000000</td>\n",
       "      <td>1.000000</td>\n",
       "      <td>2.000000</td>\n",
       "    </tr>\n",
       "    <tr>\n",
       "      <th>50%</th>\n",
       "      <td>54657.000000</td>\n",
       "      <td>37.000000</td>\n",
       "      <td>0.000000</td>\n",
       "      <td>0.000000</td>\n",
       "      <td>-1.920823</td>\n",
       "      <td>1.000000</td>\n",
       "      <td>50.000000</td>\n",
       "      <td>2.000000</td>\n",
       "      <td>3.000000</td>\n",
       "      <td>30000.000000</td>\n",
       "      <td>1.000000</td>\n",
       "      <td>3.000000</td>\n",
       "    </tr>\n",
       "    <tr>\n",
       "      <th>75%</th>\n",
       "      <td>82322.000000</td>\n",
       "      <td>48.000000</td>\n",
       "      <td>0.000000</td>\n",
       "      <td>0.000000</td>\n",
       "      <td>-1.563957</td>\n",
       "      <td>3.000000</td>\n",
       "      <td>60.000000</td>\n",
       "      <td>2.000000</td>\n",
       "      <td>3.000000</td>\n",
       "      <td>48000.000000</td>\n",
       "      <td>2.000000</td>\n",
       "      <td>4.000000</td>\n",
       "    </tr>\n",
       "    <tr>\n",
       "      <th>max</th>\n",
       "      <td>110148.000000</td>\n",
       "      <td>71.000000</td>\n",
       "      <td>30.000000</td>\n",
       "      <td>1.000000</td>\n",
       "      <td>0.188820</td>\n",
       "      <td>47.000000</td>\n",
       "      <td>80.000000</td>\n",
       "      <td>3.000000</td>\n",
       "      <td>3.000000</td>\n",
       "      <td>1000000.000000</td>\n",
       "      <td>4.000000</td>\n",
       "      <td>4.000000</td>\n",
       "    </tr>\n",
       "  </tbody>\n",
       "</table>\n",
       "</div>"
      ],
      "text/plain": [
       "           client_id           age  decline_app_cnt     good_work  \\\n",
       "count   36349.000000  36349.000000     36349.000000  36349.000000   \n",
       "mean    54945.647473     39.186002         0.268040      0.166772   \n",
       "std     31706.052195     11.513258         0.788478      0.372777   \n",
       "min         4.000000     21.000000         0.000000      0.000000   \n",
       "25%     27744.000000     30.000000         0.000000      0.000000   \n",
       "50%     54657.000000     37.000000         0.000000      0.000000   \n",
       "75%     82322.000000     48.000000         0.000000      0.000000   \n",
       "max    110148.000000     71.000000        30.000000      1.000000   \n",
       "\n",
       "          score_bki  bki_request_cnt  region_rating  home_address  \\\n",
       "count  36349.000000     36349.000000   36349.000000  36349.000000   \n",
       "mean      -1.904152         2.014471      56.802938      1.573798   \n",
       "std        0.501764         2.296789      13.086646      0.527428   \n",
       "min       -3.574197         0.000000      20.000000      1.000000   \n",
       "25%       -2.261909         0.000000      50.000000      1.000000   \n",
       "50%       -1.920823         1.000000      50.000000      2.000000   \n",
       "75%       -1.563957         3.000000      60.000000      2.000000   \n",
       "max        0.188820        47.000000      80.000000      3.000000   \n",
       "\n",
       "       work_address          income           sna    first_time  \n",
       "count  36349.000000    36349.000000  36349.000000  36349.000000  \n",
       "mean       2.501087    40835.755729      1.728053      2.765798  \n",
       "std        0.683227    43802.180951      1.120686      1.011560  \n",
       "min        1.000000     1000.000000      1.000000      1.000000  \n",
       "25%        2.000000    20000.000000      1.000000      2.000000  \n",
       "50%        3.000000    30000.000000      1.000000      3.000000  \n",
       "75%        3.000000    48000.000000      2.000000      4.000000  \n",
       "max        3.000000  1000000.000000      4.000000      4.000000  "
      ]
     },
     "execution_count": 12,
     "metadata": {},
     "output_type": "execute_result"
    }
   ],
   "source": [
    "# Статистическая информация о тестовой базе\n",
    "test.describe()"
   ]
  },
  {
   "cell_type": "markdown",
   "id": "elementary-faculty",
   "metadata": {
    "papermill": {
     "duration": 0.055394,
     "end_time": "2021-04-16T08:54:19.294028",
     "exception": false,
     "start_time": "2021-04-16T08:54:19.238634",
     "status": "completed"
    },
    "tags": []
   },
   "source": [
    "# Предобработка данных"
   ]
  },
  {
   "cell_type": "code",
   "execution_count": 13,
   "id": "accessible-suspect",
   "metadata": {
    "execution": {
     "iopub.execute_input": "2021-04-16T08:54:19.408567Z",
     "iopub.status.busy": "2021-04-16T08:54:19.407891Z",
     "iopub.status.idle": "2021-04-16T08:54:19.415082Z",
     "shell.execute_reply": "2021-04-16T08:54:19.414426Z"
    },
    "papermill": {
     "duration": 0.066637,
     "end_time": "2021-04-16T08:54:19.415227",
     "exception": false,
     "start_time": "2021-04-16T08:54:19.348590",
     "status": "completed"
    },
    "tags": []
   },
   "outputs": [
    {
     "data": {
      "text/plain": [
       "0    64427\n",
       "1     9372\n",
       "Name: default, dtype: int64"
      ]
     },
     "execution_count": 13,
     "metadata": {},
     "output_type": "execute_result"
    }
   ],
   "source": [
    "# Посмотрим на рапределение целевой переменной\n",
    "train.default.value_counts()"
   ]
  },
  {
   "cell_type": "code",
   "execution_count": 14,
   "id": "divine-renewal",
   "metadata": {
    "execution": {
     "iopub.execute_input": "2021-04-16T08:54:19.573772Z",
     "iopub.status.busy": "2021-04-16T08:54:19.530819Z",
     "iopub.status.idle": "2021-04-16T08:54:19.584125Z",
     "shell.execute_reply": "2021-04-16T08:54:19.583420Z"
    },
    "papermill": {
     "duration": 0.113139,
     "end_time": "2021-04-16T08:54:19.584274",
     "exception": false,
     "start_time": "2021-04-16T08:54:19.471135",
     "status": "completed"
    },
    "tags": []
   },
   "outputs": [
    {
     "data": {
      "text/plain": [
       "client_id             0\n",
       "app_date              0\n",
       "education           307\n",
       "sex                   0\n",
       "age                   0\n",
       "car                   0\n",
       "car_type              0\n",
       "decline_app_cnt       0\n",
       "good_work             0\n",
       "score_bki             0\n",
       "bki_request_cnt       0\n",
       "region_rating         0\n",
       "home_address          0\n",
       "work_address          0\n",
       "income                0\n",
       "sna                   0\n",
       "first_time            0\n",
       "foreign_passport      0\n",
       "default               0\n",
       "dtype: int64"
      ]
     },
     "execution_count": 14,
     "metadata": {},
     "output_type": "execute_result"
    }
   ],
   "source": [
    "# Количество пропусков в обучающей базе\n",
    "train.isna().sum()"
   ]
  },
  {
   "cell_type": "code",
   "execution_count": 15,
   "id": "collectible-break",
   "metadata": {
    "execution": {
     "iopub.execute_input": "2021-04-16T08:54:19.718693Z",
     "iopub.status.busy": "2021-04-16T08:54:19.717968Z",
     "iopub.status.idle": "2021-04-16T08:54:21.696367Z",
     "shell.execute_reply": "2021-04-16T08:54:21.695710Z"
    },
    "papermill": {
     "duration": 2.056541,
     "end_time": "2021-04-16T08:54:21.696521",
     "exception": false,
     "start_time": "2021-04-16T08:54:19.639980",
     "status": "completed"
    },
    "tags": []
   },
   "outputs": [
    {
     "data": {
      "image/png": "[encoded data removed]",
      "text/plain": [
       "<Figure size 864x576 with 1 Axes>"
      ]
     },
     "metadata": {
      "needs_background": "light"
     },
     "output_type": "display_data"
    }
   ],
   "source": [
    "# Графическое отображение нахождения пропусков в обучающей базе\n",
    "fig, ax = plt.subplots(figsize=(12, 8))\n",
    "sns_heatmap = sns.heatmap(train.isna(),cbar=False, cmap ='PuBu_r')"
   ]
  },
  {
   "cell_type": "code",
   "execution_count": 16,
   "id": "divine-melissa",
   "metadata": {
    "execution": {
     "iopub.execute_input": "2021-04-16T08:54:21.838430Z",
     "iopub.status.busy": "2021-04-16T08:54:21.816723Z",
     "iopub.status.idle": "2021-04-16T08:54:21.849142Z",
     "shell.execute_reply": "2021-04-16T08:54:21.848390Z"
    },
    "papermill": {
     "duration": 0.094472,
     "end_time": "2021-04-16T08:54:21.849308",
     "exception": false,
     "start_time": "2021-04-16T08:54:21.754836",
     "status": "completed"
    },
    "tags": []
   },
   "outputs": [
    {
     "data": {
      "text/plain": [
       "client_id             0\n",
       "app_date              0\n",
       "education           171\n",
       "sex                   0\n",
       "age                   0\n",
       "car                   0\n",
       "car_type              0\n",
       "decline_app_cnt       0\n",
       "good_work             0\n",
       "score_bki             0\n",
       "bki_request_cnt       0\n",
       "region_rating         0\n",
       "home_address          0\n",
       "work_address          0\n",
       "income                0\n",
       "sna                   0\n",
       "first_time            0\n",
       "foreign_passport      0\n",
       "dtype: int64"
      ]
     },
     "execution_count": 16,
     "metadata": {},
     "output_type": "execute_result"
    }
   ],
   "source": [
    "# Количество пропусков в тестовой базе\n",
    "test.isna().sum()"
   ]
  },
  {
   "cell_type": "code",
   "execution_count": 17,
   "id": "emerging-bishop",
   "metadata": {
    "execution": {
     "iopub.execute_input": "2021-04-16T08:54:21.990354Z",
     "iopub.status.busy": "2021-04-16T08:54:21.989524Z",
     "iopub.status.idle": "2021-04-16T08:54:23.240870Z",
     "shell.execute_reply": "2021-04-16T08:54:23.241360Z"
    },
    "papermill": {
     "duration": 1.333367,
     "end_time": "2021-04-16T08:54:23.241560",
     "exception": false,
     "start_time": "2021-04-16T08:54:21.908193",
     "status": "completed"
    },
    "tags": []
   },
   "outputs": [
    {
     "data": {
      "image/png": "[encoded data removed]",
      "text/plain": [
       "<Figure size 864x576 with 1 Axes>"
      ]
     },
     "metadata": {
      "needs_background": "light"
     },
     "output_type": "display_data"
    }
   ],
   "source": [
    "# Графическое отображение нахождения пропусков в тестовой базе\n",
    "fig, ax = plt.subplots(figsize=(12, 8))\n",
    "sns_heatmap = sns.heatmap(test.isna(),cbar=False, cmap ='PuBu_r')"
   ]
  },
  {
   "cell_type": "code",
   "execution_count": 18,
   "id": "consistent-smell",
   "metadata": {
    "execution": {
     "iopub.execute_input": "2021-04-16T08:54:23.385034Z",
     "iopub.status.busy": "2021-04-16T08:54:23.377164Z",
     "iopub.status.idle": "2021-04-16T08:54:23.567779Z",
     "shell.execute_reply": "2021-04-16T08:54:23.566496Z"
    },
    "papermill": {
     "duration": 0.265256,
     "end_time": "2021-04-16T08:54:23.567945",
     "exception": false,
     "start_time": "2021-04-16T08:54:23.302689",
     "status": "completed"
    },
    "tags": []
   },
   "outputs": [
    {
     "data": {
      "text/plain": [
       "<AxesSubplot:>"
      ]
     },
     "execution_count": 18,
     "metadata": {},
     "output_type": "execute_result"
    },
    {
     "data": {
      "image/png": "[encoded data removed]",
      "text/plain": [
       "<Figure size 432x288 with 1 Axes>"
      ]
     },
     "metadata": {
      "needs_background": "light"
     },
     "output_type": "display_data"
    }
   ],
   "source": [
    "# Гистограмма значений признака education, содержащего пропуски, в обучающей базе\n",
    "train.education.value_counts().plot.barh()"
   ]
  },
  {
   "cell_type": "code",
   "execution_count": 19,
   "id": "fourth-friendship",
   "metadata": {
    "execution": {
     "iopub.execute_input": "2021-04-16T08:54:23.708929Z",
     "iopub.status.busy": "2021-04-16T08:54:23.699720Z",
     "iopub.status.idle": "2021-04-16T08:54:23.857760Z",
     "shell.execute_reply": "2021-04-16T08:54:23.857206Z"
    },
    "papermill": {
     "duration": 0.227827,
     "end_time": "2021-04-16T08:54:23.857915",
     "exception": false,
     "start_time": "2021-04-16T08:54:23.630088",
     "status": "completed"
    },
    "tags": []
   },
   "outputs": [
    {
     "data": {
      "text/plain": [
       "<AxesSubplot:>"
      ]
     },
     "execution_count": 19,
     "metadata": {},
     "output_type": "execute_result"
    },
    {
     "data": {
      "image/png": "[encoded data removed]",
      "text/plain": [
       "<Figure size 432x288 with 1 Axes>"
      ]
     },
     "metadata": {
      "needs_background": "light"
     },
     "output_type": "display_data"
    }
   ],
   "source": [
    "# Гистограмма значений признака education, содержащего пропуски, в тестовой базе\n",
    "test.education.value_counts().plot.barh()"
   ]
  },
  {
   "cell_type": "code",
   "execution_count": 20,
   "id": "combined-elements",
   "metadata": {
    "execution": {
     "iopub.execute_input": "2021-04-16T08:54:23.987318Z",
     "iopub.status.busy": "2021-04-16T08:54:23.986438Z",
     "iopub.status.idle": "2021-04-16T08:54:24.004207Z",
     "shell.execute_reply": "2021-04-16T08:54:24.004728Z"
    },
    "papermill": {
     "duration": 0.084576,
     "end_time": "2021-04-16T08:54:24.004945",
     "exception": false,
     "start_time": "2021-04-16T08:54:23.920369",
     "status": "completed"
    },
    "tags": []
   },
   "outputs": [],
   "source": [
    "# Избавление от пропусков\n",
    "train['education'].fillna('empty', inplace=True)\n",
    "test['education'].fillna('empty', inplace=True)"
   ]
  },
  {
   "cell_type": "code",
   "execution_count": 21,
   "id": "latest-penalty",
   "metadata": {
    "execution": {
     "iopub.execute_input": "2021-04-16T08:54:24.134450Z",
     "iopub.status.busy": "2021-04-16T08:54:24.133713Z",
     "iopub.status.idle": "2021-04-16T08:54:24.139333Z",
     "shell.execute_reply": "2021-04-16T08:54:24.139899Z"
    },
    "papermill": {
     "duration": 0.072381,
     "end_time": "2021-04-16T08:54:24.140093",
     "exception": false,
     "start_time": "2021-04-16T08:54:24.067712",
     "status": "completed"
    },
    "tags": []
   },
   "outputs": [
    {
     "data": {
      "text/plain": [
       "Index(['client_id', 'app_date', 'education', 'sex', 'age', 'car', 'car_type',\n",
       "       'decline_app_cnt', 'good_work', 'score_bki', 'bki_request_cnt',\n",
       "       'region_rating', 'home_address', 'work_address', 'income', 'sna',\n",
       "       'first_time', 'foreign_passport', 'default'],\n",
       "      dtype='object')"
      ]
     },
     "execution_count": 21,
     "metadata": {},
     "output_type": "execute_result"
    }
   ],
   "source": [
    "# Выведем наименования всех признаков обучающей базы\n",
    "train.columns"
   ]
  },
  {
   "cell_type": "markdown",
   "id": "opening-artwork",
   "metadata": {
    "papermill": {
     "duration": 0.061913,
     "end_time": "2021-04-16T08:54:24.264469",
     "exception": false,
     "start_time": "2021-04-16T08:54:24.202556",
     "status": "completed"
    },
    "tags": []
   },
   "source": [
    "Разбиваем признаки на 3 списка (искл. client_id, app_date)"
   ]
  },
  {
   "cell_type": "code",
   "execution_count": 22,
   "id": "scientific-motion",
   "metadata": {
    "execution": {
     "iopub.execute_input": "2021-04-16T08:54:24.393785Z",
     "iopub.status.busy": "2021-04-16T08:54:24.393107Z",
     "iopub.status.idle": "2021-04-16T08:54:24.398016Z",
     "shell.execute_reply": "2021-04-16T08:54:24.398730Z"
    },
    "papermill": {
     "duration": 0.070908,
     "end_time": "2021-04-16T08:54:24.398911",
     "exception": false,
     "start_time": "2021-04-16T08:54:24.328003",
     "status": "completed"
    },
    "tags": []
   },
   "outputs": [],
   "source": [
    "# числовые \n",
    "num_cols = ['age', 'decline_app_cnt', 'bki_request_cnt', 'income', 'score_bki', 'region_rating']\n",
    "\n",
    "# категориальные\n",
    "cat_cols = ['education', 'work_address', 'home_address', 'sna', 'first_time']\n",
    "\n",
    "# бинарные\n",
    "bin_cols = ['sex', 'car', 'car_type', 'good_work', 'foreign_passport']"
   ]
  },
  {
   "cell_type": "markdown",
   "id": "roman-jerusalem",
   "metadata": {
    "papermill": {
     "duration": 0.062786,
     "end_time": "2021-04-16T08:54:24.524019",
     "exception": false,
     "start_time": "2021-04-16T08:54:24.461233",
     "status": "completed"
    },
    "tags": []
   },
   "source": [
    "# Числовые признаки"
   ]
  },
  {
   "cell_type": "code",
   "execution_count": 23,
   "id": "alone-trace",
   "metadata": {
    "execution": {
     "iopub.execute_input": "2021-04-16T08:54:24.679007Z",
     "iopub.status.busy": "2021-04-16T08:54:24.678246Z",
     "iopub.status.idle": "2021-04-16T08:54:26.172291Z",
     "shell.execute_reply": "2021-04-16T08:54:26.171440Z"
    },
    "papermill": {
     "duration": 1.57706,
     "end_time": "2021-04-16T08:54:26.172455",
     "exception": false,
     "start_time": "2021-04-16T08:54:24.595395",
     "status": "completed"
    },
    "tags": []
   },
   "outputs": [
    {
     "data": {
      "image/png": "[encoded data removed]",
      "text/plain": [
       "<Figure size 432x288 with 1 Axes>"
      ]
     },
     "metadata": {
      "needs_background": "light"
     },
     "output_type": "display_data"
    },
    {
     "data": {
      "image/png": "[encoded data removed]",
      "text/plain": [
       "<Figure size 432x288 with 1 Axes>"
      ]
     },
     "metadata": {
      "needs_background": "light"
     },
     "output_type": "display_data"
    },
    {
     "data": {
      "image/png": "[encoded data removed]",
      "text/plain": [
       "<Figure size 432x288 with 1 Axes>"
      ]
     },
     "metadata": {
      "needs_background": "light"
     },
     "output_type": "display_data"
    },
    {
     "data": {
      "image/png": "[encoded data removed]",
      "text/plain": [
       "<Figure size 432x288 with 1 Axes>"
      ]
     },
     "metadata": {
      "needs_background": "light"
     },
     "output_type": "display_data"
    },
    {
     "data": {
      "image/png": "[encoded data removed]",
      "text/plain": [
       "<Figure size 432x288 with 1 Axes>"
      ]
     },
     "metadata": {
      "needs_background": "light"
     },
     "output_type": "display_data"
    },
    {
     "data": {
      "image/png": "[encoded data removed]",
      "text/plain": [
       "<Figure size 432x288 with 1 Axes>"
      ]
     },
     "metadata": {
      "needs_background": "light"
     },
     "output_type": "display_data"
    }
   ],
   "source": [
    "# Графики распределений числовых признаков\n",
    "for i in num_cols:\n",
    "    plt.figure()\n",
    "    sns.distplot(train[i][train[i] > 0].dropna(), kde = False, rug=False)\n",
    "    plt.title(i)\n",
    "    plt.show()"
   ]
  },
  {
   "cell_type": "markdown",
   "id": "recreational-genius",
   "metadata": {
    "papermill": {
     "duration": 0.068063,
     "end_time": "2021-04-16T08:54:26.307483",
     "exception": false,
     "start_time": "2021-04-16T08:54:26.239420",
     "status": "completed"
    },
    "tags": []
   },
   "source": [
    "Прологарифмируем численные переменные, распределение которых смещено, но позже (в блоке Feature Engineering)"
   ]
  },
  {
   "cell_type": "code",
   "execution_count": 24,
   "id": "exceptional-michael",
   "metadata": {
    "execution": {
     "iopub.execute_input": "2021-04-16T08:54:26.449953Z",
     "iopub.status.busy": "2021-04-16T08:54:26.449218Z",
     "iopub.status.idle": "2021-04-16T08:54:26.893233Z",
     "shell.execute_reply": "2021-04-16T08:54:26.892609Z"
    },
    "papermill": {
     "duration": 0.517869,
     "end_time": "2021-04-16T08:54:26.893383",
     "exception": false,
     "start_time": "2021-04-16T08:54:26.375514",
     "status": "completed"
    },
    "tags": []
   },
   "outputs": [
    {
     "data": {
      "text/plain": [
       "<AxesSubplot:>"
      ]
     },
     "execution_count": 24,
     "metadata": {},
     "output_type": "execute_result"
    },
    {
     "data": {
      "image/png": "[encoded data removed]",
      "text/plain": [
       "<Figure size 432x288 with 2 Axes>"
      ]
     },
     "metadata": {
      "needs_background": "light"
     },
     "output_type": "display_data"
    }
   ],
   "source": [
    "# Посмотрим на тепловую карту числовых признаков\n",
    "sns.heatmap(train[num_cols].corr().abs(), vmin=0, vmax=1, annot = True)"
   ]
  },
  {
   "cell_type": "markdown",
   "id": "thermal-raise",
   "metadata": {
    "papermill": {
     "duration": 0.069274,
     "end_time": "2021-04-16T08:54:27.031628",
     "exception": false,
     "start_time": "2021-04-16T08:54:26.962354",
     "status": "completed"
    },
    "tags": []
   },
   "source": [
    "Высокой корреляции не наблюдается"
   ]
  },
  {
   "cell_type": "code",
   "execution_count": 25,
   "id": "stuffed-mainstream",
   "metadata": {
    "execution": {
     "iopub.execute_input": "2021-04-16T08:54:27.179989Z",
     "iopub.status.busy": "2021-04-16T08:54:27.179062Z",
     "iopub.status.idle": "2021-04-16T08:54:27.334615Z",
     "shell.execute_reply": "2021-04-16T08:54:27.335273Z"
    },
    "papermill": {
     "duration": 0.234998,
     "end_time": "2021-04-16T08:54:27.335477",
     "exception": false,
     "start_time": "2021-04-16T08:54:27.100479",
     "status": "completed"
    },
    "tags": []
   },
   "outputs": [
    {
     "data": {
      "text/plain": [
       "<AxesSubplot:>"
      ]
     },
     "execution_count": 25,
     "metadata": {},
     "output_type": "execute_result"
    },
    {
     "data": {
      "image/png": "[encoded data removed]",
      "text/plain": [
       "<Figure size 432x288 with 1 Axes>"
      ]
     },
     "metadata": {
      "needs_background": "light"
     },
     "output_type": "display_data"
    }
   ],
   "source": [
    "# Посмотрим значимость числовых признаков\n",
    "imp_num = pd.Series(f_classif(train[num_cols], train['default'])[0], index = num_cols)\n",
    "imp_num.sort_values(inplace = True)\n",
    "imp_num.plot(kind = 'barh')"
   ]
  },
  {
   "cell_type": "markdown",
   "id": "another-conditions",
   "metadata": {
    "papermill": {
     "duration": 0.06953,
     "end_time": "2021-04-16T08:54:27.475011",
     "exception": false,
     "start_time": "2021-04-16T08:54:27.405481",
     "status": "completed"
    },
    "tags": []
   },
   "source": [
    "# Бинарные и категориальные признаки"
   ]
  },
  {
   "cell_type": "code",
   "execution_count": 26,
   "id": "classified-biodiversity",
   "metadata": {
    "execution": {
     "iopub.execute_input": "2021-04-16T08:54:27.646926Z",
     "iopub.status.busy": "2021-04-16T08:54:27.628686Z",
     "iopub.status.idle": "2021-04-16T08:54:27.794086Z",
     "shell.execute_reply": "2021-04-16T08:54:27.793492Z"
    },
    "papermill": {
     "duration": 0.249301,
     "end_time": "2021-04-16T08:54:27.794233",
     "exception": false,
     "start_time": "2021-04-16T08:54:27.544932",
     "status": "completed"
    },
    "tags": []
   },
   "outputs": [],
   "source": [
    "# Для бинарных признаков мы будем использовать LabelEncoder, чтобы избавится от строковых значений\n",
    "\n",
    "label_encoder = LabelEncoder()\n",
    "\n",
    "for column in bin_cols:\n",
    "    train[column] = label_encoder.fit_transform(train[column])\n",
    "    \n",
    "for column in bin_cols:\n",
    "    test[column] = label_encoder.fit_transform(test[column])\n",
    "    "
   ]
  },
  {
   "cell_type": "code",
   "execution_count": 27,
   "id": "dependent-transport",
   "metadata": {
    "execution": {
     "iopub.execute_input": "2021-04-16T08:54:27.941995Z",
     "iopub.status.busy": "2021-04-16T08:54:27.941287Z",
     "iopub.status.idle": "2021-04-16T08:54:27.965024Z",
     "shell.execute_reply": "2021-04-16T08:54:27.965542Z"
    },
    "papermill": {
     "duration": 0.100791,
     "end_time": "2021-04-16T08:54:27.965782",
     "exception": false,
     "start_time": "2021-04-16T08:54:27.864991",
     "status": "completed"
    },
    "tags": []
   },
   "outputs": [
    {
     "data": {
      "text/html": [
       "<div>\n",
       "<style scoped>\n",
       "    .dataframe tbody tr th:only-of-type {\n",
       "        vertical-align: middle;\n",
       "    }\n",
       "\n",
       "    .dataframe tbody tr th {\n",
       "        vertical-align: top;\n",
       "    }\n",
       "\n",
       "    .dataframe thead th {\n",
       "        text-align: right;\n",
       "    }\n",
       "</style>\n",
       "<table border=\"1\" class=\"dataframe\">\n",
       "  <thead>\n",
       "    <tr style=\"text-align: right;\">\n",
       "      <th></th>\n",
       "      <th>client_id</th>\n",
       "      <th>app_date</th>\n",
       "      <th>education</th>\n",
       "      <th>sex</th>\n",
       "      <th>age</th>\n",
       "      <th>car</th>\n",
       "      <th>car_type</th>\n",
       "      <th>decline_app_cnt</th>\n",
       "      <th>good_work</th>\n",
       "      <th>score_bki</th>\n",
       "      <th>bki_request_cnt</th>\n",
       "      <th>region_rating</th>\n",
       "      <th>home_address</th>\n",
       "      <th>work_address</th>\n",
       "      <th>income</th>\n",
       "      <th>sna</th>\n",
       "      <th>first_time</th>\n",
       "      <th>foreign_passport</th>\n",
       "      <th>default</th>\n",
       "    </tr>\n",
       "  </thead>\n",
       "  <tbody>\n",
       "    <tr>\n",
       "      <th>35332</th>\n",
       "      <td>103964</td>\n",
       "      <td>22APR2014</td>\n",
       "      <td>GRD</td>\n",
       "      <td>1</td>\n",
       "      <td>43</td>\n",
       "      <td>0</td>\n",
       "      <td>0</td>\n",
       "      <td>0</td>\n",
       "      <td>0</td>\n",
       "      <td>-2.283283</td>\n",
       "      <td>3</td>\n",
       "      <td>60</td>\n",
       "      <td>1</td>\n",
       "      <td>1</td>\n",
       "      <td>45000</td>\n",
       "      <td>2</td>\n",
       "      <td>2</td>\n",
       "      <td>0</td>\n",
       "      <td>0</td>\n",
       "    </tr>\n",
       "    <tr>\n",
       "      <th>31815</th>\n",
       "      <td>69208</td>\n",
       "      <td>18MAR2014</td>\n",
       "      <td>GRD</td>\n",
       "      <td>1</td>\n",
       "      <td>30</td>\n",
       "      <td>0</td>\n",
       "      <td>0</td>\n",
       "      <td>0</td>\n",
       "      <td>1</td>\n",
       "      <td>-1.654474</td>\n",
       "      <td>3</td>\n",
       "      <td>60</td>\n",
       "      <td>1</td>\n",
       "      <td>1</td>\n",
       "      <td>25000</td>\n",
       "      <td>1</td>\n",
       "      <td>4</td>\n",
       "      <td>0</td>\n",
       "      <td>0</td>\n",
       "    </tr>\n",
       "    <tr>\n",
       "      <th>27572</th>\n",
       "      <td>13914</td>\n",
       "      <td>21JAN2014</td>\n",
       "      <td>SCH</td>\n",
       "      <td>0</td>\n",
       "      <td>43</td>\n",
       "      <td>1</td>\n",
       "      <td>1</td>\n",
       "      <td>0</td>\n",
       "      <td>0</td>\n",
       "      <td>-1.686836</td>\n",
       "      <td>3</td>\n",
       "      <td>70</td>\n",
       "      <td>1</td>\n",
       "      <td>3</td>\n",
       "      <td>45000</td>\n",
       "      <td>1</td>\n",
       "      <td>3</td>\n",
       "      <td>0</td>\n",
       "      <td>0</td>\n",
       "    </tr>\n",
       "    <tr>\n",
       "      <th>15747</th>\n",
       "      <td>93300</td>\n",
       "      <td>09APR2014</td>\n",
       "      <td>SCH</td>\n",
       "      <td>1</td>\n",
       "      <td>46</td>\n",
       "      <td>0</td>\n",
       "      <td>0</td>\n",
       "      <td>0</td>\n",
       "      <td>1</td>\n",
       "      <td>-2.218355</td>\n",
       "      <td>7</td>\n",
       "      <td>80</td>\n",
       "      <td>2</td>\n",
       "      <td>3</td>\n",
       "      <td>35000</td>\n",
       "      <td>2</td>\n",
       "      <td>3</td>\n",
       "      <td>0</td>\n",
       "      <td>0</td>\n",
       "    </tr>\n",
       "    <tr>\n",
       "      <th>22783</th>\n",
       "      <td>34853</td>\n",
       "      <td>11FEB2014</td>\n",
       "      <td>GRD</td>\n",
       "      <td>0</td>\n",
       "      <td>43</td>\n",
       "      <td>0</td>\n",
       "      <td>0</td>\n",
       "      <td>0</td>\n",
       "      <td>0</td>\n",
       "      <td>-1.780774</td>\n",
       "      <td>0</td>\n",
       "      <td>60</td>\n",
       "      <td>1</td>\n",
       "      <td>2</td>\n",
       "      <td>25000</td>\n",
       "      <td>4</td>\n",
       "      <td>2</td>\n",
       "      <td>0</td>\n",
       "      <td>0</td>\n",
       "    </tr>\n",
       "  </tbody>\n",
       "</table>\n",
       "</div>"
      ],
      "text/plain": [
       "       client_id   app_date education  sex  age  car  car_type  \\\n",
       "35332     103964  22APR2014       GRD    1   43    0         0   \n",
       "31815      69208  18MAR2014       GRD    1   30    0         0   \n",
       "27572      13914  21JAN2014       SCH    0   43    1         1   \n",
       "15747      93300  09APR2014       SCH    1   46    0         0   \n",
       "22783      34853  11FEB2014       GRD    0   43    0         0   \n",
       "\n",
       "       decline_app_cnt  good_work  score_bki  bki_request_cnt  region_rating  \\\n",
       "35332                0          0  -2.283283                3             60   \n",
       "31815                0          1  -1.654474                3             60   \n",
       "27572                0          0  -1.686836                3             70   \n",
       "15747                0          1  -2.218355                7             80   \n",
       "22783                0          0  -1.780774                0             60   \n",
       "\n",
       "       home_address  work_address  income  sna  first_time  foreign_passport  \\\n",
       "35332             1             1   45000    2           2                 0   \n",
       "31815             1             1   25000    1           4                 0   \n",
       "27572             1             3   45000    1           3                 0   \n",
       "15747             2             3   35000    2           3                 0   \n",
       "22783             1             2   25000    4           2                 0   \n",
       "\n",
       "       default  \n",
       "35332        0  \n",
       "31815        0  \n",
       "27572        0  \n",
       "15747        0  \n",
       "22783        0  "
      ]
     },
     "execution_count": 27,
     "metadata": {},
     "output_type": "execute_result"
    }
   ],
   "source": [
    "# посмотрим как выглядит обучающая база после изменений\n",
    "train.sample(5)"
   ]
  },
  {
   "cell_type": "code",
   "execution_count": 28,
   "id": "alternate-peoples",
   "metadata": {
    "execution": {
     "iopub.execute_input": "2021-04-16T08:54:28.134042Z",
     "iopub.status.busy": "2021-04-16T08:54:28.131906Z",
     "iopub.status.idle": "2021-04-16T08:54:28.145529Z",
     "shell.execute_reply": "2021-04-16T08:54:28.144851Z"
    },
    "papermill": {
     "duration": 0.104853,
     "end_time": "2021-04-16T08:54:28.145720",
     "exception": false,
     "start_time": "2021-04-16T08:54:28.040867",
     "status": "completed"
    },
    "tags": []
   },
   "outputs": [
    {
     "data": {
      "text/plain": [
       "0     39167\n",
       "13    23365\n",
       "2      9816\n",
       "3      1257\n",
       "4       194\n",
       "Name: education, dtype: int64"
      ]
     },
     "execution_count": 28,
     "metadata": {},
     "output_type": "execute_result"
    }
   ],
   "source": [
    "# Заменим значения признака education числами в обучающей базе\n",
    "education_dict = {'ACD': 4, 'PGR': 3, 'UGR': 2, 'GRD': 13, 'SCH': 0, 'empty': 0}\n",
    "train.education = train['education'].map(education_dict)\n",
    "\n",
    "train.education.value_counts()"
   ]
  },
  {
   "cell_type": "code",
   "execution_count": 29,
   "id": "forty-glossary",
   "metadata": {
    "execution": {
     "iopub.execute_input": "2021-04-16T08:54:28.299911Z",
     "iopub.status.busy": "2021-04-16T08:54:28.298934Z",
     "iopub.status.idle": "2021-04-16T08:54:28.307933Z",
     "shell.execute_reply": "2021-04-16T08:54:28.307255Z"
    },
    "papermill": {
     "duration": 0.091659,
     "end_time": "2021-04-16T08:54:28.308094",
     "exception": false,
     "start_time": "2021-04-16T08:54:28.216435",
     "status": "completed"
    },
    "tags": []
   },
   "outputs": [
    {
     "data": {
      "text/plain": [
       "0     19309\n",
       "13    11403\n",
       "2      4932\n",
       "3       608\n",
       "4        97\n",
       "Name: education, dtype: int64"
      ]
     },
     "execution_count": 29,
     "metadata": {},
     "output_type": "execute_result"
    }
   ],
   "source": [
    "# Заменим значения признака education числами в тестовой базе\n",
    "test.education = test['education'].map(education_dict)\n",
    "\n",
    "test.education.value_counts()"
   ]
  },
  {
   "cell_type": "code",
   "execution_count": 30,
   "id": "equipped-booking",
   "metadata": {
    "execution": {
     "iopub.execute_input": "2021-04-16T08:54:28.461591Z",
     "iopub.status.busy": "2021-04-16T08:54:28.460862Z",
     "iopub.status.idle": "2021-04-16T08:54:28.509362Z",
     "shell.execute_reply": "2021-04-16T08:54:28.509907Z"
    },
    "papermill": {
     "duration": 0.130313,
     "end_time": "2021-04-16T08:54:28.510082",
     "exception": false,
     "start_time": "2021-04-16T08:54:28.379769",
     "status": "completed"
    },
    "tags": []
   },
   "outputs": [],
   "source": [
    "# Переведем даты из признака app_date к типу datetime \n",
    "train.app_date = pd.to_datetime(train.app_date)\n",
    "test.app_date = pd.to_datetime(test.app_date)"
   ]
  },
  {
   "cell_type": "code",
   "execution_count": 31,
   "id": "caring-fancy",
   "metadata": {
    "execution": {
     "iopub.execute_input": "2021-04-16T08:54:28.695381Z",
     "iopub.status.busy": "2021-04-16T08:54:28.663852Z",
     "iopub.status.idle": "2021-04-16T08:54:29.195738Z",
     "shell.execute_reply": "2021-04-16T08:54:29.195042Z"
    },
    "papermill": {
     "duration": 0.614236,
     "end_time": "2021-04-16T08:54:29.195887",
     "exception": false,
     "start_time": "2021-04-16T08:54:28.581651",
     "status": "completed"
    },
    "tags": []
   },
   "outputs": [
    {
     "data": {
      "text/plain": [
       "2014    73799\n",
       "Name: app_date, dtype: int64"
      ]
     },
     "execution_count": 31,
     "metadata": {},
     "output_type": "execute_result"
    }
   ],
   "source": [
    "# Посмотрим количество уникальных годов в признаке app_date обучающей базы\n",
    "train.app_date.apply(lambda x: x.year).value_counts()"
   ]
  },
  {
   "cell_type": "code",
   "execution_count": 32,
   "id": "hourly-engineer",
   "metadata": {
    "execution": {
     "iopub.execute_input": "2021-04-16T08:54:29.363155Z",
     "iopub.status.busy": "2021-04-16T08:54:29.357530Z",
     "iopub.status.idle": "2021-04-16T08:54:29.550607Z",
     "shell.execute_reply": "2021-04-16T08:54:29.551120Z"
    },
    "papermill": {
     "duration": 0.282859,
     "end_time": "2021-04-16T08:54:29.551311",
     "exception": false,
     "start_time": "2021-04-16T08:54:29.268452",
     "status": "completed"
    },
    "tags": []
   },
   "outputs": [
    {
     "data": {
      "text/plain": [
       "2014    36349\n",
       "Name: app_date, dtype: int64"
      ]
     },
     "execution_count": 32,
     "metadata": {},
     "output_type": "execute_result"
    }
   ],
   "source": [
    "# Посмотрим количество уникальных годов в признаке app_date тестовой базы\n",
    "test.app_date.apply(lambda x: x.year).value_counts()"
   ]
  },
  {
   "cell_type": "code",
   "execution_count": 33,
   "id": "minus-modeling",
   "metadata": {
    "execution": {
     "iopub.execute_input": "2021-04-16T08:54:29.740563Z",
     "iopub.status.busy": "2021-04-16T08:54:29.724545Z",
     "iopub.status.idle": "2021-04-16T08:54:30.209322Z",
     "shell.execute_reply": "2021-04-16T08:54:30.208100Z"
    },
    "papermill": {
     "duration": 0.584752,
     "end_time": "2021-04-16T08:54:30.209482",
     "exception": false,
     "start_time": "2021-04-16T08:54:29.624730",
     "status": "completed"
    },
    "tags": []
   },
   "outputs": [
    {
     "data": {
      "text/plain": [
       "3    21178\n",
       "2    18028\n",
       "4    17683\n",
       "1    16910\n",
       "Name: app_date, dtype: int64"
      ]
     },
     "execution_count": 33,
     "metadata": {},
     "output_type": "execute_result"
    }
   ],
   "source": [
    "# Посмотрим количество уникальных месяцев в признаке app_date обучающей базы\n",
    "train.app_date.apply(lambda x: x.month).value_counts()"
   ]
  },
  {
   "cell_type": "code",
   "execution_count": 34,
   "id": "frank-missile",
   "metadata": {
    "execution": {
     "iopub.execute_input": "2021-04-16T08:54:30.373899Z",
     "iopub.status.busy": "2021-04-16T08:54:30.368438Z",
     "iopub.status.idle": "2021-04-16T08:54:30.673032Z",
     "shell.execute_reply": "2021-04-16T08:54:30.672458Z"
    },
    "papermill": {
     "duration": 0.389044,
     "end_time": "2021-04-16T08:54:30.673187",
     "exception": false,
     "start_time": "2021-04-16T08:54:30.284143",
     "status": "completed"
    },
    "tags": []
   },
   "outputs": [
    {
     "data": {
      "text/plain": [
       "3    10419\n",
       "2     9069\n",
       "4     8583\n",
       "1     8278\n",
       "Name: app_date, dtype: int64"
      ]
     },
     "execution_count": 34,
     "metadata": {},
     "output_type": "execute_result"
    }
   ],
   "source": [
    "# Посмотрим количество уникальных месяцев в признаке app_date тестовой базы\n",
    "test.app_date.apply(lambda x: x.month).value_counts()"
   ]
  },
  {
   "cell_type": "markdown",
   "id": "patent-laser",
   "metadata": {
    "papermill": {
     "duration": 0.072917,
     "end_time": "2021-04-16T08:54:30.819368",
     "exception": false,
     "start_time": "2021-04-16T08:54:30.746451",
     "status": "completed"
    },
    "tags": []
   },
   "source": [
    "# Добавление новых признаков (Feature engineering)"
   ]
  },
  {
   "cell_type": "code",
   "execution_count": 35,
   "id": "intelligent-alberta",
   "metadata": {
    "execution": {
     "iopub.execute_input": "2021-04-16T08:54:30.989022Z",
     "iopub.status.busy": "2021-04-16T08:54:30.978601Z",
     "iopub.status.idle": "2021-04-16T08:54:31.871768Z",
     "shell.execute_reply": "2021-04-16T08:54:31.871140Z"
    },
    "papermill": {
     "duration": 0.978692,
     "end_time": "2021-04-16T08:54:31.871917",
     "exception": false,
     "start_time": "2021-04-16T08:54:30.893225",
     "status": "completed"
    },
    "tags": []
   },
   "outputs": [],
   "source": [
    "# Новый признак месяца подачи заявления на кредит\n",
    "train['month'] = train.app_date.apply(lambda x: x.month)\n",
    "test['month'] = train.app_date.apply(lambda x: x.month)\n",
    "\n",
    "cat_cols.append('month')"
   ]
  },
  {
   "cell_type": "code",
   "execution_count": 36,
   "id": "ranking-expansion",
   "metadata": {
    "execution": {
     "iopub.execute_input": "2021-04-16T08:54:32.027591Z",
     "iopub.status.busy": "2021-04-16T08:54:32.026909Z",
     "iopub.status.idle": "2021-04-16T08:54:32.037367Z",
     "shell.execute_reply": "2021-04-16T08:54:32.036805Z"
    },
    "papermill": {
     "duration": 0.091679,
     "end_time": "2021-04-16T08:54:32.037523",
     "exception": false,
     "start_time": "2021-04-16T08:54:31.945844",
     "status": "completed"
    },
    "tags": []
   },
   "outputs": [],
   "source": [
    "# Новый признак количество дней между датой подачи заявления на кредит и датой первой подачи в базе\n",
    "train['days'] = (train.app_date - train.app_date.min()).dt.days\n",
    "test['days'] = (test.app_date - test.app_date.min()).dt.days\n",
    "\n",
    "num_cols.append('days')"
   ]
  },
  {
   "cell_type": "code",
   "execution_count": 37,
   "id": "olive-exposure",
   "metadata": {
    "execution": {
     "iopub.execute_input": "2021-04-16T08:54:32.189416Z",
     "iopub.status.busy": "2021-04-16T08:54:32.188736Z",
     "iopub.status.idle": "2021-04-16T08:54:32.220154Z",
     "shell.execute_reply": "2021-04-16T08:54:32.219421Z"
    },
    "papermill": {
     "duration": 0.108283,
     "end_time": "2021-04-16T08:54:32.220310",
     "exception": false,
     "start_time": "2021-04-16T08:54:32.112027",
     "status": "completed"
    },
    "tags": []
   },
   "outputs": [
    {
     "name": "stdout",
     "output_type": "stream",
     "text": [
      "<class 'pandas.core.frame.DataFrame'>\n",
      "RangeIndex: 73799 entries, 0 to 73798\n",
      "Data columns (total 21 columns):\n",
      " #   Column            Non-Null Count  Dtype         \n",
      "---  ------            --------------  -----         \n",
      " 0   client_id         73799 non-null  int64         \n",
      " 1   app_date          73799 non-null  datetime64[ns]\n",
      " 2   education         73799 non-null  int64         \n",
      " 3   sex               73799 non-null  int64         \n",
      " 4   age               73799 non-null  int64         \n",
      " 5   car               73799 non-null  int64         \n",
      " 6   car_type          73799 non-null  int64         \n",
      " 7   decline_app_cnt   73799 non-null  int64         \n",
      " 8   good_work         73799 non-null  int64         \n",
      " 9   score_bki         73799 non-null  float64       \n",
      " 10  bki_request_cnt   73799 non-null  int64         \n",
      " 11  region_rating     73799 non-null  int64         \n",
      " 12  home_address      73799 non-null  int64         \n",
      " 13  work_address      73799 non-null  int64         \n",
      " 14  income            73799 non-null  int64         \n",
      " 15  sna               73799 non-null  int64         \n",
      " 16  first_time        73799 non-null  int64         \n",
      " 17  foreign_passport  73799 non-null  int64         \n",
      " 18  default           73799 non-null  int64         \n",
      " 19  month             73799 non-null  int64         \n",
      " 20  days              73799 non-null  int64         \n",
      "dtypes: datetime64[ns](1), float64(1), int64(19)\n",
      "memory usage: 11.8 MB\n",
      "<class 'pandas.core.frame.DataFrame'>\n",
      "RangeIndex: 36349 entries, 0 to 36348\n",
      "Data columns (total 20 columns):\n",
      " #   Column            Non-Null Count  Dtype         \n",
      "---  ------            --------------  -----         \n",
      " 0   client_id         36349 non-null  int64         \n",
      " 1   app_date          36349 non-null  datetime64[ns]\n",
      " 2   education         36349 non-null  int64         \n",
      " 3   sex               36349 non-null  int64         \n",
      " 4   age               36349 non-null  int64         \n",
      " 5   car               36349 non-null  int64         \n",
      " 6   car_type          36349 non-null  int64         \n",
      " 7   decline_app_cnt   36349 non-null  int64         \n",
      " 8   good_work         36349 non-null  int64         \n",
      " 9   score_bki         36349 non-null  float64       \n",
      " 10  bki_request_cnt   36349 non-null  int64         \n",
      " 11  region_rating     36349 non-null  int64         \n",
      " 12  home_address      36349 non-null  int64         \n",
      " 13  work_address      36349 non-null  int64         \n",
      " 14  income            36349 non-null  int64         \n",
      " 15  sna               36349 non-null  int64         \n",
      " 16  first_time        36349 non-null  int64         \n",
      " 17  foreign_passport  36349 non-null  int64         \n",
      " 18  month             36349 non-null  int64         \n",
      " 19  days              36349 non-null  int64         \n",
      "dtypes: datetime64[ns](1), float64(1), int64(18)\n",
      "memory usage: 5.5 MB\n"
     ]
    }
   ],
   "source": [
    "# посмотрим на ифнормацию по базам после изменений  \n",
    "train.info()\n",
    "test.info()"
   ]
  },
  {
   "cell_type": "code",
   "execution_count": 38,
   "id": "fatal-newport",
   "metadata": {
    "execution": {
     "iopub.execute_input": "2021-04-16T08:54:32.377222Z",
     "iopub.status.busy": "2021-04-16T08:54:32.376483Z",
     "iopub.status.idle": "2021-04-16T08:54:32.416779Z",
     "shell.execute_reply": "2021-04-16T08:54:32.416171Z"
    },
    "papermill": {
     "duration": 0.120035,
     "end_time": "2021-04-16T08:54:32.416930",
     "exception": false,
     "start_time": "2021-04-16T08:54:32.296895",
     "status": "completed"
    },
    "tags": []
   },
   "outputs": [],
   "source": [
    "# Еще пробую добавить новые признаки, которые должны будут улучшить результаты модели\n",
    "train['bki_age_reg'] = (train['score_bki']/train['age'])*train['region_rating']\n",
    "test['bki_age_reg'] = (test['score_bki']/test['age'])*test['region_rating']\n",
    "\n",
    "train['mult_sna_ftime'] = train['sna'] * train['first_time']\n",
    "test['mult_sna_ftime'] = test['sna'] * test['first_time']\n",
    "\n",
    "train['edu_and_income'] = (train['education'] + 1) * train['income']\n",
    "test['edu_and_income'] = (test['education'] + 1) * test['income']\n",
    "\n",
    "train['success_client'] = (train['foreign_passport'] + 1) * (train['good_work'] + 1) * (train['car'] + 1)\n",
    "test['success_client'] = (test['foreign_passport'] + 1) * (test['good_work'] + 1) * (test['car'] + 1)\n",
    "\n",
    "train['very_success_client'] = train['foreign_passport'] * train['good_work'] * train['car']\n",
    "test['very_success_client'] = test['foreign_passport'] * test['good_work'] * test['car']\n",
    "\n",
    "train['fpassp_and_gwork'] = train['foreign_passport'] * train['good_work'] \n",
    "test['fpassp_and_gwork'] = test['foreign_passport'] * test['good_work']\n",
    "\n",
    "train['fpassp_and_car'] = train['foreign_passport'] * train['car']\n",
    "test['fpassp_and_car'] = test['foreign_passport'] * test['car']\n",
    "\n",
    "train['gwork_and_car'] = train['good_work'] * train['car']\n",
    "test['gwork_and_car'] = test['good_work'] * test['car']"
   ]
  },
  {
   "cell_type": "code",
   "execution_count": 39,
   "id": "appreciated-gossip",
   "metadata": {
    "execution": {
     "iopub.execute_input": "2021-04-16T08:54:32.574643Z",
     "iopub.status.busy": "2021-04-16T08:54:32.573622Z",
     "iopub.status.idle": "2021-04-16T08:54:32.578000Z",
     "shell.execute_reply": "2021-04-16T08:54:32.577283Z"
    },
    "papermill": {
     "duration": 0.086228,
     "end_time": "2021-04-16T08:54:32.578153",
     "exception": false,
     "start_time": "2021-04-16T08:54:32.491925",
     "status": "completed"
    },
    "tags": []
   },
   "outputs": [],
   "source": [
    "# Добавляем новые признаки в соответствующие списки\n",
    "num_cols.append('bki_age_reg')\n",
    "num_cols.append('mult_sna_ftime')\n",
    "num_cols.append('edu_and_income')\n",
    "cat_cols.append('success_client')\n",
    "bin_cols.append('very_success_client')\n",
    "bin_cols.append('fpassp_and_gwork')\n",
    "bin_cols.append('fpassp_and_car')\n",
    "bin_cols.append('gwork_and_car')"
   ]
  },
  {
   "cell_type": "code",
   "execution_count": 40,
   "id": "scenic-investor",
   "metadata": {
    "execution": {
     "iopub.execute_input": "2021-04-16T08:54:32.734572Z",
     "iopub.status.busy": "2021-04-16T08:54:32.733341Z",
     "iopub.status.idle": "2021-04-16T08:54:32.742496Z",
     "shell.execute_reply": "2021-04-16T08:54:32.741790Z"
    },
    "papermill": {
     "duration": 0.088584,
     "end_time": "2021-04-16T08:54:32.742685",
     "exception": false,
     "start_time": "2021-04-16T08:54:32.654101",
     "status": "completed"
    },
    "tags": []
   },
   "outputs": [
    {
     "data": {
      "text/plain": [
       "0     61214\n",
       "1      8397\n",
       "2      2468\n",
       "3       903\n",
       "4       414\n",
       "5       165\n",
       "6       113\n",
       "7        48\n",
       "9        24\n",
       "8        19\n",
       "10       11\n",
       "11        9\n",
       "13        3\n",
       "12        2\n",
       "14        2\n",
       "16        2\n",
       "15        1\n",
       "19        1\n",
       "22        1\n",
       "24        1\n",
       "33        1\n",
       "Name: decline_app_cnt, dtype: int64"
      ]
     },
     "execution_count": 40,
     "metadata": {},
     "output_type": "execute_result"
    }
   ],
   "source": [
    "#Посмотрим на распределение значений decline_app_cnt в обучающей выборке\n",
    "train.decline_app_cnt.value_counts()"
   ]
  },
  {
   "cell_type": "code",
   "execution_count": 41,
   "id": "worth-haven",
   "metadata": {
    "execution": {
     "iopub.execute_input": "2021-04-16T08:54:32.900343Z",
     "iopub.status.busy": "2021-04-16T08:54:32.899647Z",
     "iopub.status.idle": "2021-04-16T08:54:32.973613Z",
     "shell.execute_reply": "2021-04-16T08:54:32.972919Z"
    },
    "papermill": {
     "duration": 0.155319,
     "end_time": "2021-04-16T08:54:32.973791",
     "exception": false,
     "start_time": "2021-04-16T08:54:32.818472",
     "status": "completed"
    },
    "tags": []
   },
   "outputs": [],
   "source": [
    "# изменим значения признака decline_app_cnt, которые встречаются наиболее редко, единственным значением\n",
    "train['decline_app_cnt'] = train['decline_app_cnt'].apply(lambda x: x if x < 4 else 4)\n",
    "test['decline_app_cnt'] = test['decline_app_cnt'].apply(lambda x: x if x < 4 else 4)"
   ]
  },
  {
   "cell_type": "code",
   "execution_count": 42,
   "id": "systematic-processor",
   "metadata": {
    "execution": {
     "iopub.execute_input": "2021-04-16T08:54:33.132340Z",
     "iopub.status.busy": "2021-04-16T08:54:33.131653Z",
     "iopub.status.idle": "2021-04-16T08:54:33.135812Z",
     "shell.execute_reply": "2021-04-16T08:54:33.135209Z"
    },
    "papermill": {
     "duration": 0.085026,
     "end_time": "2021-04-16T08:54:33.135959",
     "exception": false,
     "start_time": "2021-04-16T08:54:33.050933",
     "status": "completed"
    },
    "tags": []
   },
   "outputs": [],
   "source": [
    "# Изменяем принадлежность к списку признаку decline_app_cnt\n",
    "num_cols.remove('decline_app_cnt')\n",
    "cat_cols.append('decline_app_cnt')"
   ]
  },
  {
   "cell_type": "code",
   "execution_count": 43,
   "id": "south-finnish",
   "metadata": {
    "execution": {
     "iopub.execute_input": "2021-04-16T08:54:33.296343Z",
     "iopub.status.busy": "2021-04-16T08:54:33.295346Z",
     "iopub.status.idle": "2021-04-16T08:54:33.326074Z",
     "shell.execute_reply": "2021-04-16T08:54:33.325451Z"
    },
    "papermill": {
     "duration": 0.114416,
     "end_time": "2021-04-16T08:54:33.326230",
     "exception": false,
     "start_time": "2021-04-16T08:54:33.211814",
     "status": "completed"
    },
    "tags": []
   },
   "outputs": [],
   "source": [
    "# Теперь прологарифмируем численные переменные, распределение которых смещено \n",
    "\n",
    "num_cols_log = ['age', 'bki_request_cnt', 'income']\n",
    "\n",
    "for i in num_cols_log:\n",
    "    train[i] = np.log(train[i] + 1)\n",
    "    \n",
    "    \n",
    "for i in num_cols_log:\n",
    "    test[i] = np.log(test[i] + 1)"
   ]
  },
  {
   "cell_type": "markdown",
   "id": "monetary-teddy",
   "metadata": {
    "papermill": {
     "duration": 0.075974,
     "end_time": "2021-04-16T08:54:33.479478",
     "exception": false,
     "start_time": "2021-04-16T08:54:33.403504",
     "status": "completed"
    },
    "tags": []
   },
   "source": [
    "# Визуализация и значимость признаков"
   ]
  },
  {
   "cell_type": "code",
   "execution_count": 44,
   "id": "cross-conducting",
   "metadata": {
    "execution": {
     "iopub.execute_input": "2021-04-16T08:54:33.638727Z",
     "iopub.status.busy": "2021-04-16T08:54:33.637754Z",
     "iopub.status.idle": "2021-04-16T08:54:34.845084Z",
     "shell.execute_reply": "2021-04-16T08:54:34.844375Z"
    },
    "papermill": {
     "duration": 1.290346,
     "end_time": "2021-04-16T08:54:34.845243",
     "exception": false,
     "start_time": "2021-04-16T08:54:33.554897",
     "status": "completed"
    },
    "tags": []
   },
   "outputs": [
    {
     "data": {
      "image/png": "[encoded data removed]",
      "text/plain": [
       "<Figure size 432x288 with 1 Axes>"
      ]
     },
     "metadata": {
      "needs_background": "light"
     },
     "output_type": "display_data"
    },
    {
     "data": {
      "image/png": "[encoded data removed]",
      "text/plain": [
       "<Figure size 432x288 with 1 Axes>"
      ]
     },
     "metadata": {
      "needs_background": "light"
     },
     "output_type": "display_data"
    },
    {
     "data": {
      "image/png": "[encoded data removed]",
      "text/plain": [
       "<Figure size 432x288 with 1 Axes>"
      ]
     },
     "metadata": {
      "needs_background": "light"
     },
     "output_type": "display_data"
    },
    {
     "data": {
      "image/png": "[encoded data removed]",
      "text/plain": [
       "<Figure size 432x288 with 1 Axes>"
      ]
     },
     "metadata": {
      "needs_background": "light"
     },
     "output_type": "display_data"
    },
    {
     "data": {
      "image/png": "[encoded data removed]",
      "text/plain": [
       "<Figure size 432x288 with 1 Axes>"
      ]
     },
     "metadata": {
      "needs_background": "light"
     },
     "output_type": "display_data"
    },
    {
     "data": {
      "image/png": "[encoded data removed]",
      "text/plain": [
       "<Figure size 432x288 with 1 Axes>"
      ]
     },
     "metadata": {
      "needs_background": "light"
     },
     "output_type": "display_data"
    },
    {
     "data": {
      "image/png": "[encoded data removed]",
      "text/plain": [
       "<Figure size 432x288 with 1 Axes>"
      ]
     },
     "metadata": {
      "needs_background": "light"
     },
     "output_type": "display_data"
    },
    {
     "data": {
      "image/png": "[encoded data removed]",
      "text/plain": [
       "<Figure size 432x288 with 1 Axes>"
      ]
     },
     "metadata": {
      "needs_background": "light"
     },
     "output_type": "display_data"
    },
    {
     "data": {
      "image/png": "[encoded data removed]",
      "text/plain": [
       "<Figure size 432x288 with 1 Axes>"
      ]
     },
     "metadata": {
      "needs_background": "light"
     },
     "output_type": "display_data"
    }
   ],
   "source": [
    "# Посмотрим на гистограммы распределения бинарных признаков\n",
    "for column in bin_cols:\n",
    "    plt.figure()\n",
    "    sns.countplot(train[column])\n",
    "    plt.title(column)\n",
    "    plt.show()"
   ]
  },
  {
   "cell_type": "code",
   "execution_count": 45,
   "id": "entertaining-planning",
   "metadata": {
    "execution": {
     "iopub.execute_input": "2021-04-16T08:54:35.019950Z",
     "iopub.status.busy": "2021-04-16T08:54:35.019245Z",
     "iopub.status.idle": "2021-04-16T08:54:36.508430Z",
     "shell.execute_reply": "2021-04-16T08:54:36.507810Z"
    },
    "papermill": {
     "duration": 1.580169,
     "end_time": "2021-04-16T08:54:36.508574",
     "exception": false,
     "start_time": "2021-04-16T08:54:34.928405",
     "status": "completed"
    },
    "tags": []
   },
   "outputs": [
    {
     "data": {
      "image/png": "[encoded data removed]",
      "text/plain": [
       "<Figure size 432x288 with 1 Axes>"
      ]
     },
     "metadata": {
      "needs_background": "light"
     },
     "output_type": "display_data"
    },
    {
     "data": {
      "image/png": "[encoded data removed]",
      "text/plain": [
       "<Figure size 432x288 with 1 Axes>"
      ]
     },
     "metadata": {
      "needs_background": "light"
     },
     "output_type": "display_data"
    },
    {
     "data": {
      "image/png": "[encoded data removed]",
      "text/plain": [
       "<Figure size 432x288 with 1 Axes>"
      ]
     },
     "metadata": {
      "needs_background": "light"
     },
     "output_type": "display_data"
    },
    {
     "data": {
      "image/png": "[encoded data removed]",
      "text/plain": [
       "<Figure size 432x288 with 1 Axes>"
      ]
     },
     "metadata": {
      "needs_background": "light"
     },
     "output_type": "display_data"
    },
    {
     "data": {
      "image/png": "[encoded data removed]",
      "text/plain": [
       "<Figure size 432x288 with 1 Axes>"
      ]
     },
     "metadata": {
      "needs_background": "light"
     },
     "output_type": "display_data"
    },
    {
     "data": {
      "image/png": "[encoded data removed]",
      "text/plain": [
       "<Figure size 432x288 with 1 Axes>"
      ]
     },
     "metadata": {
      "needs_background": "light"
     },
     "output_type": "display_data"
    },
    {
     "data": {
      "image/png": "[encoded data removed]",
      "text/plain": [
       "<Figure size 432x288 with 1 Axes>"
      ]
     },
     "metadata": {
      "needs_background": "light"
     },
     "output_type": "display_data"
    },
    {
     "data": {
      "image/png": "[encoded data removed]",
      "text/plain": [
       "<Figure size 432x288 with 1 Axes>"
      ]
     },
     "metadata": {
      "needs_background": "light"
     },
     "output_type": "display_data"
    },
    {
     "data": {
      "image/png": "[encoded data removed]",
      "text/plain": [
       "<Figure size 432x288 with 1 Axes>"
      ]
     },
     "metadata": {
      "needs_background": "light"
     },
     "output_type": "display_data"
    }
   ],
   "source": [
    "# boxplots числовых признаков\n",
    "for column in num_cols:\n",
    "    plt.figure()\n",
    "    sns.boxplot(x=train['default'], y=train[column])\n",
    "    plt.title(column)\n",
    "    plt.show()"
   ]
  },
  {
   "cell_type": "code",
   "execution_count": 46,
   "id": "industrial-manual",
   "metadata": {
    "execution": {
     "iopub.execute_input": "2021-04-16T08:54:36.695211Z",
     "iopub.status.busy": "2021-04-16T08:54:36.694335Z",
     "iopub.status.idle": "2021-04-16T08:54:37.154716Z",
     "shell.execute_reply": "2021-04-16T08:54:37.155523Z"
    },
    "papermill": {
     "duration": 0.557436,
     "end_time": "2021-04-16T08:54:37.155732",
     "exception": false,
     "start_time": "2021-04-16T08:54:36.598296",
     "status": "completed"
    },
    "tags": []
   },
   "outputs": [
    {
     "data": {
      "text/plain": [
       "<AxesSubplot:>"
      ]
     },
     "execution_count": 46,
     "metadata": {},
     "output_type": "execute_result"
    },
    {
     "data": {
      "image/png": "[encoded data removed]",
      "text/plain": [
       "<Figure size 432x288 with 1 Axes>"
      ]
     },
     "metadata": {
      "needs_background": "light"
     },
     "output_type": "display_data"
    }
   ],
   "source": [
    "# Значимость бинарных и категориальных переменных\n",
    "imp_cat = Series(mutual_info_classif(train[bin_cols + cat_cols], train['default'],\n",
    "                                     discrete_features =True), index = bin_cols + cat_cols)\n",
    "imp_cat.sort_values(inplace = True)\n",
    "imp_cat.plot(kind = 'barh')"
   ]
  },
  {
   "cell_type": "code",
   "execution_count": 47,
   "id": "aging-lounge",
   "metadata": {
    "execution": {
     "iopub.execute_input": "2021-04-16T08:54:37.351235Z",
     "iopub.status.busy": "2021-04-16T08:54:37.350050Z",
     "iopub.status.idle": "2021-04-16T08:54:37.527877Z",
     "shell.execute_reply": "2021-04-16T08:54:37.528383Z"
    },
    "papermill": {
     "duration": 0.282415,
     "end_time": "2021-04-16T08:54:37.528570",
     "exception": false,
     "start_time": "2021-04-16T08:54:37.246155",
     "status": "completed"
    },
    "tags": []
   },
   "outputs": [
    {
     "data": {
      "text/plain": [
       "Text(0.5, 0, 'F-value')"
      ]
     },
     "execution_count": 47,
     "metadata": {},
     "output_type": "execute_result"
    },
    {
     "data": {
      "image/png": "[encoded data removed]",
      "text/plain": [
       "<Figure size 432x288 with 1 Axes>"
      ]
     },
     "metadata": {
      "needs_background": "light"
     },
     "output_type": "display_data"
    }
   ],
   "source": [
    "# еще раз посмотрим на значимость числовых переменных\n",
    "imp_num = Series(f_classif(train[num_cols], train['default'])[0],\n",
    "                 index=num_cols)\n",
    "imp_num.sort_values(inplace=True)\n",
    "imp_num.plot(kind='barh')\n",
    "plt.xlabel('F-value')"
   ]
  },
  {
   "cell_type": "code",
   "execution_count": 48,
   "id": "relevant-career",
   "metadata": {
    "execution": {
     "iopub.execute_input": "2021-04-16T08:54:37.724785Z",
     "iopub.status.busy": "2021-04-16T08:54:37.723880Z",
     "iopub.status.idle": "2021-04-16T08:54:38.226948Z",
     "shell.execute_reply": "2021-04-16T08:54:38.226379Z"
    },
    "papermill": {
     "duration": 0.606356,
     "end_time": "2021-04-16T08:54:38.227115",
     "exception": false,
     "start_time": "2021-04-16T08:54:37.620759",
     "status": "completed"
    },
    "tags": []
   },
   "outputs": [
    {
     "data": {
      "text/html": [
       "<style  type=\"text/css\" >\n",
       "#T_fab83_row0_col0,#T_fab83_row1_col1,#T_fab83_row2_col2,#T_fab83_row3_col3,#T_fab83_row4_col4,#T_fab83_row5_col5,#T_fab83_row6_col6,#T_fab83_row7_col7,#T_fab83_row8_col8,#T_fab83_row9_col9,#T_fab83_row10_col10,#T_fab83_row11_col11,#T_fab83_row12_col12,#T_fab83_row13_col13,#T_fab83_row14_col14,#T_fab83_row15_col15,#T_fab83_row16_col16,#T_fab83_row17_col17,#T_fab83_row18_col18,#T_fab83_row19_col19,#T_fab83_row20_col20,#T_fab83_row21_col21,#T_fab83_row22_col22,#T_fab83_row23_col23,#T_fab83_row24_col24,#T_fab83_row25_col25{\n",
       "            background-color:  #b40426;\n",
       "            color:  #f1f1f1;\n",
       "        }#T_fab83_row0_col1,#T_fab83_row0_col7,#T_fab83_row1_col4,#T_fab83_row1_col6,#T_fab83_row2_col7,#T_fab83_row4_col1,#T_fab83_row6_col16,#T_fab83_row6_col17,#T_fab83_row8_col18,#T_fab83_row12_col2,#T_fab83_row12_col3,#T_fab83_row12_col13,#T_fab83_row12_col14,#T_fab83_row12_col24,#T_fab83_row13_col12,#T_fab83_row13_col15,#T_fab83_row14_col19,#T_fab83_row18_col0,#T_fab83_row18_col3,#T_fab83_row18_col5,#T_fab83_row18_col8,#T_fab83_row18_col9,#T_fab83_row18_col10,#T_fab83_row18_col11,#T_fab83_row18_col20,#T_fab83_row18_col21,#T_fab83_row18_col22,#T_fab83_row18_col23,#T_fab83_row18_col25{\n",
       "            background-color:  #3b4cc0;\n",
       "            color:  #f1f1f1;\n",
       "        }#T_fab83_row0_col2,#T_fab83_row3_col0,#T_fab83_row3_col20,#T_fab83_row4_col8,#T_fab83_row25_col3{\n",
       "            background-color:  #a7c5fe;\n",
       "            color:  #000000;\n",
       "        }#T_fab83_row0_col3,#T_fab83_row0_col21,#T_fab83_row3_col12,#T_fab83_row13_col11,#T_fab83_row13_col21,#T_fab83_row20_col18{\n",
       "            background-color:  #9abbff;\n",
       "            color:  #000000;\n",
       "        }#T_fab83_row0_col4,#T_fab83_row6_col10,#T_fab83_row6_col14,#T_fab83_row20_col9,#T_fab83_row23_col9{\n",
       "            background-color:  #6384eb;\n",
       "            color:  #000000;\n",
       "        }#T_fab83_row0_col5,#T_fab83_row2_col17,#T_fab83_row3_col19,#T_fab83_row4_col16,#T_fab83_row4_col17,#T_fab83_row13_col6,#T_fab83_row15_col5,#T_fab83_row17_col7,#T_fab83_row17_col19,#T_fab83_row22_col7,#T_fab83_row25_col7,#T_fab83_row25_col19{\n",
       "            background-color:  #455cce;\n",
       "            color:  #f1f1f1;\n",
       "        }#T_fab83_row0_col6,#T_fab83_row0_col19,#T_fab83_row2_col15,#T_fab83_row4_col20,#T_fab83_row5_col15,#T_fab83_row7_col25,#T_fab83_row12_col7,#T_fab83_row12_col11,#T_fab83_row12_col16,#T_fab83_row12_col17,#T_fab83_row13_col7,#T_fab83_row15_col24,#T_fab83_row16_col3,#T_fab83_row18_col19,#T_fab83_row19_col22,#T_fab83_row23_col16,#T_fab83_row23_col17,#T_fab83_row25_col16,#T_fab83_row25_col17{\n",
       "            background-color:  #4b64d5;\n",
       "            color:  #f1f1f1;\n",
       "        }#T_fab83_row0_col8,#T_fab83_row8_col11{\n",
       "            background-color:  #c7d7f0;\n",
       "            color:  #000000;\n",
       "        }#T_fab83_row0_col9,#T_fab83_row7_col20,#T_fab83_row13_col0,#T_fab83_row14_col9,#T_fab83_row19_col0,#T_fab83_row21_col10{\n",
       "            background-color:  #6687ed;\n",
       "            color:  #000000;\n",
       "        }#T_fab83_row0_col10,#T_fab83_row9_col14,#T_fab83_row11_col10,#T_fab83_row15_col9{\n",
       "            background-color:  #7597f6;\n",
       "            color:  #000000;\n",
       "        }#T_fab83_row0_col11,#T_fab83_row3_col8,#T_fab83_row9_col12,#T_fab83_row11_col3,#T_fab83_row22_col8,#T_fab83_row24_col3{\n",
       "            background-color:  #c6d6f1;\n",
       "            color:  #000000;\n",
       "        }#T_fab83_row0_col12,#T_fab83_row8_col10,#T_fab83_row16_col12,#T_fab83_row17_col12,#T_fab83_row19_col8,#T_fab83_row20_col14{\n",
       "            background-color:  #adc9fd;\n",
       "            color:  #000000;\n",
       "        }#T_fab83_row0_col13,#T_fab83_row17_col13,#T_fab83_row23_col24,#T_fab83_row24_col23{\n",
       "            background-color:  #b1cbfc;\n",
       "            color:  #000000;\n",
       "        }#T_fab83_row0_col14,#T_fab83_row0_col24,#T_fab83_row7_col4,#T_fab83_row8_col0,#T_fab83_row10_col11,#T_fab83_row10_col16,#T_fab83_row15_col4{\n",
       "            background-color:  #82a6fb;\n",
       "            color:  #000000;\n",
       "        }#T_fab83_row0_col15,#T_fab83_row5_col10,#T_fab83_row9_col1,#T_fab83_row9_col6,#T_fab83_row10_col6,#T_fab83_row19_col21{\n",
       "            background-color:  #5d7ce6;\n",
       "            color:  #000000;\n",
       "        }#T_fab83_row0_col16,#T_fab83_row0_col17,#T_fab83_row3_col7,#T_fab83_row8_col19,#T_fab83_row11_col1,#T_fab83_row12_col23,#T_fab83_row20_col19,#T_fab83_row22_col19{\n",
       "            background-color:  #4358cb;\n",
       "            color:  #f1f1f1;\n",
       "        }#T_fab83_row0_col18,#T_fab83_row8_col24{\n",
       "            background-color:  #90b2fe;\n",
       "            color:  #000000;\n",
       "        }#T_fab83_row0_col20,#T_fab83_row9_col11,#T_fab83_row25_col20{\n",
       "            background-color:  #7b9ff9;\n",
       "            color:  #000000;\n",
       "        }#T_fab83_row0_col22,#T_fab83_row3_col10,#T_fab83_row6_col9,#T_fab83_row7_col10,#T_fab83_row7_col21,#T_fab83_row9_col4,#T_fab83_row9_col20,#T_fab83_row14_col5,#T_fab83_row15_col7,#T_fab83_row15_col11{\n",
       "            background-color:  #5f7fe8;\n",
       "            color:  #000000;\n",
       "        }#T_fab83_row0_col23,#T_fab83_row0_col25,#T_fab83_row8_col2,#T_fab83_row8_col25,#T_fab83_row9_col23,#T_fab83_row10_col4,#T_fab83_row10_col24,#T_fab83_row13_col5,#T_fab83_row16_col1,#T_fab83_row16_col21,#T_fab83_row17_col1,#T_fab83_row17_col21,#T_fab83_row25_col10{\n",
       "            background-color:  #6282ea;\n",
       "            color:  #000000;\n",
       "        }#T_fab83_row1_col0,#T_fab83_row12_col22,#T_fab83_row12_col25,#T_fab83_row24_col19{\n",
       "            background-color:  #3f53c6;\n",
       "            color:  #f1f1f1;\n",
       "        }#T_fab83_row1_col2,#T_fab83_row3_col16,#T_fab83_row3_col17,#T_fab83_row4_col2,#T_fab83_row4_col3,#T_fab83_row5_col19,#T_fab83_row8_col1,#T_fab83_row8_col7,#T_fab83_row14_col15,#T_fab83_row15_col25,#T_fab83_row16_col7,#T_fab83_row18_col16,#T_fab83_row18_col17,#T_fab83_row24_col7{\n",
       "            background-color:  #445acc;\n",
       "            color:  #f1f1f1;\n",
       "        }#T_fab83_row1_col3,#T_fab83_row1_col22,#T_fab83_row4_col5,#T_fab83_row4_col22,#T_fab83_row5_col1,#T_fab83_row7_col16,#T_fab83_row7_col17,#T_fab83_row9_col7,#T_fab83_row12_col1,#T_fab83_row16_col2,#T_fab83_row24_col15,#T_fab83_row24_col16,#T_fab83_row24_col17{\n",
       "            background-color:  #4961d2;\n",
       "            color:  #f1f1f1;\n",
       "        }#T_fab83_row1_col5,#T_fab83_row12_col20,#T_fab83_row18_col2,#T_fab83_row18_col24{\n",
       "            background-color:  #3c4ec2;\n",
       "            color:  #f1f1f1;\n",
       "        }#T_fab83_row1_col7,#T_fab83_row3_col5,#T_fab83_row5_col0,#T_fab83_row6_col23,#T_fab83_row7_col24,#T_fab83_row15_col14,#T_fab83_row16_col4,#T_fab83_row17_col4,#T_fab83_row22_col1{\n",
       "            background-color:  #5673e0;\n",
       "            color:  #000000;\n",
       "        }#T_fab83_row1_col8,#T_fab83_row4_col13,#T_fab83_row8_col12,#T_fab83_row14_col20,#T_fab83_row15_col8{\n",
       "            background-color:  #9dbdff;\n",
       "            color:  #000000;\n",
       "        }#T_fab83_row1_col9,#T_fab83_row5_col6,#T_fab83_row5_col9,#T_fab83_row9_col19,#T_fab83_row11_col6,#T_fab83_row16_col0,#T_fab83_row16_col20,#T_fab83_row17_col20,#T_fab83_row24_col1,#T_fab83_row25_col9{\n",
       "            background-color:  #5a78e4;\n",
       "            color:  #000000;\n",
       "        }#T_fab83_row1_col10,#T_fab83_row6_col21,#T_fab83_row7_col9,#T_fab83_row8_col6,#T_fab83_row15_col19,#T_fab83_row19_col14,#T_fab83_row24_col5{\n",
       "            background-color:  #5b7ae5;\n",
       "            color:  #000000;\n",
       "        }#T_fab83_row1_col11,#T_fab83_row2_col9,#T_fab83_row3_col1,#T_fab83_row5_col4,#T_fab83_row6_col19,#T_fab83_row14_col4,#T_fab83_row22_col6{\n",
       "            background-color:  #5470de;\n",
       "            color:  #000000;\n",
       "        }#T_fab83_row1_col12,#T_fab83_row2_col12,#T_fab83_row3_col18,#T_fab83_row6_col13{\n",
       "            background-color:  #9ebeff;\n",
       "            color:  #000000;\n",
       "        }#T_fab83_row1_col13{\n",
       "            background-color:  #c3d5f4;\n",
       "            color:  #000000;\n",
       "        }#T_fab83_row1_col14,#T_fab83_row2_col10,#T_fab83_row4_col9,#T_fab83_row21_col9,#T_fab83_row23_col2{\n",
       "            background-color:  #5e7de7;\n",
       "            color:  #000000;\n",
       "        }#T_fab83_row1_col15,#T_fab83_row1_col16,#T_fab83_row4_col19,#T_fab83_row4_col24,#T_fab83_row6_col20,#T_fab83_row9_col5,#T_fab83_row10_col25,#T_fab83_row15_col21,#T_fab83_row19_col3,#T_fab83_row19_col7,#T_fab83_row20_col16,#T_fab83_row20_col17,#T_fab83_row22_col15,#T_fab83_row23_col1{\n",
       "            background-color:  #506bda;\n",
       "            color:  #000000;\n",
       "        }#T_fab83_row1_col17,#T_fab83_row1_col20,#T_fab83_row2_col5,#T_fab83_row6_col24,#T_fab83_row8_col4,#T_fab83_row13_col16,#T_fab83_row13_col17,#T_fab83_row16_col22,#T_fab83_row17_col22,#T_fab83_row19_col24,#T_fab83_row20_col4{\n",
       "            background-color:  #516ddb;\n",
       "            color:  #000000;\n",
       "        }#T_fab83_row1_col18{\n",
       "            background-color:  #f59d7e;\n",
       "            color:  #000000;\n",
       "        }#T_fab83_row1_col19,#T_fab83_row12_col21,#T_fab83_row18_col14{\n",
       "            background-color:  #3d50c3;\n",
       "            color:  #f1f1f1;\n",
       "        }#T_fab83_row1_col21,#T_fab83_row2_col1,#T_fab83_row2_col4,#T_fab83_row4_col23,#T_fab83_row6_col5,#T_fab83_row7_col5,#T_fab83_row10_col3,#T_fab83_row14_col1,#T_fab83_row14_col6,#T_fab83_row16_col5,#T_fab83_row17_col5,#T_fab83_row19_col1,#T_fab83_row19_col20,#T_fab83_row19_col23,#T_fab83_row20_col6,#T_fab83_row24_col4{\n",
       "            background-color:  #536edd;\n",
       "            color:  #000000;\n",
       "        }#T_fab83_row1_col23,#T_fab83_row2_col6,#T_fab83_row7_col22,#T_fab83_row8_col16,#T_fab83_row10_col2,#T_fab83_row16_col15,#T_fab83_row17_col15,#T_fab83_row19_col25,#T_fab83_row22_col16,#T_fab83_row23_col15{\n",
       "            background-color:  #4c66d6;\n",
       "            color:  #000000;\n",
       "        }#T_fab83_row1_col24,#T_fab83_row3_col9,#T_fab83_row4_col21,#T_fab83_row5_col3,#T_fab83_row7_col23,#T_fab83_row10_col22,#T_fab83_row16_col24,#T_fab83_row17_col24,#T_fab83_row20_col1,#T_fab83_row20_col7{\n",
       "            background-color:  #5875e1;\n",
       "            color:  #000000;\n",
       "        }#T_fab83_row1_col25,#T_fab83_row15_col16,#T_fab83_row15_col17,#T_fab83_row21_col7,#T_fab83_row23_col19{\n",
       "            background-color:  #4055c8;\n",
       "            color:  #f1f1f1;\n",
       "        }#T_fab83_row2_col0,#T_fab83_row12_col18{\n",
       "            background-color:  #b7cff9;\n",
       "            color:  #000000;\n",
       "        }#T_fab83_row2_col3{\n",
       "            background-color:  #f6a586;\n",
       "            color:  #000000;\n",
       "        }#T_fab83_row2_col8,#T_fab83_row25_col8{\n",
       "            background-color:  #bfd3f6;\n",
       "            color:  #000000;\n",
       "        }#T_fab83_row2_col11,#T_fab83_row3_col24,#T_fab83_row11_col21,#T_fab83_row15_col18{\n",
       "            background-color:  #cbd8ee;\n",
       "            color:  #000000;\n",
       "        }#T_fab83_row2_col13,#T_fab83_row8_col13,#T_fab83_row23_col13{\n",
       "            background-color:  #c1d4f4;\n",
       "            color:  #000000;\n",
       "        }#T_fab83_row2_col14,#T_fab83_row3_col22,#T_fab83_row24_col0,#T_fab83_row24_col25{\n",
       "            background-color:  #89acfd;\n",
       "            color:  #000000;\n",
       "        }#T_fab83_row2_col16,#T_fab83_row2_col19,#T_fab83_row4_col25,#T_fab83_row6_col3,#T_fab83_row11_col19,#T_fab83_row14_col7,#T_fab83_row15_col20,#T_fab83_row16_col19,#T_fab83_row17_col6,#T_fab83_row23_col7{\n",
       "            background-color:  #465ecf;\n",
       "            color:  #f1f1f1;\n",
       "        }#T_fab83_row2_col18,#T_fab83_row5_col12,#T_fab83_row25_col12,#T_fab83_row25_col18{\n",
       "            background-color:  #a2c1ff;\n",
       "            color:  #000000;\n",
       "        }#T_fab83_row2_col20,#T_fab83_row3_col14,#T_fab83_row13_col19,#T_fab83_row16_col10,#T_fab83_row25_col11,#T_fab83_row25_col24{\n",
       "            background-color:  #94b6ff;\n",
       "            color:  #000000;\n",
       "        }#T_fab83_row2_col21,#T_fab83_row14_col21,#T_fab83_row20_col11{\n",
       "            background-color:  #f7bca1;\n",
       "            color:  #000000;\n",
       "        }#T_fab83_row2_col22,#T_fab83_row20_col0,#T_fab83_row20_col23{\n",
       "            background-color:  #86a9fc;\n",
       "            color:  #000000;\n",
       "        }#T_fab83_row2_col23,#T_fab83_row4_col0,#T_fab83_row7_col14,#T_fab83_row9_col21,#T_fab83_row11_col9,#T_fab83_row15_col0{\n",
       "            background-color:  #688aef;\n",
       "            color:  #000000;\n",
       "        }#T_fab83_row2_col24,#T_fab83_row21_col11,#T_fab83_row23_col8{\n",
       "            background-color:  #cfdaea;\n",
       "            color:  #000000;\n",
       "        }#T_fab83_row2_col25,#T_fab83_row4_col12,#T_fab83_row6_col12,#T_fab83_row22_col13,#T_fab83_row25_col2,#T_fab83_row25_col23{\n",
       "            background-color:  #bcd2f7;\n",
       "            color:  #000000;\n",
       "        }#T_fab83_row3_col2,#T_fab83_row21_col24{\n",
       "            background-color:  #f7a688;\n",
       "            color:  #000000;\n",
       "        }#T_fab83_row3_col4,#T_fab83_row5_col2,#T_fab83_row7_col19,#T_fab83_row8_col17,#T_fab83_row9_col3,#T_fab83_row10_col5,#T_fab83_row15_col23,#T_fab83_row21_col6,#T_fab83_row24_col6,#T_fab83_row25_col1{\n",
       "            background-color:  #4f69d9;\n",
       "            color:  #000000;\n",
       "        }#T_fab83_row3_col6,#T_fab83_row5_col16,#T_fab83_row5_col17,#T_fab83_row7_col3,#T_fab83_row9_col25,#T_fab83_row11_col16,#T_fab83_row11_col17,#T_fab83_row13_col10,#T_fab83_row16_col25,#T_fab83_row17_col25,#T_fab83_row19_col2,#T_fab83_row19_col5,#T_fab83_row21_col4,#T_fab83_row22_col17,#T_fab83_row25_col15{\n",
       "            background-color:  #4e68d8;\n",
       "            color:  #000000;\n",
       "        }#T_fab83_row3_col11,#T_fab83_row14_col13{\n",
       "            background-color:  #d5dbe5;\n",
       "            color:  #000000;\n",
       "        }#T_fab83_row3_col13,#T_fab83_row13_col8{\n",
       "            background-color:  #c4d5f3;\n",
       "            color:  #000000;\n",
       "        }#T_fab83_row3_col15,#T_fab83_row9_col2,#T_fab83_row10_col7,#T_fab83_row11_col15,#T_fab83_row13_col4,#T_fab83_row14_col16,#T_fab83_row14_col17,#T_fab83_row15_col22,#T_fab83_row16_col6,#T_fab83_row17_col2,#T_fab83_row20_col15,#T_fab83_row21_col16,#T_fab83_row21_col17{\n",
       "            background-color:  #485fd1;\n",
       "            color:  #f1f1f1;\n",
       "        }#T_fab83_row3_col21,#T_fab83_row11_col8{\n",
       "            background-color:  #ead4c8;\n",
       "            color:  #000000;\n",
       "        }#T_fab83_row3_col23,#T_fab83_row10_col15,#T_fab83_row16_col11,#T_fab83_row22_col0{\n",
       "            background-color:  #7093f3;\n",
       "            color:  #000000;\n",
       "        }#T_fab83_row3_col25,#T_fab83_row8_col9,#T_fab83_row13_col14,#T_fab83_row20_col3,#T_fab83_row24_col20{\n",
       "            background-color:  #a3c2fe;\n",
       "            color:  #000000;\n",
       "        }#T_fab83_row4_col6,#T_fab83_row20_col12,#T_fab83_row23_col11,#T_fab83_row24_col18{\n",
       "            background-color:  #98b9ff;\n",
       "            color:  #000000;\n",
       "        }#T_fab83_row4_col7,#T_fab83_row9_col0,#T_fab83_row19_col9{\n",
       "            background-color:  #6e90f2;\n",
       "            color:  #000000;\n",
       "        }#T_fab83_row4_col10,#T_fab83_row5_col24,#T_fab83_row10_col23,#T_fab83_row13_col22,#T_fab83_row14_col25,#T_fab83_row16_col14,#T_fab83_row17_col14,#T_fab83_row19_col4,#T_fab83_row19_col6{\n",
       "            background-color:  #6485ec;\n",
       "            color:  #000000;\n",
       "        }#T_fab83_row4_col11,#T_fab83_row13_col2,#T_fab83_row18_col7,#T_fab83_row20_col5,#T_fab83_row20_col10,#T_fab83_row23_col3,#T_fab83_row23_col10{\n",
       "            background-color:  #6a8bef;\n",
       "            color:  #000000;\n",
       "        }#T_fab83_row4_col14,#T_fab83_row9_col24,#T_fab83_row10_col20,#T_fab83_row11_col5,#T_fab83_row11_col7,#T_fab83_row12_col0,#T_fab83_row13_col25,#T_fab83_row22_col9,#T_fab83_row24_col9{\n",
       "            background-color:  #6180e9;\n",
       "            color:  #000000;\n",
       "        }#T_fab83_row4_col15,#T_fab83_row5_col11,#T_fab83_row14_col0,#T_fab83_row20_col22{\n",
       "            background-color:  #7da0f9;\n",
       "            color:  #000000;\n",
       "        }#T_fab83_row4_col18,#T_fab83_row11_col0,#T_fab83_row14_col11,#T_fab83_row22_col14,#T_fab83_row24_col11{\n",
       "            background-color:  #bed2f6;\n",
       "            color:  #000000;\n",
       "        }#T_fab83_row5_col7,#T_fab83_row6_col22,#T_fab83_row6_col25,#T_fab83_row13_col9,#T_fab83_row17_col3,#T_fab83_row19_col16,#T_fab83_row19_col17,#T_fab83_row21_col1{\n",
       "            background-color:  #4a63d3;\n",
       "            color:  #f1f1f1;\n",
       "        }#T_fab83_row5_col8{\n",
       "            background-color:  #c0d4f5;\n",
       "            color:  #000000;\n",
       "        }#T_fab83_row5_col13,#T_fab83_row11_col14,#T_fab83_row20_col21{\n",
       "            background-color:  #bad0f8;\n",
       "            color:  #000000;\n",
       "        }#T_fab83_row5_col14,#T_fab83_row10_col0{\n",
       "            background-color:  #779af7;\n",
       "            color:  #000000;\n",
       "        }#T_fab83_row5_col18,#T_fab83_row10_col13,#T_fab83_row12_col8,#T_fab83_row22_col18{\n",
       "            background-color:  #9fbfff;\n",
       "            color:  #000000;\n",
       "        }#T_fab83_row5_col20,#T_fab83_row6_col11,#T_fab83_row7_col15,#T_fab83_row8_col22,#T_fab83_row14_col2,#T_fab83_row17_col11,#T_fab83_row18_col4{\n",
       "            background-color:  #6f92f3;\n",
       "            color:  #000000;\n",
       "        }#T_fab83_row5_col21{\n",
       "            background-color:  #f0cdbb;\n",
       "            color:  #000000;\n",
       "        }#T_fab83_row5_col22,#T_fab83_row20_col24,#T_fab83_row22_col5{\n",
       "            background-color:  #a6c4fe;\n",
       "            color:  #000000;\n",
       "        }#T_fab83_row5_col23,#T_fab83_row20_col8{\n",
       "            background-color:  #d3dbe7;\n",
       "            color:  #000000;\n",
       "        }#T_fab83_row5_col25{\n",
       "            background-color:  #edd2c3;\n",
       "            color:  #000000;\n",
       "        }#T_fab83_row6_col0,#T_fab83_row7_col0,#T_fab83_row9_col22,#T_fab83_row15_col1,#T_fab83_row22_col4,#T_fab83_row23_col4,#T_fab83_row23_col6,#T_fab83_row25_col4,#T_fab83_row25_col6{\n",
       "            background-color:  #5572df;\n",
       "            color:  #000000;\n",
       "        }#T_fab83_row6_col1,#T_fab83_row8_col15,#T_fab83_row21_col19{\n",
       "            background-color:  #3e51c5;\n",
       "            color:  #f1f1f1;\n",
       "        }#T_fab83_row6_col2,#T_fab83_row7_col2,#T_fab83_row12_col5,#T_fab83_row15_col2,#T_fab83_row15_col3,#T_fab83_row21_col15{\n",
       "            background-color:  #4257c9;\n",
       "            color:  #f1f1f1;\n",
       "        }#T_fab83_row6_col4,#T_fab83_row23_col12{\n",
       "            background-color:  #9bbcff;\n",
       "            color:  #000000;\n",
       "        }#T_fab83_row6_col7,#T_fab83_row20_col25{\n",
       "            background-color:  #7396f5;\n",
       "            color:  #000000;\n",
       "        }#T_fab83_row6_col8,#T_fab83_row19_col18,#T_fab83_row23_col25{\n",
       "            background-color:  #b3cdfb;\n",
       "            color:  #000000;\n",
       "        }#T_fab83_row6_col15,#T_fab83_row15_col6,#T_fab83_row16_col9{\n",
       "            background-color:  #8fb1fe;\n",
       "            color:  #000000;\n",
       "        }#T_fab83_row6_col18,#T_fab83_row22_col21{\n",
       "            background-color:  #f7b497;\n",
       "            color:  #000000;\n",
       "        }#T_fab83_row7_col1,#T_fab83_row10_col21,#T_fab83_row12_col6,#T_fab83_row14_col10,#T_fab83_row19_col11{\n",
       "            background-color:  #6c8ff1;\n",
       "            color:  #000000;\n",
       "        }#T_fab83_row7_col6,#T_fab83_row13_col24,#T_fab83_row22_col20,#T_fab83_row23_col20{\n",
       "            background-color:  #84a7fc;\n",
       "            color:  #000000;\n",
       "        }#T_fab83_row7_col8,#T_fab83_row13_col18,#T_fab83_row21_col20{\n",
       "            background-color:  #aec9fc;\n",
       "            color:  #000000;\n",
       "        }#T_fab83_row7_col11,#T_fab83_row11_col18,#T_fab83_row11_col23,#T_fab83_row14_col12,#T_fab83_row22_col2{\n",
       "            background-color:  #85a8fc;\n",
       "            color:  #000000;\n",
       "        }#T_fab83_row7_col12,#T_fab83_row7_col13,#T_fab83_row11_col24{\n",
       "            background-color:  #afcafc;\n",
       "            color:  #000000;\n",
       "        }#T_fab83_row7_col18,#T_fab83_row15_col12,#T_fab83_row24_col2{\n",
       "            background-color:  #c9d7f0;\n",
       "            color:  #000000;\n",
       "        }#T_fab83_row8_col3,#T_fab83_row9_col15,#T_fab83_row12_col4,#T_fab83_row13_col3,#T_fab83_row19_col10{\n",
       "            background-color:  #7295f4;\n",
       "            color:  #000000;\n",
       "        }#T_fab83_row8_col5,#T_fab83_row22_col10,#T_fab83_row24_col10{\n",
       "            background-color:  #6788ee;\n",
       "            color:  #000000;\n",
       "        }#T_fab83_row8_col14,#T_fab83_row18_col12{\n",
       "            background-color:  #b5cdfa;\n",
       "            color:  #000000;\n",
       "        }#T_fab83_row8_col20,#T_fab83_row21_col12,#T_fab83_row22_col3{\n",
       "            background-color:  #8badfd;\n",
       "            color:  #000000;\n",
       "        }#T_fab83_row8_col21{\n",
       "            background-color:  #a5c3fe;\n",
       "            color:  #000000;\n",
       "        }#T_fab83_row8_col23{\n",
       "            background-color:  #88abfd;\n",
       "            color:  #000000;\n",
       "        }#T_fab83_row9_col8,#T_fab83_row22_col24{\n",
       "            background-color:  #dedcdb;\n",
       "            color:  #000000;\n",
       "        }#T_fab83_row9_col10{\n",
       "            background-color:  #f39577;\n",
       "            color:  #000000;\n",
       "        }#T_fab83_row9_col13,#T_fab83_row22_col12{\n",
       "            background-color:  #a1c0ff;\n",
       "            color:  #000000;\n",
       "        }#T_fab83_row9_col16,#T_fab83_row12_col10{\n",
       "            background-color:  #81a4fb;\n",
       "            color:  #000000;\n",
       "        }#T_fab83_row9_col17,#T_fab83_row10_col17,#T_fab83_row14_col3,#T_fab83_row25_col14{\n",
       "            background-color:  #80a3fa;\n",
       "            color:  #000000;\n",
       "        }#T_fab83_row9_col18,#T_fab83_row21_col0,#T_fab83_row23_col18{\n",
       "            background-color:  #97b8ff;\n",
       "            color:  #000000;\n",
       "        }#T_fab83_row10_col1,#T_fab83_row10_col19,#T_fab83_row11_col4,#T_fab83_row16_col23,#T_fab83_row17_col0,#T_fab83_row17_col23{\n",
       "            background-color:  #5977e3;\n",
       "            color:  #000000;\n",
       "        }#T_fab83_row10_col8,#T_fab83_row14_col8{\n",
       "            background-color:  #e1dad6;\n",
       "            color:  #000000;\n",
       "        }#T_fab83_row10_col9{\n",
       "            background-color:  #f39778;\n",
       "            color:  #000000;\n",
       "        }#T_fab83_row10_col12,#T_fab83_row20_col13{\n",
       "            background-color:  #c5d6f2;\n",
       "            color:  #000000;\n",
       "        }#T_fab83_row10_col14,#T_fab83_row11_col25,#T_fab83_row13_col23,#T_fab83_row25_col0{\n",
       "            background-color:  #7699f6;\n",
       "            color:  #000000;\n",
       "        }#T_fab83_row10_col18,#T_fab83_row11_col12,#T_fab83_row17_col10{\n",
       "            background-color:  #92b4fe;\n",
       "            color:  #000000;\n",
       "        }#T_fab83_row11_col2{\n",
       "            background-color:  #b6cefa;\n",
       "            color:  #000000;\n",
       "        }#T_fab83_row11_col13{\n",
       "            background-color:  #cdd9ec;\n",
       "            color:  #000000;\n",
       "        }#T_fab83_row11_col20,#T_fab83_row12_col19,#T_fab83_row21_col2{\n",
       "            background-color:  #f5c4ac;\n",
       "            color:  #000000;\n",
       "        }#T_fab83_row11_col22,#T_fab83_row13_col1{\n",
       "            background-color:  #7a9df8;\n",
       "            color:  #000000;\n",
       "        }#T_fab83_row12_col9,#T_fab83_row12_col15,#T_fab83_row18_col15{\n",
       "            background-color:  #7ea1fa;\n",
       "            color:  #000000;\n",
       "        }#T_fab83_row13_col20,#T_fab83_row15_col10{\n",
       "            background-color:  #799cf8;\n",
       "            color:  #000000;\n",
       "        }#T_fab83_row14_col18,#T_fab83_row21_col18{\n",
       "            background-color:  #8caffe;\n",
       "            color:  #000000;\n",
       "        }#T_fab83_row14_col22,#T_fab83_row17_col18,#T_fab83_row18_col13{\n",
       "            background-color:  #aac7fd;\n",
       "            color:  #000000;\n",
       "        }#T_fab83_row14_col23{\n",
       "            background-color:  #d8dce2;\n",
       "            color:  #000000;\n",
       "        }#T_fab83_row14_col24,#T_fab83_row21_col25{\n",
       "            background-color:  #f7b599;\n",
       "            color:  #000000;\n",
       "        }#T_fab83_row15_col13,#T_fab83_row22_col11{\n",
       "            background-color:  #96b7ff;\n",
       "            color:  #000000;\n",
       "        }#T_fab83_row16_col8,#T_fab83_row16_col13,#T_fab83_row17_col8{\n",
       "            background-color:  #b2ccfb;\n",
       "            color:  #000000;\n",
       "        }#T_fab83_row16_col17,#T_fab83_row17_col16{\n",
       "            background-color:  #c0282f;\n",
       "            color:  #f1f1f1;\n",
       "        }#T_fab83_row16_col18{\n",
       "            background-color:  #abc8fd;\n",
       "            color:  #000000;\n",
       "        }#T_fab83_row17_col9,#T_fab83_row20_col2{\n",
       "            background-color:  #8db0fe;\n",
       "            color:  #000000;\n",
       "        }#T_fab83_row18_col1,#T_fab83_row21_col23{\n",
       "            background-color:  #f6bea4;\n",
       "            color:  #000000;\n",
       "        }#T_fab83_row18_col6{\n",
       "            background-color:  #e9d5cb;\n",
       "            color:  #000000;\n",
       "        }#T_fab83_row19_col12{\n",
       "            background-color:  #f59c7d;\n",
       "            color:  #000000;\n",
       "        }#T_fab83_row19_col13{\n",
       "            background-color:  #dcdddd;\n",
       "            color:  #000000;\n",
       "        }#T_fab83_row19_col15,#T_fab83_row23_col0{\n",
       "            background-color:  #6b8df0;\n",
       "            color:  #000000;\n",
       "        }#T_fab83_row21_col3{\n",
       "            background-color:  #e3d9d3;\n",
       "            color:  #000000;\n",
       "        }#T_fab83_row21_col5{\n",
       "            background-color:  #ebd3c6;\n",
       "            color:  #000000;\n",
       "        }#T_fab83_row21_col8,#T_fab83_row24_col22{\n",
       "            background-color:  #d9dce1;\n",
       "            color:  #000000;\n",
       "        }#T_fab83_row21_col13{\n",
       "            background-color:  #d2dbe8;\n",
       "            color:  #000000;\n",
       "        }#T_fab83_row21_col14{\n",
       "            background-color:  #f7ba9f;\n",
       "            color:  #000000;\n",
       "        }#T_fab83_row21_col22{\n",
       "            background-color:  #f6bda2;\n",
       "            color:  #000000;\n",
       "        }#T_fab83_row22_col23{\n",
       "            background-color:  #f7aa8c;\n",
       "            color:  #000000;\n",
       "        }#T_fab83_row22_col25{\n",
       "            background-color:  #e5d8d1;\n",
       "            color:  #000000;\n",
       "        }#T_fab83_row23_col5{\n",
       "            background-color:  #cedaeb;\n",
       "            color:  #000000;\n",
       "        }#T_fab83_row23_col14{\n",
       "            background-color:  #dfdbd9;\n",
       "            color:  #000000;\n",
       "        }#T_fab83_row23_col21{\n",
       "            background-color:  #f7b99e;\n",
       "            color:  #000000;\n",
       "        }#T_fab83_row23_col22{\n",
       "            background-color:  #f7af91;\n",
       "            color:  #000000;\n",
       "        }#T_fab83_row24_col8{\n",
       "            background-color:  #d4dbe6;\n",
       "            color:  #000000;\n",
       "        }#T_fab83_row24_col12{\n",
       "            background-color:  #93b5fe;\n",
       "            color:  #000000;\n",
       "        }#T_fab83_row24_col13{\n",
       "            background-color:  #cad8ef;\n",
       "            color:  #000000;\n",
       "        }#T_fab83_row24_col14{\n",
       "            background-color:  #f7b093;\n",
       "            color:  #000000;\n",
       "        }#T_fab83_row24_col21{\n",
       "            background-color:  #f6a283;\n",
       "            color:  #000000;\n",
       "        }#T_fab83_row25_col5{\n",
       "            background-color:  #edd1c2;\n",
       "            color:  #000000;\n",
       "        }#T_fab83_row25_col13{\n",
       "            background-color:  #bbd1f8;\n",
       "            color:  #000000;\n",
       "        }#T_fab83_row25_col21{\n",
       "            background-color:  #f7ac8e;\n",
       "            color:  #000000;\n",
       "        }#T_fab83_row25_col22{\n",
       "            background-color:  #e6d7cf;\n",
       "            color:  #000000;\n",
       "        }</style><table id=\"T_fab83_\" ><thead>    <tr>        <th class=\"blank level0\" ></th>        <th class=\"col_heading level0 col0\" >sex</th>        <th class=\"col_heading level0 col1\" >age</th>        <th class=\"col_heading level0 col2\" >car</th>        <th class=\"col_heading level0 col3\" >car_type</th>        <th class=\"col_heading level0 col4\" >decline_app_cnt</th>        <th class=\"col_heading level0 col5\" >good_work</th>        <th class=\"col_heading level0 col6\" >score_bki</th>        <th class=\"col_heading level0 col7\" >bki_request_cnt</th>        <th class=\"col_heading level0 col8\" >region_rating</th>        <th class=\"col_heading level0 col9\" >home_address</th>        <th class=\"col_heading level0 col10\" >work_address</th>        <th class=\"col_heading level0 col11\" >income</th>        <th class=\"col_heading level0 col12\" >sna</th>        <th class=\"col_heading level0 col13\" >first_time</th>        <th class=\"col_heading level0 col14\" >foreign_passport</th>        <th class=\"col_heading level0 col15\" >default</th>        <th class=\"col_heading level0 col16\" >month</th>        <th class=\"col_heading level0 col17\" >days</th>        <th class=\"col_heading level0 col18\" >bki_age_reg</th>        <th class=\"col_heading level0 col19\" >mult_sna_ftime</th>        <th class=\"col_heading level0 col20\" >edu_and_income</th>        <th class=\"col_heading level0 col21\" >success_client</th>        <th class=\"col_heading level0 col22\" >very_success_client</th>        <th class=\"col_heading level0 col23\" >fpassp_and_gwork</th>        <th class=\"col_heading level0 col24\" >fpassp_and_car</th>        <th class=\"col_heading level0 col25\" >gwork_and_car</th>    </tr></thead><tbody>\n",
       "                <tr>\n",
       "                        <th id=\"T_fab83_level0_row0\" class=\"row_heading level0 row0\" >sex</th>\n",
       "                        <td id=\"T_fab83_row0_col0\" class=\"data row0 col0\" >1.000</td>\n",
       "                        <td id=\"T_fab83_row0_col1\" class=\"data row0 col1\" >-0.127</td>\n",
       "                        <td id=\"T_fab83_row0_col2\" class=\"data row0 col2\" >0.279</td>\n",
       "                        <td id=\"T_fab83_row0_col3\" class=\"data row0 col3\" >0.226</td>\n",
       "                        <td id=\"T_fab83_row0_col4\" class=\"data row0 col4\" >0.023</td>\n",
       "                        <td id=\"T_fab83_row0_col5\" class=\"data row0 col5\" >-0.040</td>\n",
       "                        <td id=\"T_fab83_row0_col6\" class=\"data row0 col6\" >-0.045</td>\n",
       "                        <td id=\"T_fab83_row0_col7\" class=\"data row0 col7\" >-0.047</td>\n",
       "                        <td id=\"T_fab83_row0_col8\" class=\"data row0 col8\" >0.108</td>\n",
       "                        <td id=\"T_fab83_row0_col9\" class=\"data row0 col9\" >0.038</td>\n",
       "                        <td id=\"T_fab83_row0_col10\" class=\"data row0 col10\" >0.069</td>\n",
       "                        <td id=\"T_fab83_row0_col11\" class=\"data row0 col11\" >0.305</td>\n",
       "                        <td id=\"T_fab83_row0_col12\" class=\"data row0 col12\" >-0.004</td>\n",
       "                        <td id=\"T_fab83_row0_col13\" class=\"data row0 col13\" >0.014</td>\n",
       "                        <td id=\"T_fab83_row0_col14\" class=\"data row0 col14\" >0.086</td>\n",
       "                        <td id=\"T_fab83_row0_col15\" class=\"data row0 col15\" >0.020</td>\n",
       "                        <td id=\"T_fab83_row0_col16\" class=\"data row0 col16\" >-0.030</td>\n",
       "                        <td id=\"T_fab83_row0_col17\" class=\"data row0 col17\" >-0.033</td>\n",
       "                        <td id=\"T_fab83_row0_col18\" class=\"data row0 col18\" >-0.147</td>\n",
       "                        <td id=\"T_fab83_row0_col19\" class=\"data row0 col19\" >0.012</td>\n",
       "                        <td id=\"T_fab83_row0_col20\" class=\"data row0 col20\" >0.121</td>\n",
       "                        <td id=\"T_fab83_row0_col21\" class=\"data row0 col21\" >0.173</td>\n",
       "                        <td id=\"T_fab83_row0_col22\" class=\"data row0 col22\" >0.050</td>\n",
       "                        <td id=\"T_fab83_row0_col23\" class=\"data row0 col23\" >0.028</td>\n",
       "                        <td id=\"T_fab83_row0_col24\" class=\"data row0 col24\" >0.129</td>\n",
       "                        <td id=\"T_fab83_row0_col25\" class=\"data row0 col25\" >0.065</td>\n",
       "            </tr>\n",
       "            <tr>\n",
       "                        <th id=\"T_fab83_level0_row1\" class=\"row_heading level0 row1\" >age</th>\n",
       "                        <td id=\"T_fab83_row1_col0\" class=\"data row1 col0\" >-0.127</td>\n",
       "                        <td id=\"T_fab83_row1_col1\" class=\"data row1 col1\" >1.000</td>\n",
       "                        <td id=\"T_fab83_row1_col2\" class=\"data row1 col2\" >-0.037</td>\n",
       "                        <td id=\"T_fab83_row1_col3\" class=\"data row1 col3\" >-0.034</td>\n",
       "                        <td id=\"T_fab83_row1_col4\" class=\"data row1 col4\" >-0.125</td>\n",
       "                        <td id=\"T_fab83_row1_col5\" class=\"data row1 col5\" >-0.073</td>\n",
       "                        <td id=\"T_fab83_row1_col6\" class=\"data row1 col6\" >-0.110</td>\n",
       "                        <td id=\"T_fab83_row1_col7\" class=\"data row1 col7\" >0.049</td>\n",
       "                        <td id=\"T_fab83_row1_col8\" class=\"data row1 col8\" >-0.091</td>\n",
       "                        <td id=\"T_fab83_row1_col9\" class=\"data row1 col9\" >0.000</td>\n",
       "                        <td id=\"T_fab83_row1_col10\" class=\"data row1 col10\" >-0.015</td>\n",
       "                        <td id=\"T_fab83_row1_col11\" class=\"data row1 col11\" >-0.093</td>\n",
       "                        <td id=\"T_fab83_row1_col12\" class=\"data row1 col12\" >-0.070</td>\n",
       "                        <td id=\"T_fab83_row1_col13\" class=\"data row1 col13\" >0.095</td>\n",
       "                        <td id=\"T_fab83_row1_col14\" class=\"data row1 col14\" >-0.037</td>\n",
       "                        <td id=\"T_fab83_row1_col15\" class=\"data row1 col15\" >-0.026</td>\n",
       "                        <td id=\"T_fab83_row1_col16\" class=\"data row1 col16\" >0.015</td>\n",
       "                        <td id=\"T_fab83_row1_col17\" class=\"data row1 col17\" >0.017</td>\n",
       "                        <td id=\"T_fab83_row1_col18\" class=\"data row1 col18\" >0.600</td>\n",
       "                        <td id=\"T_fab83_row1_col19\" class=\"data row1 col19\" >-0.036</td>\n",
       "                        <td id=\"T_fab83_row1_col20\" class=\"data row1 col20\" >-0.018</td>\n",
       "                        <td id=\"T_fab83_row1_col21\" class=\"data row1 col21\" >-0.069</td>\n",
       "                        <td id=\"T_fab83_row1_col22\" class=\"data row1 col22\" >-0.023</td>\n",
       "                        <td id=\"T_fab83_row1_col23\" class=\"data row1 col23\" >-0.045</td>\n",
       "                        <td id=\"T_fab83_row1_col24\" class=\"data row1 col24\" >-0.010</td>\n",
       "                        <td id=\"T_fab83_row1_col25\" class=\"data row1 col25\" >-0.049</td>\n",
       "            </tr>\n",
       "            <tr>\n",
       "                        <th id=\"T_fab83_level0_row2\" class=\"row_heading level0 row2\" >car</th>\n",
       "                        <td id=\"T_fab83_row2_col0\" class=\"data row2 col0\" >0.279</td>\n",
       "                        <td id=\"T_fab83_row2_col1\" class=\"data row2 col1\" >-0.037</td>\n",
       "                        <td id=\"T_fab83_row2_col2\" class=\"data row2 col2\" >1.000</td>\n",
       "                        <td id=\"T_fab83_row2_col3\" class=\"data row2 col3\" >0.698</td>\n",
       "                        <td id=\"T_fab83_row2_col4\" class=\"data row2 col4\" >-0.036</td>\n",
       "                        <td id=\"T_fab83_row2_col5\" class=\"data row2 col5\" >0.002</td>\n",
       "                        <td id=\"T_fab83_row2_col6\" class=\"data row2 col6\" >-0.045</td>\n",
       "                        <td id=\"T_fab83_row2_col7\" class=\"data row2 col7\" >-0.046</td>\n",
       "                        <td id=\"T_fab83_row2_col8\" class=\"data row2 col8\" >0.065</td>\n",
       "                        <td id=\"T_fab83_row2_col9\" class=\"data row2 col9\" >-0.025</td>\n",
       "                        <td id=\"T_fab83_row2_col10\" class=\"data row2 col10\" >-0.008</td>\n",
       "                        <td id=\"T_fab83_row2_col11\" class=\"data row2 col11\" >0.325</td>\n",
       "                        <td id=\"T_fab83_row2_col12\" class=\"data row2 col12\" >-0.072</td>\n",
       "                        <td id=\"T_fab83_row2_col13\" class=\"data row2 col13\" >0.090</td>\n",
       "                        <td id=\"T_fab83_row2_col14\" class=\"data row2 col14\" >0.108</td>\n",
       "                        <td id=\"T_fab83_row2_col15\" class=\"data row2 col15\" >-0.043</td>\n",
       "                        <td id=\"T_fab83_row2_col16\" class=\"data row2 col16\" >-0.020</td>\n",
       "                        <td id=\"T_fab83_row2_col17\" class=\"data row2 col17\" >-0.022</td>\n",
       "                        <td id=\"T_fab83_row2_col18\" class=\"data row2 col18\" >-0.065</td>\n",
       "                        <td id=\"T_fab83_row2_col19\" class=\"data row2 col19\" >-0.003</td>\n",
       "                        <td id=\"T_fab83_row2_col20\" class=\"data row2 col20\" >0.197</td>\n",
       "                        <td id=\"T_fab83_row2_col21\" class=\"data row2 col21\" >0.599</td>\n",
       "                        <td id=\"T_fab83_row2_col22\" class=\"data row2 col22\" >0.172</td>\n",
       "                        <td id=\"T_fab83_row2_col23\" class=\"data row2 col23\" >0.050</td>\n",
       "                        <td id=\"T_fab83_row2_col24\" class=\"data row2 col24\" >0.385</td>\n",
       "                        <td id=\"T_fab83_row2_col25\" class=\"data row2 col25\" >0.344</td>\n",
       "            </tr>\n",
       "            <tr>\n",
       "                        <th id=\"T_fab83_level0_row3\" class=\"row_heading level0 row3\" >car_type</th>\n",
       "                        <td id=\"T_fab83_row3_col0\" class=\"data row3 col0\" >0.226</td>\n",
       "                        <td id=\"T_fab83_row3_col1\" class=\"data row3 col1\" >-0.034</td>\n",
       "                        <td id=\"T_fab83_row3_col2\" class=\"data row3 col2\" >0.698</td>\n",
       "                        <td id=\"T_fab83_row3_col3\" class=\"data row3 col3\" >1.000</td>\n",
       "                        <td id=\"T_fab83_row3_col4\" class=\"data row3 col4\" >-0.048</td>\n",
       "                        <td id=\"T_fab83_row3_col5\" class=\"data row3 col5\" >0.018</td>\n",
       "                        <td id=\"T_fab83_row3_col6\" class=\"data row3 col6\" >-0.040</td>\n",
       "                        <td id=\"T_fab83_row3_col7\" class=\"data row3 col7\" >-0.016</td>\n",
       "                        <td id=\"T_fab83_row3_col8\" class=\"data row3 col8\" >0.104</td>\n",
       "                        <td id=\"T_fab83_row3_col9\" class=\"data row3 col9\" >-0.012</td>\n",
       "                        <td id=\"T_fab83_row3_col10\" class=\"data row3 col10\" >0.001</td>\n",
       "                        <td id=\"T_fab83_row3_col11\" class=\"data row3 col11\" >0.370</td>\n",
       "                        <td id=\"T_fab83_row3_col12\" class=\"data row3 col12\" >-0.086</td>\n",
       "                        <td id=\"T_fab83_row3_col13\" class=\"data row3 col13\" >0.104</td>\n",
       "                        <td id=\"T_fab83_row3_col14\" class=\"data row3 col14\" >0.146</td>\n",
       "                        <td id=\"T_fab83_row3_col15\" class=\"data row3 col15\" >-0.057</td>\n",
       "                        <td id=\"T_fab83_row3_col16\" class=\"data row3 col16\" >-0.025</td>\n",
       "                        <td id=\"T_fab83_row3_col17\" class=\"data row3 col17\" >-0.027</td>\n",
       "                        <td id=\"T_fab83_row3_col18\" class=\"data row3 col18\" >-0.084</td>\n",
       "                        <td id=\"T_fab83_row3_col19\" class=\"data row3 col19\" >-0.007</td>\n",
       "                        <td id=\"T_fab83_row3_col20\" class=\"data row3 col20\" >0.257</td>\n",
       "                        <td id=\"T_fab83_row3_col21\" class=\"data row3 col21\" >0.483</td>\n",
       "                        <td id=\"T_fab83_row3_col22\" class=\"data row3 col22\" >0.181</td>\n",
       "                        <td id=\"T_fab83_row3_col23\" class=\"data row3 col23\" >0.077</td>\n",
       "                        <td id=\"T_fab83_row3_col24\" class=\"data row3 col24\" >0.370</td>\n",
       "                        <td id=\"T_fab83_row3_col25\" class=\"data row3 col25\" >0.267</td>\n",
       "            </tr>\n",
       "            <tr>\n",
       "                        <th id=\"T_fab83_level0_row4\" class=\"row_heading level0 row4\" >decline_app_cnt</th>\n",
       "                        <td id=\"T_fab83_row4_col0\" class=\"data row4 col0\" >0.023</td>\n",
       "                        <td id=\"T_fab83_row4_col1\" class=\"data row4 col1\" >-0.125</td>\n",
       "                        <td id=\"T_fab83_row4_col2\" class=\"data row4 col2\" >-0.036</td>\n",
       "                        <td id=\"T_fab83_row4_col3\" class=\"data row4 col3\" >-0.048</td>\n",
       "                        <td id=\"T_fab83_row4_col4\" class=\"data row4 col4\" >1.000</td>\n",
       "                        <td id=\"T_fab83_row4_col5\" class=\"data row4 col5\" >-0.030</td>\n",
       "                        <td id=\"T_fab83_row4_col6\" class=\"data row4 col6\" >0.203</td>\n",
       "                        <td id=\"T_fab83_row4_col7\" class=\"data row4 col7\" >0.123</td>\n",
       "                        <td id=\"T_fab83_row4_col8\" class=\"data row4 col8\" >-0.040</td>\n",
       "                        <td id=\"T_fab83_row4_col9\" class=\"data row4 col9\" >0.011</td>\n",
       "                        <td id=\"T_fab83_row4_col10\" class=\"data row4 col10\" >0.017</td>\n",
       "                        <td id=\"T_fab83_row4_col11\" class=\"data row4 col11\" >-0.013</td>\n",
       "                        <td id=\"T_fab83_row4_col12\" class=\"data row4 col12\" >0.069</td>\n",
       "                        <td id=\"T_fab83_row4_col13\" class=\"data row4 col13\" >-0.074</td>\n",
       "                        <td id=\"T_fab83_row4_col14\" class=\"data row4 col14\" >-0.030</td>\n",
       "                        <td id=\"T_fab83_row4_col15\" class=\"data row4 col15\" >0.121</td>\n",
       "                        <td id=\"T_fab83_row4_col16\" class=\"data row4 col16\" >-0.022</td>\n",
       "                        <td id=\"T_fab83_row4_col17\" class=\"data row4 col17\" >-0.023</td>\n",
       "                        <td id=\"T_fab83_row4_col18\" class=\"data row4 col18\" >0.061</td>\n",
       "                        <td id=\"T_fab83_row4_col19\" class=\"data row4 col19\" >0.027</td>\n",
       "                        <td id=\"T_fab83_row4_col20\" class=\"data row4 col20\" >-0.041</td>\n",
       "                        <td id=\"T_fab83_row4_col21\" class=\"data row4 col21\" >-0.051</td>\n",
       "                        <td id=\"T_fab83_row4_col22\" class=\"data row4 col22\" >-0.024</td>\n",
       "                        <td id=\"T_fab83_row4_col23\" class=\"data row4 col23\" >-0.025</td>\n",
       "                        <td id=\"T_fab83_row4_col24\" class=\"data row4 col24\" >-0.036</td>\n",
       "                        <td id=\"T_fab83_row4_col25\" class=\"data row4 col25\" >-0.025</td>\n",
       "            </tr>\n",
       "            <tr>\n",
       "                        <th id=\"T_fab83_level0_row5\" class=\"row_heading level0 row5\" >good_work</th>\n",
       "                        <td id=\"T_fab83_row5_col0\" class=\"data row5 col0\" >-0.040</td>\n",
       "                        <td id=\"T_fab83_row5_col1\" class=\"data row5 col1\" >-0.073</td>\n",
       "                        <td id=\"T_fab83_row5_col2\" class=\"data row5 col2\" >0.002</td>\n",
       "                        <td id=\"T_fab83_row5_col3\" class=\"data row5 col3\" >0.018</td>\n",
       "                        <td id=\"T_fab83_row5_col4\" class=\"data row5 col4\" >-0.030</td>\n",
       "                        <td id=\"T_fab83_row5_col5\" class=\"data row5 col5\" >1.000</td>\n",
       "                        <td id=\"T_fab83_row5_col6\" class=\"data row5 col6\" >0.006</td>\n",
       "                        <td id=\"T_fab83_row5_col7\" class=\"data row5 col7\" >0.006</td>\n",
       "                        <td id=\"T_fab83_row5_col8\" class=\"data row5 col8\" >0.073</td>\n",
       "                        <td id=\"T_fab83_row5_col9\" class=\"data row5 col9\" >-0.004</td>\n",
       "                        <td id=\"T_fab83_row5_col10\" class=\"data row5 col10\" >-0.009</td>\n",
       "                        <td id=\"T_fab83_row5_col11\" class=\"data row5 col11\" >0.052</td>\n",
       "                        <td id=\"T_fab83_row5_col12\" class=\"data row5 col12\" >-0.054</td>\n",
       "                        <td id=\"T_fab83_row5_col13\" class=\"data row5 col13\" >0.056</td>\n",
       "                        <td id=\"T_fab83_row5_col14\" class=\"data row5 col14\" >0.046</td>\n",
       "                        <td id=\"T_fab83_row5_col15\" class=\"data row5 col15\" >-0.043</td>\n",
       "                        <td id=\"T_fab83_row5_col16\" class=\"data row5 col16\" >0.005</td>\n",
       "                        <td id=\"T_fab83_row5_col17\" class=\"data row5 col17\" >0.005</td>\n",
       "                        <td id=\"T_fab83_row5_col18\" class=\"data row5 col18\" >-0.081</td>\n",
       "                        <td id=\"T_fab83_row5_col19\" class=\"data row5 col19\" >-0.013</td>\n",
       "                        <td id=\"T_fab83_row5_col20\" class=\"data row5 col20\" >0.081</td>\n",
       "                        <td id=\"T_fab83_row5_col21\" class=\"data row5 col21\" >0.523</td>\n",
       "                        <td id=\"T_fab83_row5_col22\" class=\"data row5 col22\" >0.269</td>\n",
       "                        <td id=\"T_fab83_row5_col23\" class=\"data row5 col23\" >0.402</td>\n",
       "                        <td id=\"T_fab83_row5_col24\" class=\"data row5 col24\" >0.034</td>\n",
       "                        <td id=\"T_fab83_row5_col25\" class=\"data row5 col25\" >0.537</td>\n",
       "            </tr>\n",
       "            <tr>\n",
       "                        <th id=\"T_fab83_level0_row6\" class=\"row_heading level0 row6\" >score_bki</th>\n",
       "                        <td id=\"T_fab83_row6_col0\" class=\"data row6 col0\" >-0.045</td>\n",
       "                        <td id=\"T_fab83_row6_col1\" class=\"data row6 col1\" >-0.110</td>\n",
       "                        <td id=\"T_fab83_row6_col2\" class=\"data row6 col2\" >-0.045</td>\n",
       "                        <td id=\"T_fab83_row6_col3\" class=\"data row6 col3\" >-0.040</td>\n",
       "                        <td id=\"T_fab83_row6_col4\" class=\"data row6 col4\" >0.203</td>\n",
       "                        <td id=\"T_fab83_row6_col5\" class=\"data row6 col5\" >0.006</td>\n",
       "                        <td id=\"T_fab83_row6_col6\" class=\"data row6 col6\" >1.000</td>\n",
       "                        <td id=\"T_fab83_row6_col7\" class=\"data row6 col7\" >0.140</td>\n",
       "                        <td id=\"T_fab83_row6_col8\" class=\"data row6 col8\" >0.009</td>\n",
       "                        <td id=\"T_fab83_row6_col9\" class=\"data row6 col9\" >0.014</td>\n",
       "                        <td id=\"T_fab83_row6_col10\" class=\"data row6 col10\" >0.013</td>\n",
       "                        <td id=\"T_fab83_row6_col11\" class=\"data row6 col11\" >0.003</td>\n",
       "                        <td id=\"T_fab83_row6_col12\" class=\"data row6 col12\" >0.068</td>\n",
       "                        <td id=\"T_fab83_row6_col13\" class=\"data row6 col13\" >-0.069</td>\n",
       "                        <td id=\"T_fab83_row6_col14\" class=\"data row6 col14\" >-0.022</td>\n",
       "                        <td id=\"T_fab83_row6_col15\" class=\"data row6 col15\" >0.175</td>\n",
       "                        <td id=\"T_fab83_row6_col16\" class=\"data row6 col16\" >-0.062</td>\n",
       "                        <td id=\"T_fab83_row6_col17\" class=\"data row6 col17\" >-0.064</td>\n",
       "                        <td id=\"T_fab83_row6_col18\" class=\"data row6 col18\" >0.499</td>\n",
       "                        <td id=\"T_fab83_row6_col19\" class=\"data row6 col19\" >0.040</td>\n",
       "                        <td id=\"T_fab83_row6_col20\" class=\"data row6 col20\" >-0.022</td>\n",
       "                        <td id=\"T_fab83_row6_col21\" class=\"data row6 col21\" >-0.036</td>\n",
       "                        <td id=\"T_fab83_row6_col22\" class=\"data row6 col22\" >-0.018</td>\n",
       "                        <td id=\"T_fab83_row6_col23\" class=\"data row6 col23\" >-0.013</td>\n",
       "                        <td id=\"T_fab83_row6_col24\" class=\"data row6 col24\" >-0.033</td>\n",
       "                        <td id=\"T_fab83_row6_col25\" class=\"data row6 col25\" >-0.014</td>\n",
       "            </tr>\n",
       "            <tr>\n",
       "                        <th id=\"T_fab83_level0_row7\" class=\"row_heading level0 row7\" >bki_request_cnt</th>\n",
       "                        <td id=\"T_fab83_row7_col0\" class=\"data row7 col0\" >-0.047</td>\n",
       "                        <td id=\"T_fab83_row7_col1\" class=\"data row7 col1\" >0.049</td>\n",
       "                        <td id=\"T_fab83_row7_col2\" class=\"data row7 col2\" >-0.046</td>\n",
       "                        <td id=\"T_fab83_row7_col3\" class=\"data row7 col3\" >-0.016</td>\n",
       "                        <td id=\"T_fab83_row7_col4\" class=\"data row7 col4\" >0.123</td>\n",
       "                        <td id=\"T_fab83_row7_col5\" class=\"data row7 col5\" >0.006</td>\n",
       "                        <td id=\"T_fab83_row7_col6\" class=\"data row7 col6\" >0.140</td>\n",
       "                        <td id=\"T_fab83_row7_col7\" class=\"data row7 col7\" >1.000</td>\n",
       "                        <td id=\"T_fab83_row7_col8\" class=\"data row7 col8\" >-0.013</td>\n",
       "                        <td id=\"T_fab83_row7_col9\" class=\"data row7 col9\" >0.004</td>\n",
       "                        <td id=\"T_fab83_row7_col10\" class=\"data row7 col10\" >0.000</td>\n",
       "                        <td id=\"T_fab83_row7_col11\" class=\"data row7 col11\" >0.081</td>\n",
       "                        <td id=\"T_fab83_row7_col12\" class=\"data row7 col12\" >0.010</td>\n",
       "                        <td id=\"T_fab83_row7_col13\" class=\"data row7 col13\" >0.010</td>\n",
       "                        <td id=\"T_fab83_row7_col14\" class=\"data row7 col14\" >-0.003</td>\n",
       "                        <td id=\"T_fab83_row7_col15\" class=\"data row7 col15\" >0.079</td>\n",
       "                        <td id=\"T_fab83_row7_col16\" class=\"data row7 col16\" >-0.011</td>\n",
       "                        <td id=\"T_fab83_row7_col17\" class=\"data row7 col17\" >-0.010</td>\n",
       "                        <td id=\"T_fab83_row7_col18\" class=\"data row7 col18\" >0.112</td>\n",
       "                        <td id=\"T_fab83_row7_col19\" class=\"data row7 col19\" >0.026</td>\n",
       "                        <td id=\"T_fab83_row7_col20\" class=\"data row7 col20\" >0.052</td>\n",
       "                        <td id=\"T_fab83_row7_col21\" class=\"data row7 col21\" >-0.024</td>\n",
       "                        <td id=\"T_fab83_row7_col22\" class=\"data row7 col22\" >-0.010</td>\n",
       "                        <td id=\"T_fab83_row7_col23\" class=\"data row7 col23\" >-0.006</td>\n",
       "                        <td id=\"T_fab83_row7_col24\" class=\"data row7 col24\" >-0.014</td>\n",
       "                        <td id=\"T_fab83_row7_col25\" class=\"data row7 col25\" >-0.010</td>\n",
       "            </tr>\n",
       "            <tr>\n",
       "                        <th id=\"T_fab83_level0_row8\" class=\"row_heading level0 row8\" >region_rating</th>\n",
       "                        <td id=\"T_fab83_row8_col0\" class=\"data row8 col0\" >0.108</td>\n",
       "                        <td id=\"T_fab83_row8_col1\" class=\"data row8 col1\" >-0.091</td>\n",
       "                        <td id=\"T_fab83_row8_col2\" class=\"data row8 col2\" >0.065</td>\n",
       "                        <td id=\"T_fab83_row8_col3\" class=\"data row8 col3\" >0.104</td>\n",
       "                        <td id=\"T_fab83_row8_col4\" class=\"data row8 col4\" >-0.040</td>\n",
       "                        <td id=\"T_fab83_row8_col5\" class=\"data row8 col5\" >0.073</td>\n",
       "                        <td id=\"T_fab83_row8_col6\" class=\"data row8 col6\" >0.009</td>\n",
       "                        <td id=\"T_fab83_row8_col7\" class=\"data row8 col7\" >-0.013</td>\n",
       "                        <td id=\"T_fab83_row8_col8\" class=\"data row8 col8\" >1.000</td>\n",
       "                        <td id=\"T_fab83_row8_col9\" class=\"data row8 col9\" >0.234</td>\n",
       "                        <td id=\"T_fab83_row8_col10\" class=\"data row8 col10\" >0.254</td>\n",
       "                        <td id=\"T_fab83_row8_col11\" class=\"data row8 col11\" >0.313</td>\n",
       "                        <td id=\"T_fab83_row8_col12\" class=\"data row8 col12\" >-0.078</td>\n",
       "                        <td id=\"T_fab83_row8_col13\" class=\"data row8 col13\" >0.089</td>\n",
       "                        <td id=\"T_fab83_row8_col14\" class=\"data row8 col14\" >0.255</td>\n",
       "                        <td id=\"T_fab83_row8_col15\" class=\"data row8 col15\" >-0.089</td>\n",
       "                        <td id=\"T_fab83_row8_col16\" class=\"data row8 col16\" >0.005</td>\n",
       "                        <td id=\"T_fab83_row8_col17\" class=\"data row8 col17\" >0.007</td>\n",
       "                        <td id=\"T_fab83_row8_col18\" class=\"data row8 col18\" >-0.548</td>\n",
       "                        <td id=\"T_fab83_row8_col19\" class=\"data row8 col19\" >-0.017</td>\n",
       "                        <td id=\"T_fab83_row8_col20\" class=\"data row8 col20\" >0.169</td>\n",
       "                        <td id=\"T_fab83_row8_col21\" class=\"data row8 col21\" >0.207</td>\n",
       "                        <td id=\"T_fab83_row8_col22\" class=\"data row8 col22\" >0.101</td>\n",
       "                        <td id=\"T_fab83_row8_col23\" class=\"data row8 col23\" >0.148</td>\n",
       "                        <td id=\"T_fab83_row8_col24\" class=\"data row8 col24\" >0.174</td>\n",
       "                        <td id=\"T_fab83_row8_col25\" class=\"data row8 col25\" >0.067</td>\n",
       "            </tr>\n",
       "            <tr>\n",
       "                        <th id=\"T_fab83_level0_row9\" class=\"row_heading level0 row9\" >home_address</th>\n",
       "                        <td id=\"T_fab83_row9_col0\" class=\"data row9 col0\" >0.038</td>\n",
       "                        <td id=\"T_fab83_row9_col1\" class=\"data row9 col1\" >0.000</td>\n",
       "                        <td id=\"T_fab83_row9_col2\" class=\"data row9 col2\" >-0.025</td>\n",
       "                        <td id=\"T_fab83_row9_col3\" class=\"data row9 col3\" >-0.012</td>\n",
       "                        <td id=\"T_fab83_row9_col4\" class=\"data row9 col4\" >0.011</td>\n",
       "                        <td id=\"T_fab83_row9_col5\" class=\"data row9 col5\" >-0.004</td>\n",
       "                        <td id=\"T_fab83_row9_col6\" class=\"data row9 col6\" >0.014</td>\n",
       "                        <td id=\"T_fab83_row9_col7\" class=\"data row9 col7\" >0.004</td>\n",
       "                        <td id=\"T_fab83_row9_col8\" class=\"data row9 col8\" >0.234</td>\n",
       "                        <td id=\"T_fab83_row9_col9\" class=\"data row9 col9\" >1.000</td>\n",
       "                        <td id=\"T_fab83_row9_col10\" class=\"data row9 col10\" >0.728</td>\n",
       "                        <td id=\"T_fab83_row9_col11\" class=\"data row9 col11\" >0.047</td>\n",
       "                        <td id=\"T_fab83_row9_col12\" class=\"data row9 col12\" >0.115</td>\n",
       "                        <td id=\"T_fab83_row9_col13\" class=\"data row9 col13\" >-0.058</td>\n",
       "                        <td id=\"T_fab83_row9_col14\" class=\"data row9 col14\" >0.039</td>\n",
       "                        <td id=\"T_fab83_row9_col15\" class=\"data row9 col15\" >0.085</td>\n",
       "                        <td id=\"T_fab83_row9_col16\" class=\"data row9 col16\" >0.169</td>\n",
       "                        <td id=\"T_fab83_row9_col17\" class=\"data row9 col17\" >0.164</td>\n",
       "                        <td id=\"T_fab83_row9_col18\" class=\"data row9 col18\" >-0.117</td>\n",
       "                        <td id=\"T_fab83_row9_col19\" class=\"data row9 col19\" >0.062</td>\n",
       "                        <td id=\"T_fab83_row9_col20\" class=\"data row9 col20\" >0.029</td>\n",
       "                        <td id=\"T_fab83_row9_col21\" class=\"data row9 col21\" >0.011</td>\n",
       "                        <td id=\"T_fab83_row9_col22\" class=\"data row9 col22\" >0.019</td>\n",
       "                        <td id=\"T_fab83_row9_col23\" class=\"data row9 col23\" >0.028</td>\n",
       "                        <td id=\"T_fab83_row9_col24\" class=\"data row9 col24\" >0.022</td>\n",
       "                        <td id=\"T_fab83_row9_col25\" class=\"data row9 col25\" >-0.002</td>\n",
       "            </tr>\n",
       "            <tr>\n",
       "                        <th id=\"T_fab83_level0_row10\" class=\"row_heading level0 row10\" >work_address</th>\n",
       "                        <td id=\"T_fab83_row10_col0\" class=\"data row10 col0\" >0.069</td>\n",
       "                        <td id=\"T_fab83_row10_col1\" class=\"data row10 col1\" >-0.015</td>\n",
       "                        <td id=\"T_fab83_row10_col2\" class=\"data row10 col2\" >-0.008</td>\n",
       "                        <td id=\"T_fab83_row10_col3\" class=\"data row10 col3\" >0.001</td>\n",
       "                        <td id=\"T_fab83_row10_col4\" class=\"data row10 col4\" >0.017</td>\n",
       "                        <td id=\"T_fab83_row10_col5\" class=\"data row10 col5\" >-0.009</td>\n",
       "                        <td id=\"T_fab83_row10_col6\" class=\"data row10 col6\" >0.013</td>\n",
       "                        <td id=\"T_fab83_row10_col7\" class=\"data row10 col7\" >0.000</td>\n",
       "                        <td id=\"T_fab83_row10_col8\" class=\"data row10 col8\" >0.254</td>\n",
       "                        <td id=\"T_fab83_row10_col9\" class=\"data row10 col9\" >0.728</td>\n",
       "                        <td id=\"T_fab83_row10_col10\" class=\"data row10 col10\" >1.000</td>\n",
       "                        <td id=\"T_fab83_row10_col11\" class=\"data row10 col11\" >0.068</td>\n",
       "                        <td id=\"T_fab83_row10_col12\" class=\"data row10 col12\" >0.111</td>\n",
       "                        <td id=\"T_fab83_row10_col13\" class=\"data row10 col13\" >-0.063</td>\n",
       "                        <td id=\"T_fab83_row10_col14\" class=\"data row10 col14\" >0.042</td>\n",
       "                        <td id=\"T_fab83_row10_col15\" class=\"data row10 col15\" >0.082</td>\n",
       "                        <td id=\"T_fab83_row10_col16\" class=\"data row10 col16\" >0.171</td>\n",
       "                        <td id=\"T_fab83_row10_col17\" class=\"data row10 col17\" >0.164</td>\n",
       "                        <td id=\"T_fab83_row10_col18\" class=\"data row10 col18\" >-0.137</td>\n",
       "                        <td id=\"T_fab83_row10_col19\" class=\"data row10 col19\" >0.059</td>\n",
       "                        <td id=\"T_fab83_row10_col20\" class=\"data row10 col20\" >0.035</td>\n",
       "                        <td id=\"T_fab83_row10_col21\" class=\"data row10 col21\" >0.022</td>\n",
       "                        <td id=\"T_fab83_row10_col22\" class=\"data row10 col22\" >0.027</td>\n",
       "                        <td id=\"T_fab83_row10_col23\" class=\"data row10 col23\" >0.035</td>\n",
       "                        <td id=\"T_fab83_row10_col24\" class=\"data row10 col24\" >0.027</td>\n",
       "                        <td id=\"T_fab83_row10_col25\" class=\"data row10 col25\" >0.007</td>\n",
       "            </tr>\n",
       "            <tr>\n",
       "                        <th id=\"T_fab83_level0_row11\" class=\"row_heading level0 row11\" >income</th>\n",
       "                        <td id=\"T_fab83_row11_col0\" class=\"data row11 col0\" >0.305</td>\n",
       "                        <td id=\"T_fab83_row11_col1\" class=\"data row11 col1\" >-0.093</td>\n",
       "                        <td id=\"T_fab83_row11_col2\" class=\"data row11 col2\" >0.325</td>\n",
       "                        <td id=\"T_fab83_row11_col3\" class=\"data row11 col3\" >0.370</td>\n",
       "                        <td id=\"T_fab83_row11_col4\" class=\"data row11 col4\" >-0.013</td>\n",
       "                        <td id=\"T_fab83_row11_col5\" class=\"data row11 col5\" >0.052</td>\n",
       "                        <td id=\"T_fab83_row11_col6\" class=\"data row11 col6\" >0.003</td>\n",
       "                        <td id=\"T_fab83_row11_col7\" class=\"data row11 col7\" >0.081</td>\n",
       "                        <td id=\"T_fab83_row11_col8\" class=\"data row11 col8\" >0.313</td>\n",
       "                        <td id=\"T_fab83_row11_col9\" class=\"data row11 col9\" >0.047</td>\n",
       "                        <td id=\"T_fab83_row11_col10\" class=\"data row11 col10\" >0.068</td>\n",
       "                        <td id=\"T_fab83_row11_col11\" class=\"data row11 col11\" >1.000</td>\n",
       "                        <td id=\"T_fab83_row11_col12\" class=\"data row11 col12\" >-0.124</td>\n",
       "                        <td id=\"T_fab83_row11_col13\" class=\"data row11 col13\" >0.150</td>\n",
       "                        <td id=\"T_fab83_row11_col14\" class=\"data row11 col14\" >0.273</td>\n",
       "                        <td id=\"T_fab83_row11_col15\" class=\"data row11 col15\" >-0.054</td>\n",
       "                        <td id=\"T_fab83_row11_col16\" class=\"data row11 col16\" >0.008</td>\n",
       "                        <td id=\"T_fab83_row11_col17\" class=\"data row11 col17\" >0.005</td>\n",
       "                        <td id=\"T_fab83_row11_col18\" class=\"data row11 col18\" >-0.194</td>\n",
       "                        <td id=\"T_fab83_row11_col19\" class=\"data row11 col19\" >-0.003</td>\n",
       "                        <td id=\"T_fab83_row11_col20\" class=\"data row11 col20\" >0.587</td>\n",
       "                        <td id=\"T_fab83_row11_col21\" class=\"data row11 col21\" >0.343</td>\n",
       "                        <td id=\"T_fab83_row11_col22\" class=\"data row11 col22\" >0.136</td>\n",
       "                        <td id=\"T_fab83_row11_col23\" class=\"data row11 col23\" >0.142</td>\n",
       "                        <td id=\"T_fab83_row11_col24\" class=\"data row11 col24\" >0.274</td>\n",
       "                        <td id=\"T_fab83_row11_col25\" class=\"data row11 col25\" >0.129</td>\n",
       "            </tr>\n",
       "            <tr>\n",
       "                        <th id=\"T_fab83_level0_row12\" class=\"row_heading level0 row12\" >sna</th>\n",
       "                        <td id=\"T_fab83_row12_col0\" class=\"data row12 col0\" >-0.004</td>\n",
       "                        <td id=\"T_fab83_row12_col1\" class=\"data row12 col1\" >-0.070</td>\n",
       "                        <td id=\"T_fab83_row12_col2\" class=\"data row12 col2\" >-0.072</td>\n",
       "                        <td id=\"T_fab83_row12_col3\" class=\"data row12 col3\" >-0.086</td>\n",
       "                        <td id=\"T_fab83_row12_col4\" class=\"data row12 col4\" >0.069</td>\n",
       "                        <td id=\"T_fab83_row12_col5\" class=\"data row12 col5\" >-0.054</td>\n",
       "                        <td id=\"T_fab83_row12_col6\" class=\"data row12 col6\" >0.068</td>\n",
       "                        <td id=\"T_fab83_row12_col7\" class=\"data row12 col7\" >0.010</td>\n",
       "                        <td id=\"T_fab83_row12_col8\" class=\"data row12 col8\" >-0.078</td>\n",
       "                        <td id=\"T_fab83_row12_col9\" class=\"data row12 col9\" >0.115</td>\n",
       "                        <td id=\"T_fab83_row12_col10\" class=\"data row12 col10\" >0.111</td>\n",
       "                        <td id=\"T_fab83_row12_col11\" class=\"data row12 col11\" >-0.124</td>\n",
       "                        <td id=\"T_fab83_row12_col12\" class=\"data row12 col12\" >1.000</td>\n",
       "                        <td id=\"T_fab83_row12_col13\" class=\"data row12 col13\" >-0.525</td>\n",
       "                        <td id=\"T_fab83_row12_col14\" class=\"data row12 col14\" >-0.174</td>\n",
       "                        <td id=\"T_fab83_row12_col15\" class=\"data row12 col15\" >0.126</td>\n",
       "                        <td id=\"T_fab83_row12_col16\" class=\"data row12 col16\" >-0.004</td>\n",
       "                        <td id=\"T_fab83_row12_col17\" class=\"data row12 col17\" >-0.004</td>\n",
       "                        <td id=\"T_fab83_row12_col18\" class=\"data row12 col18\" >0.030</td>\n",
       "                        <td id=\"T_fab83_row12_col19\" class=\"data row12 col19\" >0.611</td>\n",
       "                        <td id=\"T_fab83_row12_col20\" class=\"data row12 col20\" >-0.094</td>\n",
       "                        <td id=\"T_fab83_row12_col21\" class=\"data row12 col21\" >-0.150</td>\n",
       "                        <td id=\"T_fab83_row12_col22\" class=\"data row12 col22\" >-0.058</td>\n",
       "                        <td id=\"T_fab83_row12_col23\" class=\"data row12 col23\" >-0.083</td>\n",
       "                        <td id=\"T_fab83_row12_col24\" class=\"data row12 col24\" >-0.116</td>\n",
       "                        <td id=\"T_fab83_row12_col25\" class=\"data row12 col25\" >-0.051</td>\n",
       "            </tr>\n",
       "            <tr>\n",
       "                        <th id=\"T_fab83_level0_row13\" class=\"row_heading level0 row13\" >first_time</th>\n",
       "                        <td id=\"T_fab83_row13_col0\" class=\"data row13 col0\" >0.014</td>\n",
       "                        <td id=\"T_fab83_row13_col1\" class=\"data row13 col1\" >0.095</td>\n",
       "                        <td id=\"T_fab83_row13_col2\" class=\"data row13 col2\" >0.090</td>\n",
       "                        <td id=\"T_fab83_row13_col3\" class=\"data row13 col3\" >0.104</td>\n",
       "                        <td id=\"T_fab83_row13_col4\" class=\"data row13 col4\" >-0.074</td>\n",
       "                        <td id=\"T_fab83_row13_col5\" class=\"data row13 col5\" >0.056</td>\n",
       "                        <td id=\"T_fab83_row13_col6\" class=\"data row13 col6\" >-0.069</td>\n",
       "                        <td id=\"T_fab83_row13_col7\" class=\"data row13 col7\" >0.010</td>\n",
       "                        <td id=\"T_fab83_row13_col8\" class=\"data row13 col8\" >0.089</td>\n",
       "                        <td id=\"T_fab83_row13_col9\" class=\"data row13 col9\" >-0.058</td>\n",
       "                        <td id=\"T_fab83_row13_col10\" class=\"data row13 col10\" >-0.063</td>\n",
       "                        <td id=\"T_fab83_row13_col11\" class=\"data row13 col11\" >0.150</td>\n",
       "                        <td id=\"T_fab83_row13_col12\" class=\"data row13 col12\" >-0.525</td>\n",
       "                        <td id=\"T_fab83_row13_col13\" class=\"data row13 col13\" >1.000</td>\n",
       "                        <td id=\"T_fab83_row13_col14\" class=\"data row13 col14\" >0.195</td>\n",
       "                        <td id=\"T_fab83_row13_col15\" class=\"data row13 col15\" >-0.106</td>\n",
       "                        <td id=\"T_fab83_row13_col16\" class=\"data row13 col16\" >0.019</td>\n",
       "                        <td id=\"T_fab83_row13_col17\" class=\"data row13 col17\" >0.017</td>\n",
       "                        <td id=\"T_fab83_row13_col18\" class=\"data row13 col18\" >-0.014</td>\n",
       "                        <td id=\"T_fab83_row13_col19\" class=\"data row13 col19\" >0.236</td>\n",
       "                        <td id=\"T_fab83_row13_col20\" class=\"data row13 col20\" >0.111</td>\n",
       "                        <td id=\"T_fab83_row13_col21\" class=\"data row13 col21\" >0.173</td>\n",
       "                        <td id=\"T_fab83_row13_col22\" class=\"data row13 col22\" >0.069</td>\n",
       "                        <td id=\"T_fab83_row13_col23\" class=\"data row13 col23\" >0.094</td>\n",
       "                        <td id=\"T_fab83_row13_col24\" class=\"data row13 col24\" >0.136</td>\n",
       "                        <td id=\"T_fab83_row13_col25\" class=\"data row13 col25\" >0.063</td>\n",
       "            </tr>\n",
       "            <tr>\n",
       "                        <th id=\"T_fab83_level0_row14\" class=\"row_heading level0 row14\" >foreign_passport</th>\n",
       "                        <td id=\"T_fab83_row14_col0\" class=\"data row14 col0\" >0.086</td>\n",
       "                        <td id=\"T_fab83_row14_col1\" class=\"data row14 col1\" >-0.037</td>\n",
       "                        <td id=\"T_fab83_row14_col2\" class=\"data row14 col2\" >0.108</td>\n",
       "                        <td id=\"T_fab83_row14_col3\" class=\"data row14 col3\" >0.146</td>\n",
       "                        <td id=\"T_fab83_row14_col4\" class=\"data row14 col4\" >-0.030</td>\n",
       "                        <td id=\"T_fab83_row14_col5\" class=\"data row14 col5\" >0.046</td>\n",
       "                        <td id=\"T_fab83_row14_col6\" class=\"data row14 col6\" >-0.022</td>\n",
       "                        <td id=\"T_fab83_row14_col7\" class=\"data row14 col7\" >-0.003</td>\n",
       "                        <td id=\"T_fab83_row14_col8\" class=\"data row14 col8\" >0.255</td>\n",
       "                        <td id=\"T_fab83_row14_col9\" class=\"data row14 col9\" >0.039</td>\n",
       "                        <td id=\"T_fab83_row14_col10\" class=\"data row14 col10\" >0.042</td>\n",
       "                        <td id=\"T_fab83_row14_col11\" class=\"data row14 col11\" >0.273</td>\n",
       "                        <td id=\"T_fab83_row14_col12\" class=\"data row14 col12\" >-0.174</td>\n",
       "                        <td id=\"T_fab83_row14_col13\" class=\"data row14 col13\" >0.195</td>\n",
       "                        <td id=\"T_fab83_row14_col14\" class=\"data row14 col14\" >1.000</td>\n",
       "                        <td id=\"T_fab83_row14_col15\" class=\"data row14 col15\" >-0.067</td>\n",
       "                        <td id=\"T_fab83_row14_col16\" class=\"data row14 col16\" >-0.015</td>\n",
       "                        <td id=\"T_fab83_row14_col17\" class=\"data row14 col17\" >-0.015</td>\n",
       "                        <td id=\"T_fab83_row14_col18\" class=\"data row14 col18\" >-0.163</td>\n",
       "                        <td id=\"T_fab83_row14_col19\" class=\"data row14 col19\" >-0.047</td>\n",
       "                        <td id=\"T_fab83_row14_col20\" class=\"data row14 col20\" >0.226</td>\n",
       "                        <td id=\"T_fab83_row14_col21\" class=\"data row14 col21\" >0.597</td>\n",
       "                        <td id=\"T_fab83_row14_col22\" class=\"data row14 col22\" >0.285</td>\n",
       "                        <td id=\"T_fab83_row14_col23\" class=\"data row14 col23\" >0.425</td>\n",
       "                        <td id=\"T_fab83_row14_col24\" class=\"data row14 col24\" >0.636</td>\n",
       "                        <td id=\"T_fab83_row14_col25\" class=\"data row14 col25\" >0.075</td>\n",
       "            </tr>\n",
       "            <tr>\n",
       "                        <th id=\"T_fab83_level0_row15\" class=\"row_heading level0 row15\" >default</th>\n",
       "                        <td id=\"T_fab83_row15_col0\" class=\"data row15 col0\" >0.020</td>\n",
       "                        <td id=\"T_fab83_row15_col1\" class=\"data row15 col1\" >-0.026</td>\n",
       "                        <td id=\"T_fab83_row15_col2\" class=\"data row15 col2\" >-0.043</td>\n",
       "                        <td id=\"T_fab83_row15_col3\" class=\"data row15 col3\" >-0.057</td>\n",
       "                        <td id=\"T_fab83_row15_col4\" class=\"data row15 col4\" >0.121</td>\n",
       "                        <td id=\"T_fab83_row15_col5\" class=\"data row15 col5\" >-0.043</td>\n",
       "                        <td id=\"T_fab83_row15_col6\" class=\"data row15 col6\" >0.175</td>\n",
       "                        <td id=\"T_fab83_row15_col7\" class=\"data row15 col7\" >0.079</td>\n",
       "                        <td id=\"T_fab83_row15_col8\" class=\"data row15 col8\" >-0.089</td>\n",
       "                        <td id=\"T_fab83_row15_col9\" class=\"data row15 col9\" >0.085</td>\n",
       "                        <td id=\"T_fab83_row15_col10\" class=\"data row15 col10\" >0.082</td>\n",
       "                        <td id=\"T_fab83_row15_col11\" class=\"data row15 col11\" >-0.054</td>\n",
       "                        <td id=\"T_fab83_row15_col12\" class=\"data row15 col12\" >0.126</td>\n",
       "                        <td id=\"T_fab83_row15_col13\" class=\"data row15 col13\" >-0.106</td>\n",
       "                        <td id=\"T_fab83_row15_col14\" class=\"data row15 col14\" >-0.067</td>\n",
       "                        <td id=\"T_fab83_row15_col15\" class=\"data row15 col15\" >1.000</td>\n",
       "                        <td id=\"T_fab83_row15_col16\" class=\"data row15 col16\" >-0.037</td>\n",
       "                        <td id=\"T_fab83_row15_col17\" class=\"data row15 col17\" >-0.039</td>\n",
       "                        <td id=\"T_fab83_row15_col18\" class=\"data row15 col18\" >0.126</td>\n",
       "                        <td id=\"T_fab83_row15_col19\" class=\"data row15 col19\" >0.066</td>\n",
       "                        <td id=\"T_fab83_row15_col20\" class=\"data row15 col20\" >-0.056</td>\n",
       "                        <td id=\"T_fab83_row15_col21\" class=\"data row15 col21\" >-0.077</td>\n",
       "                        <td id=\"T_fab83_row15_col22\" class=\"data row15 col22\" >-0.027</td>\n",
       "                        <td id=\"T_fab83_row15_col23\" class=\"data row15 col23\" >-0.039</td>\n",
       "                        <td id=\"T_fab83_row15_col24\" class=\"data row15 col24\" >-0.053</td>\n",
       "                        <td id=\"T_fab83_row15_col25\" class=\"data row15 col25\" >-0.033</td>\n",
       "            </tr>\n",
       "            <tr>\n",
       "                        <th id=\"T_fab83_level0_row16\" class=\"row_heading level0 row16\" >month</th>\n",
       "                        <td id=\"T_fab83_row16_col0\" class=\"data row16 col0\" >-0.030</td>\n",
       "                        <td id=\"T_fab83_row16_col1\" class=\"data row16 col1\" >0.015</td>\n",
       "                        <td id=\"T_fab83_row16_col2\" class=\"data row16 col2\" >-0.020</td>\n",
       "                        <td id=\"T_fab83_row16_col3\" class=\"data row16 col3\" >-0.025</td>\n",
       "                        <td id=\"T_fab83_row16_col4\" class=\"data row16 col4\" >-0.022</td>\n",
       "                        <td id=\"T_fab83_row16_col5\" class=\"data row16 col5\" >0.005</td>\n",
       "                        <td id=\"T_fab83_row16_col6\" class=\"data row16 col6\" >-0.062</td>\n",
       "                        <td id=\"T_fab83_row16_col7\" class=\"data row16 col7\" >-0.011</td>\n",
       "                        <td id=\"T_fab83_row16_col8\" class=\"data row16 col8\" >0.005</td>\n",
       "                        <td id=\"T_fab83_row16_col9\" class=\"data row16 col9\" >0.169</td>\n",
       "                        <td id=\"T_fab83_row16_col10\" class=\"data row16 col10\" >0.171</td>\n",
       "                        <td id=\"T_fab83_row16_col11\" class=\"data row16 col11\" >0.008</td>\n",
       "                        <td id=\"T_fab83_row16_col12\" class=\"data row16 col12\" >-0.004</td>\n",
       "                        <td id=\"T_fab83_row16_col13\" class=\"data row16 col13\" >0.019</td>\n",
       "                        <td id=\"T_fab83_row16_col14\" class=\"data row16 col14\" >-0.015</td>\n",
       "                        <td id=\"T_fab83_row16_col15\" class=\"data row16 col15\" >-0.037</td>\n",
       "                        <td id=\"T_fab83_row16_col16\" class=\"data row16 col16\" >1.000</td>\n",
       "                        <td id=\"T_fab83_row16_col17\" class=\"data row16 col17\" >0.965</td>\n",
       "                        <td id=\"T_fab83_row16_col18\" class=\"data row16 col18\" >-0.027</td>\n",
       "                        <td id=\"T_fab83_row16_col19\" class=\"data row16 col19\" >-0.005</td>\n",
       "                        <td id=\"T_fab83_row16_col20\" class=\"data row16 col20\" >0.015</td>\n",
       "                        <td id=\"T_fab83_row16_col21\" class=\"data row16 col21\" >-0.013</td>\n",
       "                        <td id=\"T_fab83_row16_col22\" class=\"data row16 col22\" >0.005</td>\n",
       "                        <td id=\"T_fab83_row16_col23\" class=\"data row16 col23\" >-0.001</td>\n",
       "                        <td id=\"T_fab83_row16_col24\" class=\"data row16 col24\" >-0.009</td>\n",
       "                        <td id=\"T_fab83_row16_col25\" class=\"data row16 col25\" >-0.002</td>\n",
       "            </tr>\n",
       "            <tr>\n",
       "                        <th id=\"T_fab83_level0_row17\" class=\"row_heading level0 row17\" >days</th>\n",
       "                        <td id=\"T_fab83_row17_col0\" class=\"data row17 col0\" >-0.033</td>\n",
       "                        <td id=\"T_fab83_row17_col1\" class=\"data row17 col1\" >0.017</td>\n",
       "                        <td id=\"T_fab83_row17_col2\" class=\"data row17 col2\" >-0.022</td>\n",
       "                        <td id=\"T_fab83_row17_col3\" class=\"data row17 col3\" >-0.027</td>\n",
       "                        <td id=\"T_fab83_row17_col4\" class=\"data row17 col4\" >-0.023</td>\n",
       "                        <td id=\"T_fab83_row17_col5\" class=\"data row17 col5\" >0.005</td>\n",
       "                        <td id=\"T_fab83_row17_col6\" class=\"data row17 col6\" >-0.064</td>\n",
       "                        <td id=\"T_fab83_row17_col7\" class=\"data row17 col7\" >-0.010</td>\n",
       "                        <td id=\"T_fab83_row17_col8\" class=\"data row17 col8\" >0.007</td>\n",
       "                        <td id=\"T_fab83_row17_col9\" class=\"data row17 col9\" >0.164</td>\n",
       "                        <td id=\"T_fab83_row17_col10\" class=\"data row17 col10\" >0.164</td>\n",
       "                        <td id=\"T_fab83_row17_col11\" class=\"data row17 col11\" >0.005</td>\n",
       "                        <td id=\"T_fab83_row17_col12\" class=\"data row17 col12\" >-0.004</td>\n",
       "                        <td id=\"T_fab83_row17_col13\" class=\"data row17 col13\" >0.017</td>\n",
       "                        <td id=\"T_fab83_row17_col14\" class=\"data row17 col14\" >-0.015</td>\n",
       "                        <td id=\"T_fab83_row17_col15\" class=\"data row17 col15\" >-0.039</td>\n",
       "                        <td id=\"T_fab83_row17_col16\" class=\"data row17 col16\" >0.965</td>\n",
       "                        <td id=\"T_fab83_row17_col17\" class=\"data row17 col17\" >1.000</td>\n",
       "                        <td id=\"T_fab83_row17_col18\" class=\"data row17 col18\" >-0.029</td>\n",
       "                        <td id=\"T_fab83_row17_col19\" class=\"data row17 col19\" >-0.007</td>\n",
       "                        <td id=\"T_fab83_row17_col20\" class=\"data row17 col20\" >0.014</td>\n",
       "                        <td id=\"T_fab83_row17_col21\" class=\"data row17 col21\" >-0.014</td>\n",
       "                        <td id=\"T_fab83_row17_col22\" class=\"data row17 col22\" >0.003</td>\n",
       "                        <td id=\"T_fab83_row17_col23\" class=\"data row17 col23\" >-0.001</td>\n",
       "                        <td id=\"T_fab83_row17_col24\" class=\"data row17 col24\" >-0.010</td>\n",
       "                        <td id=\"T_fab83_row17_col25\" class=\"data row17 col25\" >-0.003</td>\n",
       "            </tr>\n",
       "            <tr>\n",
       "                        <th id=\"T_fab83_level0_row18\" class=\"row_heading level0 row18\" >bki_age_reg</th>\n",
       "                        <td id=\"T_fab83_row18_col0\" class=\"data row18 col0\" >-0.147</td>\n",
       "                        <td id=\"T_fab83_row18_col1\" class=\"data row18 col1\" >0.600</td>\n",
       "                        <td id=\"T_fab83_row18_col2\" class=\"data row18 col2\" >-0.065</td>\n",
       "                        <td id=\"T_fab83_row18_col3\" class=\"data row18 col3\" >-0.084</td>\n",
       "                        <td id=\"T_fab83_row18_col4\" class=\"data row18 col4\" >0.061</td>\n",
       "                        <td id=\"T_fab83_row18_col5\" class=\"data row18 col5\" >-0.081</td>\n",
       "                        <td id=\"T_fab83_row18_col6\" class=\"data row18 col6\" >0.499</td>\n",
       "                        <td id=\"T_fab83_row18_col7\" class=\"data row18 col7\" >0.112</td>\n",
       "                        <td id=\"T_fab83_row18_col8\" class=\"data row18 col8\" >-0.548</td>\n",
       "                        <td id=\"T_fab83_row18_col9\" class=\"data row18 col9\" >-0.117</td>\n",
       "                        <td id=\"T_fab83_row18_col10\" class=\"data row18 col10\" >-0.137</td>\n",
       "                        <td id=\"T_fab83_row18_col11\" class=\"data row18 col11\" >-0.194</td>\n",
       "                        <td id=\"T_fab83_row18_col12\" class=\"data row18 col12\" >0.030</td>\n",
       "                        <td id=\"T_fab83_row18_col13\" class=\"data row18 col13\" >-0.014</td>\n",
       "                        <td id=\"T_fab83_row18_col14\" class=\"data row18 col14\" >-0.163</td>\n",
       "                        <td id=\"T_fab83_row18_col15\" class=\"data row18 col15\" >0.126</td>\n",
       "                        <td id=\"T_fab83_row18_col16\" class=\"data row18 col16\" >-0.027</td>\n",
       "                        <td id=\"T_fab83_row18_col17\" class=\"data row18 col17\" >-0.029</td>\n",
       "                        <td id=\"T_fab83_row18_col18\" class=\"data row18 col18\" >1.000</td>\n",
       "                        <td id=\"T_fab83_row18_col19\" class=\"data row18 col19\" >0.011</td>\n",
       "                        <td id=\"T_fab83_row18_col20\" class=\"data row18 col20\" >-0.101</td>\n",
       "                        <td id=\"T_fab83_row18_col21\" class=\"data row18 col21\" >-0.161</td>\n",
       "                        <td id=\"T_fab83_row18_col22\" class=\"data row18 col22\" >-0.077</td>\n",
       "                        <td id=\"T_fab83_row18_col23\" class=\"data row18 col23\" >-0.114</td>\n",
       "                        <td id=\"T_fab83_row18_col24\" class=\"data row18 col24\" >-0.109</td>\n",
       "                        <td id=\"T_fab83_row18_col25\" class=\"data row18 col25\" >-0.070</td>\n",
       "            </tr>\n",
       "            <tr>\n",
       "                        <th id=\"T_fab83_level0_row19\" class=\"row_heading level0 row19\" >mult_sna_ftime</th>\n",
       "                        <td id=\"T_fab83_row19_col0\" class=\"data row19 col0\" >0.012</td>\n",
       "                        <td id=\"T_fab83_row19_col1\" class=\"data row19 col1\" >-0.036</td>\n",
       "                        <td id=\"T_fab83_row19_col2\" class=\"data row19 col2\" >-0.003</td>\n",
       "                        <td id=\"T_fab83_row19_col3\" class=\"data row19 col3\" >-0.007</td>\n",
       "                        <td id=\"T_fab83_row19_col4\" class=\"data row19 col4\" >0.027</td>\n",
       "                        <td id=\"T_fab83_row19_col5\" class=\"data row19 col5\" >-0.013</td>\n",
       "                        <td id=\"T_fab83_row19_col6\" class=\"data row19 col6\" >0.040</td>\n",
       "                        <td id=\"T_fab83_row19_col7\" class=\"data row19 col7\" >0.026</td>\n",
       "                        <td id=\"T_fab83_row19_col8\" class=\"data row19 col8\" >-0.017</td>\n",
       "                        <td id=\"T_fab83_row19_col9\" class=\"data row19 col9\" >0.062</td>\n",
       "                        <td id=\"T_fab83_row19_col10\" class=\"data row19 col10\" >0.059</td>\n",
       "                        <td id=\"T_fab83_row19_col11\" class=\"data row19 col11\" >-0.003</td>\n",
       "                        <td id=\"T_fab83_row19_col12\" class=\"data row19 col12\" >0.611</td>\n",
       "                        <td id=\"T_fab83_row19_col13\" class=\"data row19 col13\" >0.236</td>\n",
       "                        <td id=\"T_fab83_row19_col14\" class=\"data row19 col14\" >-0.047</td>\n",
       "                        <td id=\"T_fab83_row19_col15\" class=\"data row19 col15\" >0.066</td>\n",
       "                        <td id=\"T_fab83_row19_col16\" class=\"data row19 col16\" >-0.005</td>\n",
       "                        <td id=\"T_fab83_row19_col17\" class=\"data row19 col17\" >-0.007</td>\n",
       "                        <td id=\"T_fab83_row19_col18\" class=\"data row19 col18\" >0.011</td>\n",
       "                        <td id=\"T_fab83_row19_col19\" class=\"data row19 col19\" >1.000</td>\n",
       "                        <td id=\"T_fab83_row19_col20\" class=\"data row19 col20\" >-0.014</td>\n",
       "                        <td id=\"T_fab83_row19_col21\" class=\"data row19 col21\" >-0.032</td>\n",
       "                        <td id=\"T_fab83_row19_col22\" class=\"data row19 col22\" >-0.016</td>\n",
       "                        <td id=\"T_fab83_row19_col23\" class=\"data row19 col23\" >-0.024</td>\n",
       "                        <td id=\"T_fab83_row19_col24\" class=\"data row19 col24\" >-0.029</td>\n",
       "                        <td id=\"T_fab83_row19_col25\" class=\"data row19 col25\" >-0.007</td>\n",
       "            </tr>\n",
       "            <tr>\n",
       "                        <th id=\"T_fab83_level0_row20\" class=\"row_heading level0 row20\" >edu_and_income</th>\n",
       "                        <td id=\"T_fab83_row20_col0\" class=\"data row20 col0\" >0.121</td>\n",
       "                        <td id=\"T_fab83_row20_col1\" class=\"data row20 col1\" >-0.018</td>\n",
       "                        <td id=\"T_fab83_row20_col2\" class=\"data row20 col2\" >0.197</td>\n",
       "                        <td id=\"T_fab83_row20_col3\" class=\"data row20 col3\" >0.257</td>\n",
       "                        <td id=\"T_fab83_row20_col4\" class=\"data row20 col4\" >-0.041</td>\n",
       "                        <td id=\"T_fab83_row20_col5\" class=\"data row20 col5\" >0.081</td>\n",
       "                        <td id=\"T_fab83_row20_col6\" class=\"data row20 col6\" >-0.022</td>\n",
       "                        <td id=\"T_fab83_row20_col7\" class=\"data row20 col7\" >0.052</td>\n",
       "                        <td id=\"T_fab83_row20_col8\" class=\"data row20 col8\" >0.169</td>\n",
       "                        <td id=\"T_fab83_row20_col9\" class=\"data row20 col9\" >0.029</td>\n",
       "                        <td id=\"T_fab83_row20_col10\" class=\"data row20 col10\" >0.035</td>\n",
       "                        <td id=\"T_fab83_row20_col11\" class=\"data row20 col11\" >0.587</td>\n",
       "                        <td id=\"T_fab83_row20_col12\" class=\"data row20 col12\" >-0.094</td>\n",
       "                        <td id=\"T_fab83_row20_col13\" class=\"data row20 col13\" >0.111</td>\n",
       "                        <td id=\"T_fab83_row20_col14\" class=\"data row20 col14\" >0.226</td>\n",
       "                        <td id=\"T_fab83_row20_col15\" class=\"data row20 col15\" >-0.056</td>\n",
       "                        <td id=\"T_fab83_row20_col16\" class=\"data row20 col16\" >0.015</td>\n",
       "                        <td id=\"T_fab83_row20_col17\" class=\"data row20 col17\" >0.014</td>\n",
       "                        <td id=\"T_fab83_row20_col18\" class=\"data row20 col18\" >-0.101</td>\n",
       "                        <td id=\"T_fab83_row20_col19\" class=\"data row20 col19\" >-0.014</td>\n",
       "                        <td id=\"T_fab83_row20_col20\" class=\"data row20 col20\" >1.000</td>\n",
       "                        <td id=\"T_fab83_row20_col21\" class=\"data row20 col21\" >0.282</td>\n",
       "                        <td id=\"T_fab83_row20_col22\" class=\"data row20 col22\" >0.145</td>\n",
       "                        <td id=\"T_fab83_row20_col23\" class=\"data row20 col23\" >0.145</td>\n",
       "                        <td id=\"T_fab83_row20_col24\" class=\"data row20 col24\" >0.245</td>\n",
       "                        <td id=\"T_fab83_row20_col25\" class=\"data row20 col25\" >0.122</td>\n",
       "            </tr>\n",
       "            <tr>\n",
       "                        <th id=\"T_fab83_level0_row21\" class=\"row_heading level0 row21\" >success_client</th>\n",
       "                        <td id=\"T_fab83_row21_col0\" class=\"data row21 col0\" >0.173</td>\n",
       "                        <td id=\"T_fab83_row21_col1\" class=\"data row21 col1\" >-0.069</td>\n",
       "                        <td id=\"T_fab83_row21_col2\" class=\"data row21 col2\" >0.599</td>\n",
       "                        <td id=\"T_fab83_row21_col3\" class=\"data row21 col3\" >0.483</td>\n",
       "                        <td id=\"T_fab83_row21_col4\" class=\"data row21 col4\" >-0.051</td>\n",
       "                        <td id=\"T_fab83_row21_col5\" class=\"data row21 col5\" >0.523</td>\n",
       "                        <td id=\"T_fab83_row21_col6\" class=\"data row21 col6\" >-0.036</td>\n",
       "                        <td id=\"T_fab83_row21_col7\" class=\"data row21 col7\" >-0.024</td>\n",
       "                        <td id=\"T_fab83_row21_col8\" class=\"data row21 col8\" >0.207</td>\n",
       "                        <td id=\"T_fab83_row21_col9\" class=\"data row21 col9\" >0.011</td>\n",
       "                        <td id=\"T_fab83_row21_col10\" class=\"data row21 col10\" >0.022</td>\n",
       "                        <td id=\"T_fab83_row21_col11\" class=\"data row21 col11\" >0.343</td>\n",
       "                        <td id=\"T_fab83_row21_col12\" class=\"data row21 col12\" >-0.150</td>\n",
       "                        <td id=\"T_fab83_row21_col13\" class=\"data row21 col13\" >0.173</td>\n",
       "                        <td id=\"T_fab83_row21_col14\" class=\"data row21 col14\" >0.597</td>\n",
       "                        <td id=\"T_fab83_row21_col15\" class=\"data row21 col15\" >-0.077</td>\n",
       "                        <td id=\"T_fab83_row21_col16\" class=\"data row21 col16\" >-0.013</td>\n",
       "                        <td id=\"T_fab83_row21_col17\" class=\"data row21 col17\" >-0.014</td>\n",
       "                        <td id=\"T_fab83_row21_col18\" class=\"data row21 col18\" >-0.161</td>\n",
       "                        <td id=\"T_fab83_row21_col19\" class=\"data row21 col19\" >-0.032</td>\n",
       "                        <td id=\"T_fab83_row21_col20\" class=\"data row21 col20\" >0.282</td>\n",
       "                        <td id=\"T_fab83_row21_col21\" class=\"data row21 col21\" >1.000</td>\n",
       "                        <td id=\"T_fab83_row21_col22\" class=\"data row21 col22\" >0.625</td>\n",
       "                        <td id=\"T_fab83_row21_col23\" class=\"data row21 col23\" >0.606</td>\n",
       "                        <td id=\"T_fab83_row21_col24\" class=\"data row21 col24\" >0.686</td>\n",
       "                        <td id=\"T_fab83_row21_col25\" class=\"data row21 col25\" >0.653</td>\n",
       "            </tr>\n",
       "            <tr>\n",
       "                        <th id=\"T_fab83_level0_row22\" class=\"row_heading level0 row22\" >very_success_client</th>\n",
       "                        <td id=\"T_fab83_row22_col0\" class=\"data row22 col0\" >0.050</td>\n",
       "                        <td id=\"T_fab83_row22_col1\" class=\"data row22 col1\" >-0.023</td>\n",
       "                        <td id=\"T_fab83_row22_col2\" class=\"data row22 col2\" >0.172</td>\n",
       "                        <td id=\"T_fab83_row22_col3\" class=\"data row22 col3\" >0.181</td>\n",
       "                        <td id=\"T_fab83_row22_col4\" class=\"data row22 col4\" >-0.024</td>\n",
       "                        <td id=\"T_fab83_row22_col5\" class=\"data row22 col5\" >0.269</td>\n",
       "                        <td id=\"T_fab83_row22_col6\" class=\"data row22 col6\" >-0.018</td>\n",
       "                        <td id=\"T_fab83_row22_col7\" class=\"data row22 col7\" >-0.010</td>\n",
       "                        <td id=\"T_fab83_row22_col8\" class=\"data row22 col8\" >0.101</td>\n",
       "                        <td id=\"T_fab83_row22_col9\" class=\"data row22 col9\" >0.019</td>\n",
       "                        <td id=\"T_fab83_row22_col10\" class=\"data row22 col10\" >0.027</td>\n",
       "                        <td id=\"T_fab83_row22_col11\" class=\"data row22 col11\" >0.136</td>\n",
       "                        <td id=\"T_fab83_row22_col12\" class=\"data row22 col12\" >-0.058</td>\n",
       "                        <td id=\"T_fab83_row22_col13\" class=\"data row22 col13\" >0.069</td>\n",
       "                        <td id=\"T_fab83_row22_col14\" class=\"data row22 col14\" >0.285</td>\n",
       "                        <td id=\"T_fab83_row22_col15\" class=\"data row22 col15\" >-0.027</td>\n",
       "                        <td id=\"T_fab83_row22_col16\" class=\"data row22 col16\" >0.005</td>\n",
       "                        <td id=\"T_fab83_row22_col17\" class=\"data row22 col17\" >0.003</td>\n",
       "                        <td id=\"T_fab83_row22_col18\" class=\"data row22 col18\" >-0.077</td>\n",
       "                        <td id=\"T_fab83_row22_col19\" class=\"data row22 col19\" >-0.016</td>\n",
       "                        <td id=\"T_fab83_row22_col20\" class=\"data row22 col20\" >0.145</td>\n",
       "                        <td id=\"T_fab83_row22_col21\" class=\"data row22 col21\" >0.625</td>\n",
       "                        <td id=\"T_fab83_row22_col22\" class=\"data row22 col22\" >1.000</td>\n",
       "                        <td id=\"T_fab83_row22_col23\" class=\"data row22 col23\" >0.670</td>\n",
       "                        <td id=\"T_fab83_row22_col24\" class=\"data row22 col24\" >0.448</td>\n",
       "                        <td id=\"T_fab83_row22_col25\" class=\"data row22 col25\" >0.501</td>\n",
       "            </tr>\n",
       "            <tr>\n",
       "                        <th id=\"T_fab83_level0_row23\" class=\"row_heading level0 row23\" >fpassp_and_gwork</th>\n",
       "                        <td id=\"T_fab83_row23_col0\" class=\"data row23 col0\" >0.028</td>\n",
       "                        <td id=\"T_fab83_row23_col1\" class=\"data row23 col1\" >-0.045</td>\n",
       "                        <td id=\"T_fab83_row23_col2\" class=\"data row23 col2\" >0.050</td>\n",
       "                        <td id=\"T_fab83_row23_col3\" class=\"data row23 col3\" >0.077</td>\n",
       "                        <td id=\"T_fab83_row23_col4\" class=\"data row23 col4\" >-0.025</td>\n",
       "                        <td id=\"T_fab83_row23_col5\" class=\"data row23 col5\" >0.402</td>\n",
       "                        <td id=\"T_fab83_row23_col6\" class=\"data row23 col6\" >-0.013</td>\n",
       "                        <td id=\"T_fab83_row23_col7\" class=\"data row23 col7\" >-0.006</td>\n",
       "                        <td id=\"T_fab83_row23_col8\" class=\"data row23 col8\" >0.148</td>\n",
       "                        <td id=\"T_fab83_row23_col9\" class=\"data row23 col9\" >0.028</td>\n",
       "                        <td id=\"T_fab83_row23_col10\" class=\"data row23 col10\" >0.035</td>\n",
       "                        <td id=\"T_fab83_row23_col11\" class=\"data row23 col11\" >0.142</td>\n",
       "                        <td id=\"T_fab83_row23_col12\" class=\"data row23 col12\" >-0.083</td>\n",
       "                        <td id=\"T_fab83_row23_col13\" class=\"data row23 col13\" >0.094</td>\n",
       "                        <td id=\"T_fab83_row23_col14\" class=\"data row23 col14\" >0.425</td>\n",
       "                        <td id=\"T_fab83_row23_col15\" class=\"data row23 col15\" >-0.039</td>\n",
       "                        <td id=\"T_fab83_row23_col16\" class=\"data row23 col16\" >-0.001</td>\n",
       "                        <td id=\"T_fab83_row23_col17\" class=\"data row23 col17\" >-0.001</td>\n",
       "                        <td id=\"T_fab83_row23_col18\" class=\"data row23 col18\" >-0.114</td>\n",
       "                        <td id=\"T_fab83_row23_col19\" class=\"data row23 col19\" >-0.024</td>\n",
       "                        <td id=\"T_fab83_row23_col20\" class=\"data row23 col20\" >0.145</td>\n",
       "                        <td id=\"T_fab83_row23_col21\" class=\"data row23 col21\" >0.606</td>\n",
       "                        <td id=\"T_fab83_row23_col22\" class=\"data row23 col22\" >0.670</td>\n",
       "                        <td id=\"T_fab83_row23_col23\" class=\"data row23 col23\" >1.000</td>\n",
       "                        <td id=\"T_fab83_row23_col24\" class=\"data row23 col24\" >0.279</td>\n",
       "                        <td id=\"T_fab83_row23_col25\" class=\"data row23 col25\" >0.319</td>\n",
       "            </tr>\n",
       "            <tr>\n",
       "                        <th id=\"T_fab83_level0_row24\" class=\"row_heading level0 row24\" >fpassp_and_car</th>\n",
       "                        <td id=\"T_fab83_row24_col0\" class=\"data row24 col0\" >0.129</td>\n",
       "                        <td id=\"T_fab83_row24_col1\" class=\"data row24 col1\" >-0.010</td>\n",
       "                        <td id=\"T_fab83_row24_col2\" class=\"data row24 col2\" >0.385</td>\n",
       "                        <td id=\"T_fab83_row24_col3\" class=\"data row24 col3\" >0.370</td>\n",
       "                        <td id=\"T_fab83_row24_col4\" class=\"data row24 col4\" >-0.036</td>\n",
       "                        <td id=\"T_fab83_row24_col5\" class=\"data row24 col5\" >0.034</td>\n",
       "                        <td id=\"T_fab83_row24_col6\" class=\"data row24 col6\" >-0.033</td>\n",
       "                        <td id=\"T_fab83_row24_col7\" class=\"data row24 col7\" >-0.014</td>\n",
       "                        <td id=\"T_fab83_row24_col8\" class=\"data row24 col8\" >0.174</td>\n",
       "                        <td id=\"T_fab83_row24_col9\" class=\"data row24 col9\" >0.022</td>\n",
       "                        <td id=\"T_fab83_row24_col10\" class=\"data row24 col10\" >0.027</td>\n",
       "                        <td id=\"T_fab83_row24_col11\" class=\"data row24 col11\" >0.274</td>\n",
       "                        <td id=\"T_fab83_row24_col12\" class=\"data row24 col12\" >-0.116</td>\n",
       "                        <td id=\"T_fab83_row24_col13\" class=\"data row24 col13\" >0.136</td>\n",
       "                        <td id=\"T_fab83_row24_col14\" class=\"data row24 col14\" >0.636</td>\n",
       "                        <td id=\"T_fab83_row24_col15\" class=\"data row24 col15\" >-0.053</td>\n",
       "                        <td id=\"T_fab83_row24_col16\" class=\"data row24 col16\" >-0.009</td>\n",
       "                        <td id=\"T_fab83_row24_col17\" class=\"data row24 col17\" >-0.010</td>\n",
       "                        <td id=\"T_fab83_row24_col18\" class=\"data row24 col18\" >-0.109</td>\n",
       "                        <td id=\"T_fab83_row24_col19\" class=\"data row24 col19\" >-0.029</td>\n",
       "                        <td id=\"T_fab83_row24_col20\" class=\"data row24 col20\" >0.245</td>\n",
       "                        <td id=\"T_fab83_row24_col21\" class=\"data row24 col21\" >0.686</td>\n",
       "                        <td id=\"T_fab83_row24_col22\" class=\"data row24 col22\" >0.448</td>\n",
       "                        <td id=\"T_fab83_row24_col23\" class=\"data row24 col23\" >0.279</td>\n",
       "                        <td id=\"T_fab83_row24_col24\" class=\"data row24 col24\" >1.000</td>\n",
       "                        <td id=\"T_fab83_row24_col25\" class=\"data row24 col25\" >0.187</td>\n",
       "            </tr>\n",
       "            <tr>\n",
       "                        <th id=\"T_fab83_level0_row25\" class=\"row_heading level0 row25\" >gwork_and_car</th>\n",
       "                        <td id=\"T_fab83_row25_col0\" class=\"data row25 col0\" >0.065</td>\n",
       "                        <td id=\"T_fab83_row25_col1\" class=\"data row25 col1\" >-0.049</td>\n",
       "                        <td id=\"T_fab83_row25_col2\" class=\"data row25 col2\" >0.344</td>\n",
       "                        <td id=\"T_fab83_row25_col3\" class=\"data row25 col3\" >0.267</td>\n",
       "                        <td id=\"T_fab83_row25_col4\" class=\"data row25 col4\" >-0.025</td>\n",
       "                        <td id=\"T_fab83_row25_col5\" class=\"data row25 col5\" >0.537</td>\n",
       "                        <td id=\"T_fab83_row25_col6\" class=\"data row25 col6\" >-0.014</td>\n",
       "                        <td id=\"T_fab83_row25_col7\" class=\"data row25 col7\" >-0.010</td>\n",
       "                        <td id=\"T_fab83_row25_col8\" class=\"data row25 col8\" >0.067</td>\n",
       "                        <td id=\"T_fab83_row25_col9\" class=\"data row25 col9\" >-0.002</td>\n",
       "                        <td id=\"T_fab83_row25_col10\" class=\"data row25 col10\" >0.007</td>\n",
       "                        <td id=\"T_fab83_row25_col11\" class=\"data row25 col11\" >0.129</td>\n",
       "                        <td id=\"T_fab83_row25_col12\" class=\"data row25 col12\" >-0.051</td>\n",
       "                        <td id=\"T_fab83_row25_col13\" class=\"data row25 col13\" >0.063</td>\n",
       "                        <td id=\"T_fab83_row25_col14\" class=\"data row25 col14\" >0.075</td>\n",
       "                        <td id=\"T_fab83_row25_col15\" class=\"data row25 col15\" >-0.033</td>\n",
       "                        <td id=\"T_fab83_row25_col16\" class=\"data row25 col16\" >-0.002</td>\n",
       "                        <td id=\"T_fab83_row25_col17\" class=\"data row25 col17\" >-0.003</td>\n",
       "                        <td id=\"T_fab83_row25_col18\" class=\"data row25 col18\" >-0.070</td>\n",
       "                        <td id=\"T_fab83_row25_col19\" class=\"data row25 col19\" >-0.007</td>\n",
       "                        <td id=\"T_fab83_row25_col20\" class=\"data row25 col20\" >0.122</td>\n",
       "                        <td id=\"T_fab83_row25_col21\" class=\"data row25 col21\" >0.653</td>\n",
       "                        <td id=\"T_fab83_row25_col22\" class=\"data row25 col22\" >0.501</td>\n",
       "                        <td id=\"T_fab83_row25_col23\" class=\"data row25 col23\" >0.319</td>\n",
       "                        <td id=\"T_fab83_row25_col24\" class=\"data row25 col24\" >0.187</td>\n",
       "                        <td id=\"T_fab83_row25_col25\" class=\"data row25 col25\" >1.000</td>\n",
       "            </tr>\n",
       "    </tbody></table>"
      ],
      "text/plain": [
       "<pandas.io.formats.style.Styler at 0x7f1c5cbfc990>"
      ]
     },
     "execution_count": 48,
     "metadata": {},
     "output_type": "execute_result"
    }
   ],
   "source": [
    "# посмотрим на корреляцию признаков обучающей базы\n",
    "corr_train = train.drop(['client_id', 'education'],axis = 1).corr()\n",
    "corr_train.style.background_gradient(cmap='coolwarm').set_precision(3)"
   ]
  },
  {
   "cell_type": "code",
   "execution_count": 49,
   "id": "successful-citizen",
   "metadata": {
    "execution": {
     "iopub.execute_input": "2021-04-16T08:54:38.426539Z",
     "iopub.status.busy": "2021-04-16T08:54:38.425768Z",
     "iopub.status.idle": "2021-04-16T08:54:38.429331Z",
     "shell.execute_reply": "2021-04-16T08:54:38.428768Z"
    },
    "papermill": {
     "duration": 0.104489,
     "end_time": "2021-04-16T08:54:38.429499",
     "exception": false,
     "start_time": "2021-04-16T08:54:38.325010",
     "status": "completed"
    },
    "tags": []
   },
   "outputs": [],
   "source": [
    "# Признаки с высокой корреляцией удалим (я оценил высокую как выше 0.8 по модулю)\n",
    "cat_cols.remove('month')"
   ]
  },
  {
   "cell_type": "markdown",
   "id": "productive-shopper",
   "metadata": {
    "papermill": {
     "duration": 0.095501,
     "end_time": "2021-04-16T08:54:38.620715",
     "exception": false,
     "start_time": "2021-04-16T08:54:38.525214",
     "status": "completed"
    },
    "tags": []
   },
   "source": [
    "# Подготовка модели"
   ]
  },
  {
   "cell_type": "code",
   "execution_count": 50,
   "id": "serious-wrong",
   "metadata": {
    "execution": {
     "iopub.execute_input": "2021-04-16T08:54:38.819551Z",
     "iopub.status.busy": "2021-04-16T08:54:38.818899Z",
     "iopub.status.idle": "2021-04-16T08:54:38.873826Z",
     "shell.execute_reply": "2021-04-16T08:54:38.874325Z"
    },
    "papermill": {
     "duration": 0.159257,
     "end_time": "2021-04-16T08:54:38.874519",
     "exception": false,
     "start_time": "2021-04-16T08:54:38.715262",
     "status": "completed"
    },
    "tags": []
   },
   "outputs": [
    {
     "data": {
      "text/plain": [
       "array([[1., 0., 0., ..., 0., 0., 0.],\n",
       "       [1., 0., 0., ..., 0., 0., 0.],\n",
       "       [1., 0., 0., ..., 1., 0., 0.],\n",
       "       ...,\n",
       "       [1., 0., 0., ..., 0., 0., 0.],\n",
       "       [1., 0., 0., ..., 0., 0., 0.],\n",
       "       [0., 0., 0., ..., 0., 0., 0.]])"
      ]
     },
     "execution_count": 50,
     "metadata": {},
     "output_type": "execute_result"
    }
   ],
   "source": [
    "X_cat = OneHotEncoder(sparse = False).fit_transform(train[cat_cols].values)\n",
    "X_cat"
   ]
  },
  {
   "cell_type": "code",
   "execution_count": 51,
   "id": "delayed-workshop",
   "metadata": {
    "execution": {
     "iopub.execute_input": "2021-04-16T08:54:39.077785Z",
     "iopub.status.busy": "2021-04-16T08:54:39.076293Z",
     "iopub.status.idle": "2021-04-16T08:54:39.108911Z",
     "shell.execute_reply": "2021-04-16T08:54:39.108253Z"
    },
    "papermill": {
     "duration": 0.138573,
     "end_time": "2021-04-16T08:54:39.109180",
     "exception": false,
     "start_time": "2021-04-16T08:54:38.970607",
     "status": "completed"
    },
    "tags": []
   },
   "outputs": [
    {
     "data": {
      "text/plain": [
       "array([[0., 0., 0., ..., 0., 0., 0.],\n",
       "       [1., 0., 0., ..., 0., 0., 1.],\n",
       "       [0., 1., 0., ..., 0., 0., 0.],\n",
       "       ...,\n",
       "       [0., 0., 0., ..., 1., 0., 0.],\n",
       "       [0., 1., 0., ..., 0., 0., 0.],\n",
       "       [1., 0., 0., ..., 0., 0., 0.]])"
      ]
     },
     "execution_count": 51,
     "metadata": {},
     "output_type": "execute_result"
    }
   ],
   "source": [
    "Y_cat = OneHotEncoder(sparse = False).fit_transform(test[cat_cols].values)\n",
    "Y_cat"
   ]
  },
  {
   "cell_type": "code",
   "execution_count": 52,
   "id": "recent-hanging",
   "metadata": {
    "execution": {
     "iopub.execute_input": "2021-04-16T08:54:39.310085Z",
     "iopub.status.busy": "2021-04-16T08:54:39.309300Z",
     "iopub.status.idle": "2021-04-16T08:54:39.330463Z",
     "shell.execute_reply": "2021-04-16T08:54:39.329916Z"
    },
    "papermill": {
     "duration": 0.125034,
     "end_time": "2021-04-16T08:54:39.330615",
     "exception": false,
     "start_time": "2021-04-16T08:54:39.205581",
     "status": "completed"
    },
    "tags": []
   },
   "outputs": [
    {
     "data": {
      "text/plain": [
       "array([[ 1.71113664, -0.28100505, -0.78501579, ...,  0.98851239,\n",
       "        -0.08042749, -0.45721178],\n",
       "       [ 1.5399884 ,  0.77260728, -0.70752611, ...,  1.22122567,\n",
       "        -0.08042749, -0.45547599],\n",
       "       [-1.39343857, -0.28100505, -0.05288771, ..., -1.10104712,\n",
       "        -0.08042749, -0.43638224],\n",
       "       ...,\n",
       "       [-0.66507223,  1.11179469,  0.5282444 , ..., -0.66484442,\n",
       "        -0.08042749, -0.41034531],\n",
       "       [-0.89146325,  0.77260728, -1.25140899, ...,  0.3147392 ,\n",
       "         0.73304037, -0.46589076],\n",
       "       [-0.35072683,  0.33531865, -0.31419734, ...,  0.28245698,\n",
       "        -0.48716142,  0.11907224]])"
      ]
     },
     "execution_count": 52,
     "metadata": {},
     "output_type": "execute_result"
    }
   ],
   "source": [
    "# Стандартизация числовых непрерывных переменных на обучающей базе\n",
    "\n",
    "X_num = StandardScaler().fit_transform(train[num_cols].values)\n",
    "X_num"
   ]
  },
  {
   "cell_type": "code",
   "execution_count": 53,
   "id": "recent-reaction",
   "metadata": {
    "execution": {
     "iopub.execute_input": "2021-04-16T08:54:39.533382Z",
     "iopub.status.busy": "2021-04-16T08:54:39.532080Z",
     "iopub.status.idle": "2021-04-16T08:54:39.545018Z",
     "shell.execute_reply": "2021-04-16T08:54:39.544295Z"
    },
    "papermill": {
     "duration": 0.117186,
     "end_time": "2021-04-16T08:54:39.545173",
     "exception": false,
     "start_time": "2021-04-16T08:54:39.427987",
     "status": "completed"
    },
    "tags": []
   },
   "outputs": [
    {
     "data": {
      "text/plain": [
       "array([[-0.88333898,  0.76643419,  0.68282058, ..., -0.66617693,\n",
       "        -0.07356829,  0.7835255 ],\n",
       "       [ 0.12606863,  0.33072139, -2.63253397, ...,  0.77043507,\n",
       "         3.20908805, -0.49782904],\n",
       "       [ 0.97850869, -0.28338131, -0.05272498, ...,  0.94256865,\n",
       "        -0.48390034, -0.34111661],\n",
       "       ...,\n",
       "       [-0.65688874, -0.28338131,  0.9453502 , ...,  1.06833449,\n",
       "         1.56775988,  1.04164009],\n",
       "       [-1.12541848,  0.33072139, -0.05272498, ..., -0.49568189,\n",
       "        -1.30456442, -0.34111661],\n",
       "       [ 0.0372345 ,  0.33072139, -1.05077617, ...,  0.73130861,\n",
       "         1.56775988, -0.47939228]])"
      ]
     },
     "execution_count": 53,
     "metadata": {},
     "output_type": "execute_result"
    }
   ],
   "source": [
    "# Стандартизация числовых непрерывных переменных на тестовой базе\n",
    "\n",
    "Y_num = StandardScaler().fit_transform(test[num_cols].values)\n",
    "Y_num"
   ]
  },
  {
   "cell_type": "code",
   "execution_count": 54,
   "id": "dirty-announcement",
   "metadata": {
    "execution": {
     "iopub.execute_input": "2021-04-16T08:54:39.748663Z",
     "iopub.status.busy": "2021-04-16T08:54:39.746966Z",
     "iopub.status.idle": "2021-04-16T08:54:39.780193Z",
     "shell.execute_reply": "2021-04-16T08:54:39.779516Z"
    },
    "papermill": {
     "duration": 0.138579,
     "end_time": "2021-04-16T08:54:39.780345",
     "exception": false,
     "start_time": "2021-04-16T08:54:39.641766",
     "status": "completed"
    },
    "tags": []
   },
   "outputs": [],
   "source": [
    "# Объединяем\n",
    "\n",
    "X = np.hstack([X_num, train[bin_cols].values, X_cat])\n",
    "Y = train['default'].values\n",
    "\n",
    "id_test = test['client_id']\n",
    "test = np.hstack([Y_num, test[bin_cols].values, Y_cat])"
   ]
  },
  {
   "cell_type": "code",
   "execution_count": 55,
   "id": "inclusive-valuation",
   "metadata": {
    "execution": {
     "iopub.execute_input": "2021-04-16T08:54:39.982481Z",
     "iopub.status.busy": "2021-04-16T08:54:39.979606Z",
     "iopub.status.idle": "2021-04-16T08:54:40.002459Z",
     "shell.execute_reply": "2021-04-16T08:54:40.001724Z"
    },
    "papermill": {
     "duration": 0.125735,
     "end_time": "2021-04-16T08:54:40.002609",
     "exception": false,
     "start_time": "2021-04-16T08:54:39.876874",
     "status": "completed"
    },
    "tags": []
   },
   "outputs": [],
   "source": [
    "# Разделяем обучающую выборку на тренировочную и валидационную\n",
    "X_train, X_valid, y_train, y_valid = train_test_split(X, Y, test_size=0.2, random_state=42, shuffle = True)"
   ]
  },
  {
   "cell_type": "code",
   "execution_count": 56,
   "id": "egyptian-plasma",
   "metadata": {
    "execution": {
     "iopub.execute_input": "2021-04-16T08:54:40.209059Z",
     "iopub.status.busy": "2021-04-16T08:54:40.208291Z",
     "iopub.status.idle": "2021-04-16T08:55:34.318639Z",
     "shell.execute_reply": "2021-04-16T08:55:34.319180Z"
    },
    "papermill": {
     "duration": 54.216386,
     "end_time": "2021-04-16T08:55:34.319361",
     "exception": false,
     "start_time": "2021-04-16T08:54:40.102975",
     "status": "completed"
    },
    "tags": []
   },
   "outputs": [
    {
     "name": "stdout",
     "output_type": "stream",
     "text": [
      "Лучшее Penalty: l2\n",
      "Лучшее C: 2.7825594022071245\n"
     ]
    }
   ],
   "source": [
    "# Подбор лучших гиперпараметров для модели\n",
    "\n",
    "from sklearn.model_selection import GridSearchCV\n",
    "\n",
    "# Добавим типы регуляризации\n",
    "penalty = ['l1', 'l2']\n",
    "\n",
    "# Зададим ограничения для параметра регуляризации\n",
    "C = np.logspace(0, 4, 10)\n",
    "\n",
    "# Создадим гиперпараметры\n",
    "hyperparameters = dict(C=C, penalty=penalty)\n",
    "\n",
    "model = LogisticRegression()\n",
    "model.fit(X_train, y_train)\n",
    "\n",
    "# Создаем сетку поиска с использованием 5-кратной перекрестной проверки\n",
    "clf = GridSearchCV(model, hyperparameters, cv=5, verbose=0)\n",
    "\n",
    "best_model = clf.fit(X_train, y_train)\n",
    "\n",
    "print('Лучшее Penalty:', best_model.best_estimator_.get_params()['penalty'])\n",
    "print('Лучшее C:', best_model.best_estimator_.get_params()['C'])"
   ]
  },
  {
   "cell_type": "code",
   "execution_count": 57,
   "id": "referenced-dragon",
   "metadata": {
    "execution": {
     "iopub.execute_input": "2021-04-16T08:55:34.522574Z",
     "iopub.status.busy": "2021-04-16T08:55:34.521891Z",
     "iopub.status.idle": "2021-04-16T08:55:35.180818Z",
     "shell.execute_reply": "2021-04-16T08:55:35.180238Z"
    },
    "papermill": {
     "duration": 0.76262,
     "end_time": "2021-04-16T08:55:35.180964",
     "exception": false,
     "start_time": "2021-04-16T08:55:34.418344",
     "status": "completed"
    },
    "tags": []
   },
   "outputs": [
    {
     "data": {
      "text/plain": [
       "LogisticRegression(C=2.7825594022071245, class_weight='balanced', max_iter=1000,\n",
       "                   solver='liblinear')"
      ]
     },
     "execution_count": 57,
     "metadata": {},
     "output_type": "execute_result"
    }
   ],
   "source": [
    "# Описываем и обучаем модель\n",
    "model = LogisticRegression( \n",
    "                           C=2.7825594022071245, \n",
    "                           class_weight='balanced', \n",
    "                           dual=False, \n",
    "                           fit_intercept=True, \n",
    "                           intercept_scaling=1, \n",
    "                           l1_ratio=None, \n",
    "                           multi_class='auto', \n",
    "                           n_jobs=None, \n",
    "                           penalty='l2', \n",
    "                           solver='liblinear', \n",
    "                           verbose=0, \n",
    "                           max_iter=1000)\n",
    "\n",
    "model.fit(X_train, y_train)"
   ]
  },
  {
   "cell_type": "code",
   "execution_count": 58,
   "id": "specified-plaza",
   "metadata": {
    "execution": {
     "iopub.execute_input": "2021-04-16T08:55:35.385551Z",
     "iopub.status.busy": "2021-04-16T08:55:35.384390Z",
     "iopub.status.idle": "2021-04-16T08:55:35.395236Z",
     "shell.execute_reply": "2021-04-16T08:55:35.394268Z"
    },
    "papermill": {
     "duration": 0.116489,
     "end_time": "2021-04-16T08:55:35.395469",
     "exception": false,
     "start_time": "2021-04-16T08:55:35.278980",
     "status": "completed"
    },
    "tags": []
   },
   "outputs": [],
   "source": [
    "# Предсказываем значения валидационной базы\n",
    "Y_predict = model.predict(X_valid)\n",
    "Y_predict_prob = model.predict_proba(X_valid)[:,1]"
   ]
  },
  {
   "cell_type": "code",
   "execution_count": 59,
   "id": "checked-spring",
   "metadata": {
    "execution": {
     "iopub.execute_input": "2021-04-16T08:55:35.650069Z",
     "iopub.status.busy": "2021-04-16T08:55:35.648731Z",
     "iopub.status.idle": "2021-04-16T08:55:35.663372Z",
     "shell.execute_reply": "2021-04-16T08:55:35.662313Z"
    },
    "papermill": {
     "duration": 0.117878,
     "end_time": "2021-04-16T08:55:35.663646",
     "exception": false,
     "start_time": "2021-04-16T08:55:35.545768",
     "status": "completed"
    },
    "tags": []
   },
   "outputs": [],
   "source": [
    "# Предсказываем значения тестовой базы\n",
    "y_pred_test = model.predict(test)\n",
    "y_pred_prob_test = model.predict_proba(test)[:,1]"
   ]
  },
  {
   "cell_type": "markdown",
   "id": "liable-match",
   "metadata": {
    "papermill": {
     "duration": 0.100891,
     "end_time": "2021-04-16T08:55:35.915306",
     "exception": false,
     "start_time": "2021-04-16T08:55:35.814415",
     "status": "completed"
    },
    "tags": []
   },
   "source": [
    "# Предварительные результаты"
   ]
  },
  {
   "cell_type": "code",
   "execution_count": 60,
   "id": "dependent-citizen",
   "metadata": {
    "execution": {
     "iopub.execute_input": "2021-04-16T08:55:36.120882Z",
     "iopub.status.busy": "2021-04-16T08:55:36.120137Z",
     "iopub.status.idle": "2021-04-16T08:55:36.305000Z",
     "shell.execute_reply": "2021-04-16T08:55:36.304357Z"
    },
    "papermill": {
     "duration": 0.29154,
     "end_time": "2021-04-16T08:55:36.305160",
     "exception": false,
     "start_time": "2021-04-16T08:55:36.013620",
     "status": "completed"
    },
    "tags": []
   },
   "outputs": [
    {
     "data": {
      "image/png": "[encoded data removed]",
      "text/plain": [
       "<Figure size 432x288 with 1 Axes>"
      ]
     },
     "metadata": {
      "needs_background": "light"
     },
     "output_type": "display_data"
    }
   ],
   "source": [
    "# Строим ROC-кривую\n",
    "fpr, tpr, threshold = roc_curve(y_valid, Y_predict_prob)\n",
    "roc_auc = roc_auc_score(y_valid, Y_predict_prob)\n",
    "\n",
    "plt.figure()\n",
    "plt.plot([0, 1], label='Baseline', linestyle='--')\n",
    "plt.plot(fpr, tpr, label = 'Regression')\n",
    "plt.title('Logistic Regression ROC AUC = %0.3f' % roc_auc)\n",
    "plt.ylabel('True Positive Rate')\n",
    "plt.xlabel('False Positive Rate')\n",
    "plt.legend(loc = 'lower right')\n",
    "plt.show()"
   ]
  },
  {
   "cell_type": "code",
   "execution_count": 61,
   "id": "connected-eclipse",
   "metadata": {
    "execution": {
     "iopub.execute_input": "2021-04-16T08:55:36.516444Z",
     "iopub.status.busy": "2021-04-16T08:55:36.515655Z",
     "iopub.status.idle": "2021-04-16T08:55:36.890548Z",
     "shell.execute_reply": "2021-04-16T08:55:36.889950Z"
    },
    "papermill": {
     "duration": 0.482517,
     "end_time": "2021-04-16T08:55:36.890714",
     "exception": false,
     "start_time": "2021-04-16T08:55:36.408197",
     "status": "completed"
    },
    "tags": []
   },
   "outputs": [
    {
     "data": {
      "image/png": "[encoded data removed]",
      "text/plain": [
       "<Figure size 432x432 with 2 Axes>"
      ]
     },
     "metadata": {
      "needs_background": "light"
     },
     "output_type": "display_data"
    }
   ],
   "source": [
    "# Выведем confusion_matrix\n",
    "show_confusion_matrix(y_valid, Y_predict)"
   ]
  },
  {
   "cell_type": "code",
   "execution_count": 62,
   "id": "fatal-wrist",
   "metadata": {
    "execution": {
     "iopub.execute_input": "2021-04-16T08:55:37.103471Z",
     "iopub.status.busy": "2021-04-16T08:55:37.102388Z",
     "iopub.status.idle": "2021-04-16T08:55:37.143639Z",
     "shell.execute_reply": "2021-04-16T08:55:37.142358Z"
    },
    "papermill": {
     "duration": 0.14882,
     "end_time": "2021-04-16T08:55:37.143837",
     "exception": false,
     "start_time": "2021-04-16T08:55:36.995017",
     "status": "completed"
    },
    "tags": []
   },
   "outputs": [
    {
     "data": {
      "text/html": [
       "<div>\n",
       "<style scoped>\n",
       "    .dataframe tbody tr th:only-of-type {\n",
       "        vertical-align: middle;\n",
       "    }\n",
       "\n",
       "    .dataframe tbody tr th {\n",
       "        vertical-align: top;\n",
       "    }\n",
       "\n",
       "    .dataframe thead th {\n",
       "        text-align: right;\n",
       "    }\n",
       "</style>\n",
       "<table border=\"1\" class=\"dataframe\">\n",
       "  <thead>\n",
       "    <tr style=\"text-align: right;\">\n",
       "      <th></th>\n",
       "      <th>Value</th>\n",
       "      <th>Description</th>\n",
       "    </tr>\n",
       "  </thead>\n",
       "  <tbody>\n",
       "    <tr>\n",
       "      <th>Positive, P</th>\n",
       "      <td>1827.000000</td>\n",
       "      <td>default</td>\n",
       "    </tr>\n",
       "    <tr>\n",
       "      <th>Negative, N</th>\n",
       "      <td>12933.000000</td>\n",
       "      <td>non-default</td>\n",
       "    </tr>\n",
       "    <tr>\n",
       "      <th>True Positive, TP</th>\n",
       "      <td>1257.000000</td>\n",
       "      <td>correctly identified default</td>\n",
       "    </tr>\n",
       "    <tr>\n",
       "      <th>True Negative, TN</th>\n",
       "      <td>8656.000000</td>\n",
       "      <td>correctly identified non-default</td>\n",
       "    </tr>\n",
       "    <tr>\n",
       "      <th>False Positive, FP</th>\n",
       "      <td>4277.000000</td>\n",
       "      <td>incorrectly identified default</td>\n",
       "    </tr>\n",
       "    <tr>\n",
       "      <th>False Negative, FN</th>\n",
       "      <td>570.000000</td>\n",
       "      <td>incorrectly identified non-default</td>\n",
       "    </tr>\n",
       "    <tr>\n",
       "      <th>Accuracy</th>\n",
       "      <td>0.671612</td>\n",
       "      <td>Accuracy=(TP+TN)/(P+N)</td>\n",
       "    </tr>\n",
       "    <tr>\n",
       "      <th>Precision</th>\n",
       "      <td>0.227141</td>\n",
       "      <td>Precision = TP/(TP+FP)</td>\n",
       "    </tr>\n",
       "    <tr>\n",
       "      <th>Recall</th>\n",
       "      <td>0.688013</td>\n",
       "      <td>Recall = TP/P</td>\n",
       "    </tr>\n",
       "    <tr>\n",
       "      <th>F1-score</th>\n",
       "      <td>0.341530</td>\n",
       "      <td>Harmonical mean of Precision и Recall</td>\n",
       "    </tr>\n",
       "    <tr>\n",
       "      <th>ROC_AUC</th>\n",
       "      <td>0.744760</td>\n",
       "      <td>ROC AUC Score</td>\n",
       "    </tr>\n",
       "  </tbody>\n",
       "</table>\n",
       "</div>"
      ],
      "text/plain": [
       "                           Value                            Description\n",
       "Positive, P          1827.000000                                default\n",
       "Negative, N         12933.000000                            non-default\n",
       "True Positive, TP    1257.000000           correctly identified default\n",
       "True Negative, TN    8656.000000       correctly identified non-default\n",
       "False Positive, FP   4277.000000         incorrectly identified default\n",
       "False Negative, FN    570.000000     incorrectly identified non-default\n",
       "Accuracy                0.671612                 Accuracy=(TP+TN)/(P+N)\n",
       "Precision               0.227141                 Precision = TP/(TP+FP)\n",
       "Recall                  0.688013                          Recall = TP/P\n",
       "F1-score                0.341530  Harmonical mean of Precision и Recall\n",
       "ROC_AUC                 0.744760                          ROC AUC Score"
      ]
     },
     "metadata": {},
     "output_type": "display_data"
    }
   ],
   "source": [
    "# Выведем метрики качества модели\n",
    "all_metrics(y_valid, Y_predict, Y_predict_prob)"
   ]
  },
  {
   "cell_type": "code",
   "execution_count": 63,
   "id": "gothic-namibia",
   "metadata": {
    "execution": {
     "iopub.execute_input": "2021-04-16T08:55:37.360509Z",
     "iopub.status.busy": "2021-04-16T08:55:37.359733Z",
     "iopub.status.idle": "2021-04-16T08:55:38.178052Z",
     "shell.execute_reply": "2021-04-16T08:55:38.178996Z"
    },
    "papermill": {
     "duration": 0.930597,
     "end_time": "2021-04-16T08:55:38.179289",
     "exception": false,
     "start_time": "2021-04-16T08:55:37.248692",
     "status": "completed"
    },
    "tags": []
   },
   "outputs": [],
   "source": [
    "# Обучаем модель на всей обучающей базе\n",
    "main_model = LogisticRegression( \n",
    "                           C=2.7825594022071245, \n",
    "                           class_weight='balanced', \n",
    "                           dual=False, \n",
    "                           fit_intercept=True, \n",
    "                           intercept_scaling=1, \n",
    "                           l1_ratio=None, \n",
    "                           multi_class='auto', \n",
    "                           n_jobs=None, \n",
    "                           penalty='l2', \n",
    "                           solver='liblinear', \n",
    "                           verbose=0, \n",
    "                           max_iter=1000)\n",
    "main_model.fit(X, Y)\n",
    "\n",
    "# Предсказываем значения тестовой базы\n",
    "y_pred_test = main_model.predict(test)\n",
    "y_pred_prob_test = main_model.predict_proba(test)[:,1]"
   ]
  },
  {
   "cell_type": "markdown",
   "id": "recorded-harris",
   "metadata": {
    "papermill": {
     "duration": 0.102896,
     "end_time": "2021-04-16T08:55:38.435722",
     "exception": false,
     "start_time": "2021-04-16T08:55:38.332826",
     "status": "completed"
    },
    "tags": []
   },
   "source": [
    "# Submission"
   ]
  },
  {
   "cell_type": "code",
   "execution_count": 64,
   "id": "figured-shoulder",
   "metadata": {
    "execution": {
     "iopub.execute_input": "2021-04-16T08:55:38.647955Z",
     "iopub.status.busy": "2021-04-16T08:55:38.647258Z",
     "iopub.status.idle": "2021-04-16T08:55:38.799334Z",
     "shell.execute_reply": "2021-04-16T08:55:38.799880Z"
    },
    "papermill": {
     "duration": 0.262005,
     "end_time": "2021-04-16T08:55:38.800080",
     "exception": false,
     "start_time": "2021-04-16T08:55:38.538075",
     "status": "completed"
    },
    "tags": []
   },
   "outputs": [
    {
     "data": {
      "text/html": [
       "<div>\n",
       "<style scoped>\n",
       "    .dataframe tbody tr th:only-of-type {\n",
       "        vertical-align: middle;\n",
       "    }\n",
       "\n",
       "    .dataframe tbody tr th {\n",
       "        vertical-align: top;\n",
       "    }\n",
       "\n",
       "    .dataframe thead th {\n",
       "        text-align: right;\n",
       "    }\n",
       "</style>\n",
       "<table border=\"1\" class=\"dataframe\">\n",
       "  <thead>\n",
       "    <tr style=\"text-align: right;\">\n",
       "      <th></th>\n",
       "      <th>client_id</th>\n",
       "      <th>default</th>\n",
       "    </tr>\n",
       "  </thead>\n",
       "  <tbody>\n",
       "    <tr>\n",
       "      <th>0</th>\n",
       "      <td>74835</td>\n",
       "      <td>0.199839</td>\n",
       "    </tr>\n",
       "    <tr>\n",
       "      <th>1</th>\n",
       "      <td>17527</td>\n",
       "      <td>0.807910</td>\n",
       "    </tr>\n",
       "    <tr>\n",
       "      <th>2</th>\n",
       "      <td>75683</td>\n",
       "      <td>0.287561</td>\n",
       "    </tr>\n",
       "    <tr>\n",
       "      <th>3</th>\n",
       "      <td>26883</td>\n",
       "      <td>0.410884</td>\n",
       "    </tr>\n",
       "    <tr>\n",
       "      <th>4</th>\n",
       "      <td>28862</td>\n",
       "      <td>0.140967</td>\n",
       "    </tr>\n",
       "    <tr>\n",
       "      <th>5</th>\n",
       "      <td>99881</td>\n",
       "      <td>0.603656</td>\n",
       "    </tr>\n",
       "    <tr>\n",
       "      <th>6</th>\n",
       "      <td>26630</td>\n",
       "      <td>0.811613</td>\n",
       "    </tr>\n",
       "    <tr>\n",
       "      <th>7</th>\n",
       "      <td>79934</td>\n",
       "      <td>0.157677</td>\n",
       "    </tr>\n",
       "    <tr>\n",
       "      <th>8</th>\n",
       "      <td>16605</td>\n",
       "      <td>0.142878</td>\n",
       "    </tr>\n",
       "    <tr>\n",
       "      <th>9</th>\n",
       "      <td>105449</td>\n",
       "      <td>0.130743</td>\n",
       "    </tr>\n",
       "  </tbody>\n",
       "</table>\n",
       "</div>"
      ],
      "text/plain": [
       "   client_id   default\n",
       "0      74835  0.199839\n",
       "1      17527  0.807910\n",
       "2      75683  0.287561\n",
       "3      26883  0.410884\n",
       "4      28862  0.140967\n",
       "5      99881  0.603656\n",
       "6      26630  0.811613\n",
       "7      79934  0.157677\n",
       "8      16605  0.142878\n",
       "9     105449  0.130743"
      ]
     },
     "execution_count": 64,
     "metadata": {},
     "output_type": "execute_result"
    }
   ],
   "source": [
    "# Записываем предсказанные моделью вероятности дефолта заемщиков из тестовой базы в отдельный файл\n",
    "new_sample_submission = pd.DataFrame({'client_id': id_test,\n",
    "                              'default': y_pred_prob_test})\n",
    "new_sample_submission.to_csv('submission.csv', index=False)\n",
    "\n",
    "new_sample_submission.head(10)"
   ]
  },
  {
   "cell_type": "code",
   "execution_count": null,
   "id": "interstate-coaching",
   "metadata": {
    "papermill": {
     "duration": 0.136135,
     "end_time": "2021-04-16T08:55:39.080608",
     "exception": false,
     "start_time": "2021-04-16T08:55:38.944473",
     "status": "completed"
    },
    "tags": []
   },
   "outputs": [],
   "source": []
  }
 ],
 "metadata": {
  "kernelspec": {
   "display_name": "Python 3",
   "language": "python",
   "name": "python3"
  },
  "language_info": {
   "codemirror_mode": {
    "name": "ipython",
    "version": 3
   },
   "file_extension": ".py",
   "mimetype": "text/x-python",
   "name": "python",
   "nbconvert_exporter": "python",
   "pygments_lexer": "ipython3",
   "version": "3.7.9"
  },
  "papermill": {
   "default_parameters": {},
   "duration": 94.816329,
   "end_time": "2021-04-16T08:55:40.013690",
   "environment_variables": {},
   "exception": null,
   "input_path": "__notebook__.ipynb",
   "output_path": "__notebook__.ipynb",
   "parameters": {},
   "start_time": "2021-04-16T08:54:05.197361",
   "version": "2.3.2"
  }
 },
 "nbformat": 4,
 "nbformat_minor": 5
}
